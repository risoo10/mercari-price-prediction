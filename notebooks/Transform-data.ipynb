{
 "cells": [
  {
   "cell_type": "markdown",
   "metadata": {},
   "source": [
    "# Transform Data\n",
    "This code transforms data from Pandas HDFStore to simple pytables carray for faster selection from disc during training."
   ]
  },
  {
   "cell_type": "code",
   "execution_count": 7,
   "metadata": {},
   "outputs": [
    {
     "name": "stdout",
     "output_type": "stream",
     "text": [
      "Requirement already up-to-date: pandas in c:\\users\\richard\\appdata\\local\\programs\\python\\python37\\lib\\site-packages (0.24.2)\n",
      "Requirement already satisfied, skipping upgrade: numpy>=1.12.0 in c:\\users\\richard\\appdata\\local\\programs\\python\\python37\\lib\\site-packages (from pandas) (1.16.3)\n",
      "Requirement already satisfied, skipping upgrade: python-dateutil>=2.5.0 in c:\\users\\richard\\appdata\\local\\programs\\python\\python37\\lib\\site-packages (from pandas) (2.8.0)\n",
      "Requirement already satisfied, skipping upgrade: pytz>=2011k in c:\\users\\richard\\appdata\\local\\programs\\python\\python37\\lib\\site-packages (from pandas) (2018.9)\n",
      "Requirement already satisfied, skipping upgrade: six>=1.5 in c:\\users\\richard\\appdata\\local\\programs\\python\\python37\\lib\\site-packages (from python-dateutil>=2.5.0->pandas) (1.12.0)\n"
     ]
    },
    {
     "name": "stderr",
     "output_type": "stream",
     "text": [
      "You are using pip version 18.1, however version 19.1.1 is available.\n",
      "You should consider upgrading via the 'python -m pip install --upgrade pip' command.\n"
     ]
    }
   ],
   "source": [
    "!pip install -U pandas"
   ]
  },
  {
   "cell_type": "code",
   "execution_count": 1,
   "metadata": {},
   "outputs": [],
   "source": [
    "import pandas as pd\n",
    "import tables\n",
    "import os\n",
    "\n",
    "main_dir='../../'"
   ]
  },
  {
   "cell_type": "code",
   "execution_count": null,
   "metadata": {},
   "outputs": [],
   "source": [
    "# x_train_store.close()\n",
    "# x_val_store.close()\n",
    "# x_test_store.close()\n",
    "# y_train_store.close()\n",
    "# y_val_store.close()\n",
    "# y_test_store.close()"
   ]
  },
  {
   "cell_type": "code",
   "execution_count": 2,
   "metadata": {},
   "outputs": [
    {
     "data": {
      "text/plain": [
       "['.ipynb_checkpoints',\n",
       " 'doc2vec',\n",
       " 'doc2vec.zip',\n",
       " 'models',\n",
       " 'Predspracovanie.ipynb',\n",
       " 'Regression.ipynb',\n",
       " 'tensorboard',\n",
       " 'train_data.hdf',\n",
       " 'train_final.h5',\n",
       " 'Transform-data.ipynb',\n",
       " 'Untitled.ipynb',\n",
       " 'validation_final.h5',\n",
       " 'x_test.h5',\n",
       " 'y_test',\n",
       " 'y_test.h5',\n",
       " 'y_train.h5',\n",
       " 'y_validation.h5']"
      ]
     },
     "execution_count": 2,
     "metadata": {},
     "output_type": "execute_result"
    }
   ],
   "source": [
    "os.listdir(main_dir)"
   ]
  },
  {
   "cell_type": "code",
   "execution_count": 14,
   "metadata": {},
   "outputs": [],
   "source": [
    "# x_train_store = pd.read_hdf(f'{main_dir}/train_final.h5', key=\"df\", mode=\"r\")\n",
    "x_val_store = pd.read_hdf(f'{main_dir}/validation_final.h5', key=\"df\", mode=\"r\")\n",
    "# x_test_store = pd.read_hdf(f'{main_dir}/x_test.h5', key=\"df\", mode=\"r\")\n",
    "# y_train_store = pd.read_hdf(f'{main_dir}/y_train.h5', key=\"df\", mode=\"r\")\n",
    "y_val_store = pd.read_hdf(f'{main_dir}/y_validation.h5', key=\"df\", mode=\"r\")\n",
    "# y_test_store = pd.read_hdf(f'{main_dir}/y_test.h5', key=\"df\", mode=\"r\")"
   ]
  },
  {
   "cell_type": "code",
   "execution_count": 20,
   "metadata": {},
   "outputs": [
    {
     "ename": "AttributeError",
     "evalue": "'NoneType' object has no attribute 'shape'",
     "output_type": "error",
     "traceback": [
      "\u001b[1;31m---------------------------------------------------------------------------\u001b[0m",
      "\u001b[1;31mAttributeError\u001b[0m                            Traceback (most recent call last)",
      "\u001b[1;32m<ipython-input-20-d0d9c13a4a4c>\u001b[0m in \u001b[0;36m<module>\u001b[1;34m\u001b[0m\n\u001b[1;32m----> 1\u001b[1;33m \u001b[0mprint\u001b[0m\u001b[1;33m(\u001b[0m\u001b[0mx_val_store\u001b[0m\u001b[1;33m.\u001b[0m\u001b[0mshape\u001b[0m\u001b[1;33m)\u001b[0m\u001b[1;33m\u001b[0m\u001b[1;33m\u001b[0m\u001b[0m\n\u001b[0m\u001b[0;32m      2\u001b[0m \u001b[0mprint\u001b[0m\u001b[1;33m(\u001b[0m\u001b[0my_val_store\u001b[0m\u001b[1;33m.\u001b[0m\u001b[0mshape\u001b[0m\u001b[1;33m)\u001b[0m\u001b[1;33m\u001b[0m\u001b[1;33m\u001b[0m\u001b[0m\n",
      "\u001b[1;31mAttributeError\u001b[0m: 'NoneType' object has no attribute 'shape'"
     ]
    }
   ],
   "source": [
    "print(x_val_store.shape)\n",
    "print(y_val_store.shape)"
   ]
  },
  {
   "cell_type": "code",
   "execution_count": 16,
   "metadata": {},
   "outputs": [],
   "source": [
    "x = x_val_store.values\n",
    "y = y_val_store.values"
   ]
  },
  {
   "cell_type": "code",
   "execution_count": 22,
   "metadata": {},
   "outputs": [
    {
     "data": {
      "text/plain": [
       "(dtype('float64'), dtype('float64'), (160000, 2980), (160000, 1))"
      ]
     },
     "execution_count": 22,
     "metadata": {},
     "output_type": "execute_result"
    }
   ],
   "source": [
    "y.dtype, x.dtype, x.shape, y.shape"
   ]
  },
  {
   "cell_type": "code",
   "execution_count": 18,
   "metadata": {},
   "outputs": [],
   "source": [
    "x_val_store = None\n",
    "y_val_store = None"
   ]
  },
  {
   "cell_type": "code",
   "execution_count": 46,
   "metadata": {},
   "outputs": [],
   "source": [
    "x = None\n",
    "y = None"
   ]
  },
  {
   "cell_type": "code",
   "execution_count": 53,
   "metadata": {},
   "outputs": [],
   "source": [
    "test_file.close()"
   ]
  },
  {
   "cell_type": "code",
   "execution_count": 19,
   "metadata": {},
   "outputs": [],
   "source": [
    "# Save to pytable\n",
    "test_file = tables.open_file(\"ceval.h5\", mode=\"w\")\n",
    "x_atom = tables.Atom.from_dtype(x.dtype)\n",
    "filters = tables.Filters(complib='blosc', complevel=5)\n",
    "x_array = test_file.create_carray(\"/\", \"x\", x_atom, x.shape, filters=filters)\n",
    "y_atom = tables.Atom.from_dtype(y.dtype)\n",
    "y_array = test_file.create_carray(\"/\", \"y\", y_atom, y.shape, filters=filters)"
   ]
  },
  {
   "cell_type": "code",
   "execution_count": 23,
   "metadata": {},
   "outputs": [],
   "source": [
    "x_array[:] = x\n",
    "y_array[:] = y"
   ]
  },
  {
   "cell_type": "code",
   "execution_count": 24,
   "metadata": {},
   "outputs": [],
   "source": [
    "test_file.close()"
   ]
  },
  {
   "cell_type": "code",
   "execution_count": null,
   "metadata": {},
   "outputs": [],
   "source": []
  }
 ],
 "metadata": {
  "kernelspec": {
   "display_name": "Python 3",
   "language": "python",
   "name": "python3"
  },
  "language_info": {
   "codemirror_mode": {
    "name": "ipython",
    "version": 3
   },
   "file_extension": ".py",
   "mimetype": "text/x-python",
   "name": "python",
   "nbconvert_exporter": "python",
   "pygments_lexer": "ipython3",
   "version": "3.7.3"
  }
 },
 "nbformat": 4,
 "nbformat_minor": 2
}
