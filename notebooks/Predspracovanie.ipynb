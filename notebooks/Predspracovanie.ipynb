{
 "cells": [
  {
   "cell_type": "code",
   "execution_count": 3,
   "metadata": {},
   "outputs": [],
   "source": [
    "import pandas as pd\n",
    "import swifter\n",
    "import numpy as np\n",
    "import matplotlib.pyplot as plt\n",
    "import random\n",
    "from tqdm import tqdm\n",
    "from sklearn.model_selection import train_test_split\n",
    "%matplotlib inline\n",
    "import h5py"
   ]
  },
  {
   "cell_type": "code",
   "execution_count": 2,
   "metadata": {},
   "outputs": [],
   "source": [
    "%load_ext Cython"
   ]
  },
  {
   "cell_type": "code",
   "execution_count": 81,
   "metadata": {},
   "outputs": [
    {
     "name": "stdout",
     "output_type": "stream",
     "text": [
      "Requirement already up-to-date: tables in c:\\users\\richard\\appdata\\local\\programs\\python\\python37\\lib\\site-packages (3.5.1)\n",
      "Collecting numpy\n",
      "  Downloading https://files.pythonhosted.org/packages/4e/9d/c129d78e6b942303b762ccfdf1f8339de80c5e6021b14ef0c99ec5bdc6aa/numpy-1.16.3-cp37-cp37m-win_amd64.whl (11.9MB)\n",
      "Requirement already up-to-date: h5py in c:\\users\\richard\\appdata\\local\\programs\\python\\python37\\lib\\site-packages (2.9.0)\n",
      "Requirement already satisfied, skipping upgrade: numexpr>=2.6.2 in c:\\users\\richard\\appdata\\local\\programs\\python\\python37\\lib\\site-packages (from tables) (2.6.9)\n",
      "Requirement already satisfied, skipping upgrade: mock>=2.0 in c:\\users\\richard\\appdata\\local\\programs\\python\\python37\\lib\\site-packages (from tables) (2.0.0)\n",
      "Requirement already satisfied, skipping upgrade: six>=1.9.0 in c:\\users\\richard\\appdata\\local\\programs\\python\\python37\\lib\\site-packages (from tables) (1.12.0)\n",
      "Requirement already satisfied, skipping upgrade: pbr>=0.11 in c:\\users\\richard\\appdata\\local\\programs\\python\\python37\\lib\\site-packages (from mock>=2.0->tables) (5.1.3)\n",
      "Installing collected packages: numpy\n",
      "  Found existing installation: numpy 1.15.4\n",
      "    Uninstalling numpy-1.15.4:\n",
      "      Successfully uninstalled numpy-1.15.4\n"
     ]
    },
    {
     "name": "stderr",
     "output_type": "stream",
     "text": [
      "Could not install packages due to an EnvironmentError: [WinError 5] Access is denied: 'C:\\\\Users\\\\Richard\\\\AppData\\\\Local\\\\Temp\\\\pip-uninstall-k5ga3u1q\\\\users\\\\richard\\\\appdata\\\\local\\\\programs\\\\python\\\\python37\\\\lib\\\\site-packages\\\\numpy\\\\.libs\\\\libopenblas.csrrd7hkrkc3t3yxa7vy7tazglswdkw6.gfortran-win_amd64.dll'\n",
      "Consider using the `--user` option or check the permissions.\n",
      "\n",
      "You are using pip version 18.1, however version 19.1 is available.\n",
      "You should consider upgrading via the 'python -m pip install --upgrade pip' command.\n"
     ]
    }
   ],
   "source": [
    "!pip install -U tables numpy h5py"
   ]
  },
  {
   "cell_type": "code",
   "execution_count": 5,
   "metadata": {},
   "outputs": [
    {
     "name": "stdout",
     "output_type": "stream",
     "text": [
      "(800000, 2855)\n"
     ]
    },
    {
     "data": {
      "text/plain": [
       "array(['price', 'shipping', 'item_description', ...,\n",
       "       '2_category_Yoga & Pilates', '2_category_iPad', '2_category_nan'],\n",
       "      dtype=object)"
      ]
     },
     "execution_count": 5,
     "metadata": {},
     "output_type": "execute_result"
    }
   ],
   "source": [
    "data = pd.read_hdf('../data/train_encoded.h5', key=\"df\", mode=\"r\")\n",
    "data.set_index('train_id', inplace=True)\n",
    "# data = data.iloc[:600000]\n",
    "\n",
    "# print(test_data.shape)\n",
    "print(data.shape)\n",
    "# print(stg2_data.shape)\n",
    "\n",
    "data['item_description'].fillna(\"\", inplace=True)\n",
    "data.columns.values"
   ]
  },
  {
   "cell_type": "code",
   "execution_count": 6,
   "metadata": {},
   "outputs": [
    {
     "data": {
      "text/plain": [
       "<matplotlib.axes._subplots.AxesSubplot at 0x284cbcbfa58>"
      ]
     },
     "execution_count": 6,
     "metadata": {},
     "output_type": "execute_result"
    },
    {
     "data": {
      "image/png": "[encoded data removed]",
      "text/plain": [
       "<Figure size 432x288 with 1 Axes>"
      ]
     },
     "metadata": {
      "needs_background": "light"
     },
     "output_type": "display_data"
    }
   ],
   "source": [
    "data[\"price\"].plot.hist(bins=100)"
   ]
  },
  {
   "cell_type": "code",
   "execution_count": 7,
   "metadata": {},
   "outputs": [
    {
     "name": "stderr",
     "output_type": "stream",
     "text": [
      "c:\\users\\richard\\appdata\\local\\programs\\python\\python37\\lib\\site-packages\\ipykernel_launcher.py:1: RuntimeWarning: divide by zero encountered in log\n",
      "  \"\"\"Entry point for launching an IPython kernel.\n"
     ]
    },
    {
     "data": {
      "image/png": "[encoded data removed]",
      "text/plain": [
       "<Figure size 432x288 with 1 Axes>"
      ]
     },
     "metadata": {
      "needs_background": "light"
     },
     "output_type": "display_data"
    }
   ],
   "source": [
    "data[\"log_price\"] = np.where(data[\"price\"] == 0, 0, np.log(data[\"price\"]))\n",
    "data[\"log_price\"].plot.hist(bins=100)\n",
    "data[\"price_cat\"] = pd.cut(data[\"log_price\"], 6)"
   ]
  },
  {
   "cell_type": "markdown",
   "metadata": {},
   "source": [
    "### One hot encoding of the categories, brand name, item condition"
   ]
  },
  {
   "cell_type": "code",
   "execution_count": 8,
   "metadata": {},
   "outputs": [],
   "source": [
    "# # item_condition_id\n",
    "# encoded_item_condition_id = pd.get_dummies(data[\"item_condition_id\"], prefix=\"item_condition_id\", dummy_na=True)\n",
    "# data = pd.concat([data, encoded_item_condition_id], axis=1)\n",
    "# data = data.drop(\"item_condition_id\", axis=1)\n",
    "# print(\"Encoded  ...  item_condition_id \")\n",
    "\n",
    "# # brand_name\n",
    "# encoded_brand_name = pd.get_dummies(data[\"brand_name\"], prefix=\"brand_name\", dummy_na=True)\n",
    "# data = pd.concat([data, encoded_brand_name], axis=1)\n",
    "# data = data.drop(\"brand_name\", axis=1)\n",
    "# print(\"Encoded  ...  brand_name \")\n",
    "\n",
    "# # 0_category\n",
    "# encoded_category_0 = pd.get_dummies(data[\"0_category\"], prefix=\"0_category\", dummy_na=True)\n",
    "# data = pd.concat([data, encoded_category_0], axis=1)\n",
    "# data = data.drop(\"0_category\", axis=1)\n",
    "# print(\"Encoded  ...  0_category \")\n",
    "\n",
    "# # 1_category\n",
    "# encoded_category_1 = pd.get_dummies(data[\"1_category\"], prefix=\"1_category\", dummy_na=True)\n",
    "# data = pd.concat([data, encoded_category_1], axis=1)\n",
    "# data = data.drop(\"1_category\", axis=1)\n",
    "# print(\"Encoded  ...  1_category \")\n",
    "\n",
    "# # 2_category\n",
    "# encoded_category_2 = pd.get_dummies(data[\"2_category\"], prefix=\"2_category\", dummy_na=True)\n",
    "# data = pd.concat([data, encoded_category_2], axis=1)\n",
    "# data = data.drop(\"2_category\", axis=1)\n",
    "# print(\"Encoded  ...  2_category \")\n",
    "\n",
    "# data.head()"
   ]
  },
  {
   "cell_type": "code",
   "execution_count": 9,
   "metadata": {},
   "outputs": [],
   "source": [
    "X_train, X_test, y_train, y_test = train_test_split(data.drop(\"price\", axis=1), data[\"price\"], stratify=data[\"price_cat\"], test_size=0.2, random_state=0)"
   ]
  },
  {
   "cell_type": "code",
   "execution_count": 10,
   "metadata": {},
   "outputs": [
    {
     "data": {
      "text/plain": [
       "<matplotlib.axes._subplots.AxesSubplot at 0x284975b8dd8>"
      ]
     },
     "execution_count": 10,
     "metadata": {},
     "output_type": "execute_result"
    },
    {
     "data": {
      "image/png": "[encoded data removed]",
      "text/plain": [
       "<Figure size 1440x720 with 1 Axes>"
      ]
     },
     "metadata": {
      "needs_background": "light"
     },
     "output_type": "display_data"
    }
   ],
   "source": [
    "plt.figure(figsize=(20, 10))\n",
    "X_train[\"log_price\"].plot.hist(bins=100)\n",
    "# print(X_train.describe())\n",
    "X_test[\"log_price\"].plot.hist(bins=100)\n",
    "# print(X_test.describe())"
   ]
  },
  {
   "cell_type": "code",
   "execution_count": 31,
   "metadata": {},
   "outputs": [
    {
     "data": {
      "text/html": [
       "<div>\n",
       "<style scoped>\n",
       "    .dataframe tbody tr th:only-of-type {\n",
       "        vertical-align: middle;\n",
       "    }\n",
       "\n",
       "    .dataframe tbody tr th {\n",
       "        vertical-align: top;\n",
       "    }\n",
       "\n",
       "    .dataframe thead th {\n",
       "        text-align: right;\n",
       "    }\n",
       "</style>\n",
       "<table border=\"1\" class=\"dataframe\">\n",
       "  <thead>\n",
       "    <tr style=\"text-align: right;\">\n",
       "      <th></th>\n",
       "      <th>shipping</th>\n",
       "      <th>item_description</th>\n",
       "      <th>name_and_brand</th>\n",
       "      <th>item_condition_id_1.0</th>\n",
       "      <th>item_condition_id_2.0</th>\n",
       "      <th>item_condition_id_3.0</th>\n",
       "      <th>item_condition_id_4.0</th>\n",
       "      <th>item_condition_id_5.0</th>\n",
       "      <th>item_condition_id_nan</th>\n",
       "      <th>brand_name_% Pure</th>\n",
       "      <th>...</th>\n",
       "      <th>2_category_Work &amp; Safety</th>\n",
       "      <th>2_category_Wrap</th>\n",
       "      <th>2_category_Wristlet</th>\n",
       "      <th>2_category_Writing</th>\n",
       "      <th>2_category_Yarn</th>\n",
       "      <th>2_category_Yoga &amp; Pilates</th>\n",
       "      <th>2_category_iPad</th>\n",
       "      <th>2_category_nan</th>\n",
       "      <th>log_price</th>\n",
       "      <th>price_cat</th>\n",
       "    </tr>\n",
       "    <tr>\n",
       "      <th>train_id</th>\n",
       "      <th></th>\n",
       "      <th></th>\n",
       "      <th></th>\n",
       "      <th></th>\n",
       "      <th></th>\n",
       "      <th></th>\n",
       "      <th></th>\n",
       "      <th></th>\n",
       "      <th></th>\n",
       "      <th></th>\n",
       "      <th></th>\n",
       "      <th></th>\n",
       "      <th></th>\n",
       "      <th></th>\n",
       "      <th></th>\n",
       "      <th></th>\n",
       "      <th></th>\n",
       "      <th></th>\n",
       "      <th></th>\n",
       "      <th></th>\n",
       "      <th></th>\n",
       "    </tr>\n",
       "  </thead>\n",
       "  <tbody>\n",
       "    <tr>\n",
       "      <th>734747</th>\n",
       "      <td>1</td>\n",
       "      <td>Super Nintendo Dracula Works n ready to be play</td>\n",
       "      <td>Dracula snes Nintendo</td>\n",
       "      <td>0</td>\n",
       "      <td>0</td>\n",
       "      <td>1</td>\n",
       "      <td>0</td>\n",
       "      <td>0</td>\n",
       "      <td>0</td>\n",
       "      <td>0</td>\n",
       "      <td>...</td>\n",
       "      <td>0</td>\n",
       "      <td>0</td>\n",
       "      <td>0</td>\n",
       "      <td>0</td>\n",
       "      <td>0</td>\n",
       "      <td>0</td>\n",
       "      <td>0</td>\n",
       "      <td>0</td>\n",
       "      <td>2.708050</td>\n",
       "      <td>(2.535, 3.803]</td>\n",
       "    </tr>\n",
       "    <tr>\n",
       "      <th>591923</th>\n",
       "      <td>0</td>\n",
       "      <td>New with tags Not forever 21, Zara, American a...</td>\n",
       "      <td>Black waterfall trench H&amp;M</td>\n",
       "      <td>1</td>\n",
       "      <td>0</td>\n",
       "      <td>0</td>\n",
       "      <td>0</td>\n",
       "      <td>0</td>\n",
       "      <td>0</td>\n",
       "      <td>0</td>\n",
       "      <td>...</td>\n",
       "      <td>0</td>\n",
       "      <td>0</td>\n",
       "      <td>0</td>\n",
       "      <td>0</td>\n",
       "      <td>0</td>\n",
       "      <td>0</td>\n",
       "      <td>0</td>\n",
       "      <td>0</td>\n",
       "      <td>2.772589</td>\n",
       "      <td>(2.535, 3.803]</td>\n",
       "    </tr>\n",
       "    <tr>\n",
       "      <th>741644</th>\n",
       "      <td>1</td>\n",
       "      <td>All 3 for only 15$</td>\n",
       "      <td>iPhone 3ft+6ft+10ft USB charger cables Unknown</td>\n",
       "      <td>1</td>\n",
       "      <td>0</td>\n",
       "      <td>0</td>\n",
       "      <td>0</td>\n",
       "      <td>0</td>\n",
       "      <td>0</td>\n",
       "      <td>0</td>\n",
       "      <td>...</td>\n",
       "      <td>0</td>\n",
       "      <td>0</td>\n",
       "      <td>0</td>\n",
       "      <td>0</td>\n",
       "      <td>0</td>\n",
       "      <td>0</td>\n",
       "      <td>0</td>\n",
       "      <td>0</td>\n",
       "      <td>2.708050</td>\n",
       "      <td>(2.535, 3.803]</td>\n",
       "    </tr>\n",
       "    <tr>\n",
       "      <th>636883</th>\n",
       "      <td>1</td>\n",
       "      <td>Lularoe classic tee xs with vintage look. Unwo...</td>\n",
       "      <td>Lularoe classic tee xs Unknown</td>\n",
       "      <td>0</td>\n",
       "      <td>1</td>\n",
       "      <td>0</td>\n",
       "      <td>0</td>\n",
       "      <td>0</td>\n",
       "      <td>0</td>\n",
       "      <td>0</td>\n",
       "      <td>...</td>\n",
       "      <td>0</td>\n",
       "      <td>0</td>\n",
       "      <td>0</td>\n",
       "      <td>0</td>\n",
       "      <td>0</td>\n",
       "      <td>0</td>\n",
       "      <td>0</td>\n",
       "      <td>0</td>\n",
       "      <td>3.091042</td>\n",
       "      <td>(2.535, 3.803]</td>\n",
       "    </tr>\n",
       "    <tr>\n",
       "      <th>697596</th>\n",
       "      <td>1</td>\n",
       "      <td>New with tags</td>\n",
       "      <td>New Tom Brady Super Bowl Patriots Jersey Nike</td>\n",
       "      <td>1</td>\n",
       "      <td>0</td>\n",
       "      <td>0</td>\n",
       "      <td>0</td>\n",
       "      <td>0</td>\n",
       "      <td>0</td>\n",
       "      <td>0</td>\n",
       "      <td>...</td>\n",
       "      <td>0</td>\n",
       "      <td>0</td>\n",
       "      <td>0</td>\n",
       "      <td>0</td>\n",
       "      <td>0</td>\n",
       "      <td>0</td>\n",
       "      <td>0</td>\n",
       "      <td>0</td>\n",
       "      <td>4.007333</td>\n",
       "      <td>(3.803, 5.07]</td>\n",
       "    </tr>\n",
       "  </tbody>\n",
       "</table>\n",
       "<p>5 rows × 2856 columns</p>\n",
       "</div>"
      ],
      "text/plain": [
       "          shipping                                   item_description  \\\n",
       "train_id                                                                \n",
       "734747           1    Super Nintendo Dracula Works n ready to be play   \n",
       "591923           0  New with tags Not forever 21, Zara, American a...   \n",
       "741644           1                                 All 3 for only 15$   \n",
       "636883           1  Lularoe classic tee xs with vintage look. Unwo...   \n",
       "697596           1                                      New with tags   \n",
       "\n",
       "                                          name_and_brand  \\\n",
       "train_id                                                   \n",
       "734747                             Dracula snes Nintendo   \n",
       "591923                        Black waterfall trench H&M   \n",
       "741644    iPhone 3ft+6ft+10ft USB charger cables Unknown   \n",
       "636883                    Lularoe classic tee xs Unknown   \n",
       "697596     New Tom Brady Super Bowl Patriots Jersey Nike   \n",
       "\n",
       "          item_condition_id_1.0  item_condition_id_2.0  item_condition_id_3.0  \\\n",
       "train_id                                                                        \n",
       "734747                        0                      0                      1   \n",
       "591923                        1                      0                      0   \n",
       "741644                        1                      0                      0   \n",
       "636883                        0                      1                      0   \n",
       "697596                        1                      0                      0   \n",
       "\n",
       "          item_condition_id_4.0  item_condition_id_5.0  item_condition_id_nan  \\\n",
       "train_id                                                                        \n",
       "734747                        0                      0                      0   \n",
       "591923                        0                      0                      0   \n",
       "741644                        0                      0                      0   \n",
       "636883                        0                      0                      0   \n",
       "697596                        0                      0                      0   \n",
       "\n",
       "          brand_name_% Pure       ...        2_category_Work & Safety  \\\n",
       "train_id                          ...                                   \n",
       "734747                    0       ...                               0   \n",
       "591923                    0       ...                               0   \n",
       "741644                    0       ...                               0   \n",
       "636883                    0       ...                               0   \n",
       "697596                    0       ...                               0   \n",
       "\n",
       "          2_category_Wrap  2_category_Wristlet  2_category_Writing  \\\n",
       "train_id                                                             \n",
       "734747                  0                    0                   0   \n",
       "591923                  0                    0                   0   \n",
       "741644                  0                    0                   0   \n",
       "636883                  0                    0                   0   \n",
       "697596                  0                    0                   0   \n",
       "\n",
       "          2_category_Yarn  2_category_Yoga & Pilates  2_category_iPad  \\\n",
       "train_id                                                                \n",
       "734747                  0                          0                0   \n",
       "591923                  0                          0                0   \n",
       "741644                  0                          0                0   \n",
       "636883                  0                          0                0   \n",
       "697596                  0                          0                0   \n",
       "\n",
       "          2_category_nan  log_price       price_cat  \n",
       "train_id                                             \n",
       "734747                 0   2.708050  (2.535, 3.803]  \n",
       "591923                 0   2.772589  (2.535, 3.803]  \n",
       "741644                 0   2.708050  (2.535, 3.803]  \n",
       "636883                 0   3.091042  (2.535, 3.803]  \n",
       "697596                 0   4.007333   (3.803, 5.07]  \n",
       "\n",
       "[5 rows x 2856 columns]"
      ]
     },
     "execution_count": 31,
     "metadata": {},
     "output_type": "execute_result"
    }
   ],
   "source": [
    "# data = X_train\n",
    "data = X_test\n",
    "data.head()"
   ]
  },
  {
   "cell_type": "markdown",
   "metadata": {},
   "source": [
    "## Predspracovanie"
   ]
  },
  {
   "cell_type": "markdown",
   "metadata": {},
   "source": [
    "### Separate Category to 3 categories"
   ]
  },
  {
   "cell_type": "code",
   "execution_count": null,
   "metadata": {},
   "outputs": [],
   "source": [
    "category_path_max = 3\n",
    "data['categories'] = data['category_name'].apply(lambda x: x.split('/') if isinstance(x, str) else [np.nan,np.nan,np.nan])\n",
    "for i in range(category_path_max):\n",
    "  data[str(i) + '_category'] = data['categories'].apply(lambda x: x[i] if len(x) > i else np.nan)\n",
    "\n",
    "data = data.drop(['categories', 'category_name'], 1)\n",
    "data.head()"
   ]
  },
  {
   "cell_type": "markdown",
   "metadata": {},
   "source": [
    "### Brand name - all less than 4 appearances is other, combine with name"
   ]
  },
  {
   "cell_type": "code",
   "execution_count": 9,
   "metadata": {},
   "outputs": [],
   "source": [
    "data[\"brand_name\"] = data[\"brand_name\"].fillna(\"Unknown\")\n",
    "data[\"name_and_brand\"] = data[\"name\"].map(str) + ' ' + data[\"brand_name\"].map(str)"
   ]
  },
  {
   "cell_type": "code",
   "execution_count": 10,
   "metadata": {},
   "outputs": [
    {
     "data": {
      "image/png": "[encoded data removed]",
      "text/plain": [
       "<Figure size 432x288 with 1 Axes>"
      ]
     },
     "metadata": {
      "needs_background": "light"
     },
     "output_type": "display_data"
    }
   ],
   "source": [
    "plt.hist(data[\"brand_name\"].value_counts(), bins=200)\n",
    "plt.show()"
   ]
  },
  {
   "cell_type": "code",
   "execution_count": 11,
   "metadata": {},
   "outputs": [
    {
     "data": {
      "text/plain": [
       "3708"
      ]
     },
     "execution_count": 11,
     "metadata": {},
     "output_type": "execute_result"
    }
   ],
   "source": [
    "vc = data[\"brand_name\"].value_counts() < 5\n",
    "mask = pd.DataFrame(vc[vc])\n",
    "data.loc[data[\"brand_name\"].isin(mask.index), \"brand_name\"] = \"Other\"\n",
    "\n",
    "\n",
    "data[\"brand_name\"].value_counts()[\"Other\"]"
   ]
  },
  {
   "cell_type": "code",
   "execution_count": 12,
   "metadata": {},
   "outputs": [
    {
     "data": {
      "image/png": "[encoded data removed]",
      "text/plain": [
       "<Figure size 432x288 with 1 Axes>"
      ]
     },
     "metadata": {
      "needs_background": "light"
     },
     "output_type": "display_data"
    }
   ],
   "source": [
    "plt.hist(data[\"brand_name\"].value_counts(), bins=200)\n",
    "plt.show()"
   ]
  },
  {
   "cell_type": "markdown",
   "metadata": {},
   "source": [
    "### Brand name vectorized using Doc2Vec"
   ]
  },
  {
   "cell_type": "code",
   "execution_count": 13,
   "metadata": {},
   "outputs": [
    {
     "name": "stderr",
     "output_type": "stream",
     "text": [
      "[nltk_data] Downloading package punkt to\n",
      "[nltk_data]     C:\\Users\\Richard\\AppData\\Roaming\\nltk_data...\n",
      "[nltk_data]   Package punkt is already up-to-date!\n"
     ]
    },
    {
     "data": {
      "text/plain": [
       "True"
      ]
     },
     "execution_count": 13,
     "metadata": {},
     "output_type": "execute_result"
    }
   ],
   "source": [
    "import nltk\n",
    "from nltk.stem.porter import PorterStemmer\n",
    "from nltk.tokenize import sent_tokenize, word_tokenize, ToktokTokenizer\n",
    "from sklearn.metrics.pairwise import cosine_similarity\n",
    "\n",
    "nltk.download(\"punkt\")"
   ]
  },
  {
   "cell_type": "code",
   "execution_count": 14,
   "metadata": {},
   "outputs": [],
   "source": [
    "import re\n",
    "\n",
    "TOKEN_PATTERN = (\n",
    "            r'(?u)('\n",
    "            r'\"|'  # for inches\n",
    "            r'\\&|'  # & (e.g. in H&M)\n",
    "            r'!+|'  # !\n",
    "            r'\\.\\d+\\b|'  # .25\n",
    "            r'\\b\\d+\\/\\d+\\b|'  # 1/2\n",
    "            r'\\b\\d+\\.?\\d*\\%|'  # 100.1%\n",
    "            r'\\b\\d+\\.?\\d*\\b|'  # 0.25\n",
    "            r'[\\:\\;\\%][\\)\\(]|'  # TODO more smilies\n",
    "            r'[' + ''.join([\n",
    "        '•', '❤', '✨', '$', '❌', '♡', '☆', '✔', '⭐',\n",
    "        '✅', '⚡', '‼', '—', '▪', '❗', '■', '●', '➡',\n",
    "        '⛔', '♦', '〰', '×', '⚠', '°', '♥', '★', '®', '·', '☺', '–', '➖',\n",
    "        '✴', '❣', '⚫', '✳', '➕', '™', 'ᴇ', '》', '✖', '▫', '¤',\n",
    "        '⬆', '⃣', 'ᴀ', '❇', 'ᴏ', '《', '☞', '❄', '»', 'ô', '❎', 'ɴ', '⭕', 'ᴛ',\n",
    "        '◇', 'ɪ', '½', 'ʀ', '❥', '⚜', '⋆', '⏺', '❕', 'ꕥ', '：', '◆', '✽',\n",
    "        '…', '☑', '︎', '═', '▶', '⬇', 'ʟ', '！', '✈', '�', '☀', 'ғ',\n",
    "    ]) + ']|'  # various symbols\n",
    "         r'\\b\\w+\\b'  # word\n",
    "         r')')\n",
    "\n",
    "ps = PorterStemmer()\n",
    "WORD = re.compile(TOKEN_PATTERN)\n",
    "\n",
    "def tokenize(x):    \n",
    "    words = WORD.findall(x)\n",
    "    res = []\n",
    "    for word in words:\n",
    "        res.append(ps.stem(word))\n",
    "    return res\n"
   ]
  },
  {
   "cell_type": "code",
   "execution_count": 32,
   "metadata": {},
   "outputs": [
    {
     "name": "stdout",
     "output_type": "stream",
     "text": [
      "Tokenizing ITEM_DESCRIPTION\n"
     ]
    },
    {
     "name": "stderr",
     "output_type": "stream",
     "text": [
      "100%|███████████████████████████████████████████████████████████████████████████████████████████████████████████████████████████████████████████████████████████| 160000/160000 [01:58<00:00, 1354.31it/s]\n"
     ]
    }
   ],
   "source": [
    "from gensim.models.doc2vec import Doc2Vec, TaggedDocument\n",
    "from gensim.test.utils import get_tmpfile\n",
    "\n",
    "documents = []\n",
    "i = 0\n",
    "\n",
    "def process(x, pbar):\n",
    "    global documents, i\n",
    "    res = tokenize(x)\n",
    "    documents.append(TaggedDocument(words=res, tags=[i]))\n",
    "    i += 1\n",
    "    pbar.update(1)\n",
    "    return res\n",
    "    \n",
    "print('Tokenizing ITEM_DESCRIPTION')\n",
    "with tqdm(total=data.shape[0], mininterval=30) as pbar:\n",
    "    data[\"item_descriptions\"] = data[\"item_description\"].apply(lambda x: process(x, pbar))\n"
   ]
  },
  {
   "cell_type": "code",
   "execution_count": 33,
   "metadata": {},
   "outputs": [
    {
     "name": "stdout",
     "output_type": "stream",
     "text": [
      "Tokenizing BRAND_NAME\n"
     ]
    },
    {
     "name": "stderr",
     "output_type": "stream",
     "text": [
      "100%|███████████████████████████████████████████████████████████████████████████████████████████████████████████████████████████████████████████████████████████| 160000/160000 [00:24<00:00, 6403.71it/s]\n"
     ]
    }
   ],
   "source": [
    "print('Tokenizing BRAND_NAME')\n",
    "with tqdm(total=data.shape[0], mininterval=30) as pbar:\n",
    "    data[\"name_and_brand_t\"] = data[\"name_and_brand\"].apply(lambda x: process(x, pbar))\n"
   ]
  },
  {
   "cell_type": "code",
   "execution_count": 20,
   "metadata": {},
   "outputs": [
    {
     "name": "stdout",
     "output_type": "stream",
     "text": [
      "2372056\n"
     ]
    },
    {
     "data": {
      "text/plain": [
       "[TaggedDocument(words=['_brand', 'new', 'and', 'unworn', '!!', '_cute', 'totoro', 'design', 'on', 'the', 'front', '_ha', 'cute', 'totoro', 'ear', 'on', 'the', 'hoodi'], tags=[0]),\n",
       " TaggedDocument(words=['brand', 'new', 'never', 'worn', 'veri', 'pretti', 'for', 'a', 'sporti', 'girl', 'sold', 'for', '40.00', 'set', 'up', 'and', 'work', 'perfect'], tags=[1]),\n",
       " TaggedDocument(words=['lularo', 'one', 'size', 'leg', 'excel', 'use', 'condit', 'wash', 'and', 'hung', 'to', 'dri', 'accord', 'to', 'llr', 'standard', 'I', 'm', 'open', 'to', 'offer', 'and', 'also', 'have', 'free', 'ship'], tags=[2]),\n",
       " TaggedDocument(words=['worn', 'twice', 'they', 'are', 'too', 'big', 'on', 'me', 'need', 'to', 'go', 'a', 'size', 'or', 'two', 'down', 'perfect', 'condit', 'paid', '110', 'with', 'ship', 'for', 'these', 'no', 'lowbal', 'pleas'], tags=[3]),\n",
       " TaggedDocument(words=['color', 'splash', 'didn', 't', 'work', 'for', 'me'], tags=[4])]"
      ]
     },
     "execution_count": 20,
     "metadata": {},
     "output_type": "execute_result"
    }
   ],
   "source": [
    "print(len(documents))\n",
    "documents[:5]"
   ]
  },
  {
   "cell_type": "code",
   "execution_count": 310,
   "metadata": {},
   "outputs": [],
   "source": [
    "start_alpha = 0.025\n",
    "min_alpha = 0.008\n",
    "epochs = 20\n",
    "vector_size = 64\n",
    "step = (start_alpha - min_alpha) / epochs\n",
    "\n",
    "model = Doc2Vec(alpha=start_alpha, min_alpha=start_alpha, vector_size=vector_size, window=7, workers=4)  # use fixed learning rate\n",
    "model.build_vocab(documents)"
   ]
  },
  {
   "cell_type": "code",
   "execution_count": 320,
   "metadata": {},
   "outputs": [],
   "source": [
    "model.alpha = 0.025\n",
    "epochs = 10"
   ]
  },
  {
   "cell_type": "code",
   "execution_count": null,
   "metadata": {},
   "outputs": [],
   "source": [
    "for epoch in tqdm(range(epochs)):\n",
    "    model.train(documents, total_examples=model.corpus_count, epochs=1)\n",
    "    model.alpha -= step  # decrease the learning rate\n",
    "    model.min_alpha = model.alpha  # fix the learning rate, no decay\n",
    "    print(f'Epoch {epoch} finished. Alpha: {model.alpha}')"
   ]
  },
  {
   "cell_type": "code",
   "execution_count": 347,
   "metadata": {},
   "outputs": [],
   "source": [
    "model.save(\"doc2vec/doc2vec-30ep.mdl\")"
   ]
  },
  {
   "cell_type": "code",
   "execution_count": 17,
   "metadata": {},
   "outputs": [],
   "source": [
    "model = Doc2Vec.load(\"doc2vec/doc2vec-30ep.mdl\")"
   ]
  },
  {
   "cell_type": "markdown",
   "metadata": {},
   "source": [
    "## Experiment with DOC2VEC"
   ]
  },
  {
   "cell_type": "code",
   "execution_count": 25,
   "metadata": {},
   "outputs": [
    {
     "name": "stdout",
     "output_type": "stream",
     "text": [
      "TaggedDocument(['victoria', 'secret', 'love', 'pink', 'brand', 'new', 'lanyard'], [1120561])\n",
      "249932 0.9679811000823975 TaggedDocument(['victoria', 'secret', 'love', 'pink', 'lanyard', 'brand', 'new', 'come', 'from', 'smoke', 'free', 'home'], [249932])\n",
      "713103 0.963517963886261 TaggedDocument(['VS', 'love', 'pink', 'lanyard', 'free', 'ship'], [713103])\n",
      "724641 0.9617636799812317 TaggedDocument(['Vs', 'pink', 'love', 'lanyard', '2', 'lanyard', 'new', 'fast', 'ship', '!'], [724641])\n",
      "63070 0.9588600993156433 TaggedDocument(['brand', 'new', 'victoria', 's', 'secret', 'love', 'pink', 'lanyard', 'come', 'from', 'smoke', 'free', 'home', 'will', 'ship', 'within', '24', 'hour'], [63070])\n",
      "1029182 0.955751359462738 TaggedDocument(['white', 'pink', 'lanyard', 'black', 'white', 'lanyard'], [1029182])\n",
      "886380 0.950320839881897 TaggedDocument(['licens', 'nfl', 'heavi', 'duti', 'lanyard'], [886380])\n",
      "1020557 0.9493449926376343 TaggedDocument(['wallet', 'is', 'in', 'pristin', 'condit', 'genuin', 'leather'], [1020557])\n",
      "472516 0.9485077857971191 TaggedDocument(['new', 'VS', 'love', 'pink', 'lanyard'], [472516])\n",
      "1063393 0.9481995701789856 TaggedDocument(['victoria', 'secret', 'lanyard', 'brand', 'new'], [1063393])\n",
      "99060 0.9479522109031677 TaggedDocument(['victoria', 's', 'secret', 'pink', 'lanyard', 'new', 'with', 'tag'], [99060])\n"
     ]
    }
   ],
   "source": [
    "rand_doc = 1120561\n",
    "print(documents[rand_doc])\n",
    "res_docs = model.docvecs.most_similar([rand_doc])\n",
    "for doc_id, sim in res_docs:\n",
    "    print(doc_id, sim, documents[doc_id])"
   ]
  },
  {
   "cell_type": "code",
   "execution_count": 38,
   "metadata": {},
   "outputs": [
    {
     "data": {
      "text/plain": [
       "[('york', 0.6748981475830078),\n",
       " ('unus', 0.6235029101371765),\n",
       " ('bran', 0.5817394256591797),\n",
       " ('like', 0.5515947937965393),\n",
       " ('seal', 0.5413249731063843),\n",
       " ('unopen', 0.5282155871391296),\n",
       " ('era', 0.48420602083206177),\n",
       " ('com', 0.44668030738830566),\n",
       " ('unseal', 0.445159912109375),\n",
       " ('athent', 0.4445577561855316)]"
      ]
     },
     "execution_count": 38,
     "metadata": {},
     "output_type": "execute_result"
    }
   ],
   "source": [
    "model.wv.most_similar(['brand'])"
   ]
  },
  {
   "cell_type": "code",
   "execution_count": 27,
   "metadata": {},
   "outputs": [
    {
     "name": "stdout",
     "output_type": "stream",
     "text": [
      "Wall time: 0 ns\n"
     ]
    },
    {
     "data": {
      "text/plain": [
       "array([-0.87403476, -0.16031708, -1.1511667 ,  1.6411891 ,  0.7869541 ,\n",
       "       -0.17931408, -1.455016  ,  0.43970412, -1.1861469 , -1.5558368 ,\n",
       "        0.58093125,  1.8160192 , -1.6284019 , -0.797974  , -0.73069704,\n",
       "       -0.5472965 , -0.647805  ,  0.6837578 , -0.37566543,  1.6648191 ,\n",
       "        1.3782175 ,  1.3182316 , -0.23992983,  1.3806993 ,  0.42935336,\n",
       "        0.5956174 ,  0.11946667, -0.16917235,  1.4956875 ,  0.5942216 ,\n",
       "       -1.02505   ,  1.2948539 ,  0.22487663, -1.09493   , -2.1197076 ,\n",
       "       -1.3579506 ,  0.17314313, -1.2451756 , -1.7598875 , -0.7000126 ,\n",
       "        0.18085107,  0.40096894, -0.10484356, -0.6308375 , -0.55120677,\n",
       "        2.1283267 , -1.1556367 ,  0.998839  , -1.5898374 , -0.6887702 ,\n",
       "       -1.7834489 ,  0.8969812 ,  0.9041663 ,  0.9282208 , -0.8326491 ,\n",
       "       -0.01320396,  2.1047351 ,  1.5974    , -1.4392056 , -2.0672677 ,\n",
       "        0.9637646 , -1.7187356 , -1.259565  ,  0.9929442 ], dtype=float32)"
      ]
     },
     "execution_count": 27,
     "metadata": {},
     "output_type": "execute_result"
    }
   ],
   "source": [
    "%%time\n",
    "model.wv.get_vector('iphon')"
   ]
  },
  {
   "cell_type": "code",
   "execution_count": 33,
   "metadata": {},
   "outputs": [
    {
     "name": "stdout",
     "output_type": "stream",
     "text": [
      "['mlb', 'cincinnati', 'red', 'T', 'shirt', 'size', 'XL', 'unknown']\n",
      "[-0.6165946  -0.09001246 -0.20319712 -0.25237793  0.57633966  0.03693875\n",
      " -0.35144842 -0.07201497 -0.12659022 -0.02909094  0.4712811  -0.07273448\n",
      " -0.32679904 -0.05506153 -0.56677943 -0.01134105  0.17250285 -0.07311574\n",
      " -0.16357708 -0.182317    0.19092947  0.08346301 -0.00657347 -0.05109016\n",
      " -0.16672996 -0.40400243  0.31109503 -0.17673165 -0.0949478  -0.21658745\n",
      " -0.4098329  -0.367276   -0.4807688  -0.13765009 -0.45753127 -0.07961261\n",
      " -0.5929314   0.05505434 -0.08064529 -0.17024912  0.40339005 -0.17345423\n",
      " -0.19341189 -0.2776517  -0.2676793   0.13341968 -0.42389718 -0.17280853\n",
      " -0.02041231 -0.10208726  0.02519474  0.066053    0.24845022  0.05316225\n",
      "  0.22817792 -0.02037785 -0.5482394   0.31337398 -0.510842   -0.0797871\n",
      " -0.14572656  0.19137947 -0.1667813   0.15636583]\n"
     ]
    }
   ],
   "source": [
    "doc = documents[1120561]\n",
    "words = data[\"name_and_brand_t\"][0]\n",
    "print(words)\n",
    "res1 = model.infer_vector(words, steps=25)\n",
    "print(res1)"
   ]
  },
  {
   "cell_type": "code",
   "execution_count": 27,
   "metadata": {},
   "outputs": [
    {
     "name": "stdout",
     "output_type": "stream",
     "text": [
      "TaggedDocument(['victoria', 's', 'secret', 'pink', 'lanyard', 'new', 'with', 'tag'], [99060])\n",
      "[-0.40597925  0.05514718 -0.23040894 -0.05734293  0.66990197 -0.22668251\n",
      " -0.37756255  0.03393262  0.11129758  0.08673667  0.21176073  0.2568399\n",
      " -0.2829131  -0.11374829 -0.3209967  -0.05682763  0.45046046 -0.15554887\n",
      " -0.39010856 -0.09288694  0.30053133  0.31025285  0.0302855  -0.14681898\n",
      " -0.22813745 -0.11600266  0.2855468  -0.06702566  0.23126605 -0.0132272\n",
      " -0.3283537  -0.11330844 -0.5617831  -0.63772005 -0.31271878 -0.08560163\n",
      " -0.29102525  0.13825798  0.05673973  0.2716729   0.5523974  -0.02318978\n",
      " -0.45596275 -0.13404095 -0.44207335 -0.0892358  -0.34840083  0.01685966\n",
      "  0.03945239 -0.10276377 -0.24163096 -0.19109148  0.4431767  -0.03878426\n",
      "  0.32715625  0.03588001 -0.47960424  0.23348543 -0.28435257 -0.11317686\n",
      "  0.0865595   0.45545778 -0.16007756  0.06803258]\n"
     ]
    }
   ],
   "source": [
    "doc = documents[99060]\n",
    "print(doc)\n",
    "res2 = model.infer_vector(doc.words, steps=25)\n",
    "print(res2)"
   ]
  },
  {
   "cell_type": "code",
   "execution_count": 53,
   "metadata": {},
   "outputs": [
    {
     "name": "stdout",
     "output_type": "stream",
     "text": [
      "Wall time: 2 ms\n"
     ]
    },
    {
     "data": {
      "text/plain": [
       "array([-0.24000369, -0.07215226, -0.09802584, -0.04310709,  0.67484903,\n",
       "        0.03399444, -0.146487  ,  0.07858206,  0.12423464,  0.1705699 ,\n",
       "        0.19304574,  0.24796052, -0.24772353, -0.14450867, -0.33250555,\n",
       "        0.06498234,  0.57789874, -0.17521991, -0.29078993, -0.03671257,\n",
       "        0.23723255,  0.23525968,  0.03146777, -0.19512805, -0.24135262,\n",
       "       -0.01225074,  0.35022345, -0.12943733,  0.09247729,  0.10099661,\n",
       "       -0.38543493, -0.11431763, -0.4692628 , -0.6651002 , -0.18608071,\n",
       "       -0.17668223, -0.01201531,  0.14355502,  0.12315057,  0.3263758 ,\n",
       "        0.48800385, -0.15742156, -0.29169816, -0.04373288, -0.33361962,\n",
       "       -0.18115386, -0.33461967,  0.05578777,  0.10926019, -0.15053707,\n",
       "       -0.4362387 , -0.23239017,  0.3716067 , -0.1181711 ,  0.34797424,\n",
       "        0.03278778, -0.33431724,  0.17496501,  0.18251707, -0.23402643,\n",
       "        0.2678775 ,  0.45312035, -0.20074664,  0.24699424], dtype=float32)"
      ]
     },
     "execution_count": 53,
     "metadata": {},
     "output_type": "execute_result"
    }
   ],
   "source": [
    "%%time\n",
    "model.infer_vector(doc.words, steps=25)"
   ]
  },
  {
   "cell_type": "code",
   "execution_count": 29,
   "metadata": {},
   "outputs": [
    {
     "data": {
      "text/plain": [
       "array([[0.90424216]], dtype=float32)"
      ]
     },
     "execution_count": 29,
     "metadata": {},
     "output_type": "execute_result"
    }
   ],
   "source": [
    "cosine_similarity(res1.reshape(1, -1), res2.reshape(1, -1))"
   ]
  },
  {
   "cell_type": "markdown",
   "metadata": {},
   "source": [
    "### Encode DESCRIPTION to document vector representation"
   ]
  },
  {
   "cell_type": "code",
   "execution_count": 34,
   "metadata": {},
   "outputs": [
    {
     "name": "stderr",
     "output_type": "stream",
     "text": [
      "Pandas Apply: 100%|██████████████████████████████████████████████████████████████████████████████████████████████████████████████████████████████████████████████| 160000/160000 [04:25<00:00, 602.10it/s]\n"
     ]
    }
   ],
   "source": [
    "data[\"description_embed\"] = data[\"item_descriptions\"].swifter.apply(lambda x: model.infer_vector(x, steps=25))"
   ]
  },
  {
   "cell_type": "code",
   "execution_count": 35,
   "metadata": {},
   "outputs": [
    {
     "name": "stderr",
     "output_type": "stream",
     "text": [
      "Pandas Apply: 100%|█████████████████████████████████████████████████████████████████████████████████████████████████████████████████████████████████████████████| 160000/160000 [01:59<00:00, 1341.44it/s]\n"
     ]
    }
   ],
   "source": [
    "data[\"name_brand_embed\"] = data[\"name_and_brand_t\"].swifter.apply(lambda x: model.infer_vector(x, steps=25))"
   ]
  },
  {
   "cell_type": "code",
   "execution_count": 46,
   "metadata": {},
   "outputs": [
    {
     "name": "stdout",
     "output_type": "stream",
     "text": [
      "<class 'pandas.core.frame.DataFrame'>\n",
      "Int64Index: 480000 entries, 379101 to 88075\n",
      "Columns: 2769 entries, shipping to name_brand63\n",
      "dtypes: category(1), float32(128), float64(1), int64(1), object(6), uint8(2632)\n",
      "memory usage: 1.5+ GB\n"
     ]
    }
   ],
   "source": [
    "# final_data = data.drop([\"price_cat\", \"log_price\", \"item_decription\", \"name_and_brand\"])\n",
    "# data.info()"
   ]
  },
  {
   "cell_type": "code",
   "execution_count": 36,
   "metadata": {},
   "outputs": [],
   "source": [
    "matrix_desc = np.stack(data[\"description_embed\"])\n",
    "for i in range(matrix_desc.shape[1]):\n",
    "    data['description_' + str(i)] = matrix_desc[:, i]"
   ]
  },
  {
   "cell_type": "code",
   "execution_count": 37,
   "metadata": {},
   "outputs": [],
   "source": [
    "matrix_name_brand = np.stack(data[\"name_brand_embed\"])\n",
    "for i in range(matrix_name_brand.shape[1]):\n",
    "    data['name_brand' + str(i)] = matrix_name_brand[:, i]"
   ]
  },
  {
   "cell_type": "code",
   "execution_count": 24,
   "metadata": {},
   "outputs": [
    {
     "data": {
      "text/plain": [
       "train_id\n",
       "593477    [-0.52926517, 0.21387348, -0.7287413, 0.052165...\n",
       "481848    [-0.5090644, -0.24426103, -0.37597382, -0.4510...\n",
       "616526    [0.19017582, 0.22788908, 0.43844843, -0.267941...\n",
       "716828    [-0.41432196, 0.7684331, 0.5961291, 0.31302005...\n",
       "530826    [-0.07080025, -0.07891894, -0.11913533, -0.057...\n",
       "276286    [-0.27838993, 0.9982063, -0.28050348, 0.078180...\n",
       "287823    [-0.2234064, -0.011892255, -0.17732446, -0.045...\n",
       "658455    [-0.030423317, 0.09569126, 0.20227462, -0.4038...\n",
       "396696    [-0.04423541, 0.005460765, -0.078536026, -0.03...\n",
       "265786    [-0.6030664, 0.049470797, 0.28731844, -0.08125...\n",
       "752751    [-0.21518964, 0.1714736, 0.50008506, -0.212162...\n",
       "311806    [-2.3722386, -1.0085287, -0.5395566, -0.627711...\n",
       "164800    [-0.5353841, 0.3502249, -0.5067775, -0.0599576...\n",
       "33837     [0.2598653, -0.18405534, 0.19734977, -0.334997...\n",
       "753581    [0.4046161, 0.027445594, -0.010365827, 0.24425...\n",
       "348659    [-0.3562129, 0.019812807, -0.13138862, -0.0995...\n",
       "174364    [-0.21655875, -0.31316704, -0.33371025, -0.052...\n",
       "637276    [-0.059642855, -1.1028384, 0.17097154, -0.4662...\n",
       "666754    [-0.001592258, -0.121739276, -0.6327118, -0.46...\n",
       "404583    [-0.75142866, 0.34036326, -0.23277012, 0.17289...\n",
       "748579    [-0.05242719, -0.2462167, -0.06967019, -0.2281...\n",
       "687676    [-0.45111853, -0.049423996, -0.50334555, -0.09...\n",
       "470528    [-0.07407441, -0.0030530677, -0.05584809, -0.0...\n",
       "416782    [0.47195122, 0.71489215, -0.5741864, -0.403867...\n",
       "666039    [-0.21208242, -0.07189267, -0.16697934, -0.152...\n",
       "640255    [-0.43242082, 0.16537987, -0.3461768, -0.59687...\n",
       "782381    [-0.36395395, -0.0050171446, -0.6186595, -0.53...\n",
       "83147     [-1.0960011, -0.7311365, -0.18336771, -0.44026...\n",
       "222766    [0.1304469, 0.1560161, -0.30923468, 0.18299316...\n",
       "555089    [-0.087428965, -0.0006550668, -0.05530293, -0....\n",
       "                                ...                        \n",
       "244993    [-1.1289384, 0.00019498542, -0.33732393, -0.08...\n",
       "637197    [-0.33544788, -0.5562336, 0.08939868, 0.206080...\n",
       "785472    [-0.23693927, 0.018539779, -0.26653314, -0.062...\n",
       "499501    [-0.30322164, 0.024637777, -0.36929244, -0.169...\n",
       "174709    [0.15072651, -0.48080814, -0.76752204, 0.02237...\n",
       "284711    [-0.5137471, 0.72838485, 1.9036722, 0.1633355,...\n",
       "206851    [-0.3105294, -0.028433673, 0.21820977, -0.0664...\n",
       "524741    [0.23210143, 0.7244552, -1.6150495, 0.44187087...\n",
       "764374    [-0.06426986, 0.0036971627, -0.06745976, -0.02...\n",
       "233923    [0.1711218, -0.073164724, 0.112853095, -0.0193...\n",
       "361272    [-0.11634352, 0.399874, -0.27863887, 0.0014435...\n",
       "652470    [-0.17834462, -0.12115446, -0.35518, -0.504775...\n",
       "54527     [-0.4288013, -0.35869238, -0.6730607, -0.33534...\n",
       "328868    [-0.4523141, 0.7772508, 1.038448, -0.6258996, ...\n",
       "481032    [0.3476944, -0.28712943, -1.0383887, -0.797149...\n",
       "426961    [-0.54865766, -0.21966141, -0.47564718, -0.148...\n",
       "209674    [-0.5887743, 0.42276853, -0.37318796, -0.06115...\n",
       "683545    [-0.3272491, -0.49607748, -0.28258476, -0.2908...\n",
       "332519    [-0.08209398, -0.42419922, -0.15184334, -0.110...\n",
       "712910    [-0.43065834, -0.2012148, -0.5314023, 0.164769...\n",
       "6452      [-0.30465257, 0.1294463, 0.053584754, -0.16237...\n",
       "694838    [-0.22836687, -0.082472555, -0.13128264, -0.05...\n",
       "495004    [0.6294232, -0.012484946, 1.1028614, -0.418442...\n",
       "56413     [-0.06655437, 0.040203016, -0.14544362, -0.244...\n",
       "19944     [-0.36514232, -0.07299306, -0.5218322, -0.1726...\n",
       "435717    [-0.110564865, 0.046102144, -0.22925079, -0.08...\n",
       "264132    [-0.31622186, 0.28150105, 1.4987954, -0.896917...\n",
       "553507    [-0.2801282, -0.092229925, -0.68374014, -0.328...\n",
       "329690    [-0.4959438, -0.308736, -0.097108155, 0.123543...\n",
       "161780    [-0.12505007, 0.21308184, -0.43301776, 0.15073...\n",
       "Name: description_embed, Length: 640000, dtype: object"
      ]
     },
     "execution_count": 24,
     "metadata": {},
     "output_type": "execute_result"
    }
   ],
   "source": [
    "data[\"description_embed\"]"
   ]
  },
  {
   "cell_type": "code",
   "execution_count": 38,
   "metadata": {},
   "outputs": [
    {
     "name": "stdout",
     "output_type": "stream",
     "text": [
      "<class 'pandas.core.frame.DataFrame'>\n",
      "Int64Index: 160000 entries, 734747 to 317091\n",
      "Columns: 2980 entries, shipping to name_brand63\n",
      "dtypes: float32(128), int64(1), uint8(2851)\n",
      "memory usage: 515.6 MB\n"
     ]
    }
   ],
   "source": [
    "final_data = data.select_dtypes(exclude=['float64', 'category', 'object'])\n",
    "final_data.info()"
   ]
  },
  {
   "cell_type": "code",
   "execution_count": 39,
   "metadata": {},
   "outputs": [],
   "source": [
    "# final_data.to_hdf('train_final.h5', key='df', mode='w')\n",
    "final_data.to_hdf('validation_final.h5', key='df', mode='w')"
   ]
  },
  {
   "cell_type": "code",
   "execution_count": 46,
   "metadata": {},
   "outputs": [],
   "source": [
    "train, validation = pd.DataFrame(y_train), pd.DataFrame(y_test)"
   ]
  },
  {
   "cell_type": "code",
   "execution_count": 47,
   "metadata": {},
   "outputs": [],
   "source": [
    "train.to_hdf(\"y_train.h5\", key=\"df\", mode=\"w\")\n",
    "validation.to_hdf(\"y_validation.h5\", key=\"df\", mode=\"w\")"
   ]
  },
  {
   "cell_type": "markdown",
   "metadata": {},
   "source": [
    "### Description extract TF-IDF"
   ]
  },
  {
   "cell_type": "code",
   "execution_count": 1,
   "metadata": {},
   "outputs": [
    {
     "ename": "NameError",
     "evalue": "name 'tqdm' is not defined",
     "output_type": "error",
     "traceback": [
      "\u001b[1;31m---------------------------------------------------------------------------\u001b[0m",
      "\u001b[1;31mNameError\u001b[0m                                 Traceback (most recent call last)",
      "\u001b[1;32m<ipython-input-1-8cbab3f654ed>\u001b[0m in \u001b[0;36m<module>\u001b[1;34m\u001b[0m\n\u001b[0;32m      2\u001b[0m \u001b[1;33m\u001b[0m\u001b[0m\n\u001b[0;32m      3\u001b[0m \u001b[0mvectorizer\u001b[0m \u001b[1;33m=\u001b[0m \u001b[0mTfidfVectorizer\u001b[0m\u001b[1;33m(\u001b[0m\u001b[0mmax_df\u001b[0m\u001b[1;33m=\u001b[0m\u001b[1;36m0.5\u001b[0m\u001b[1;33m,\u001b[0m \u001b[0mmax_features\u001b[0m\u001b[1;33m=\u001b[0m\u001b[1;36m10000\u001b[0m\u001b[1;33m,\u001b[0m \u001b[0mlowercase\u001b[0m\u001b[1;33m=\u001b[0m\u001b[1;32mTrue\u001b[0m\u001b[1;33m,\u001b[0m \u001b[0mmin_df\u001b[0m\u001b[1;33m=\u001b[0m\u001b[1;36m2\u001b[0m\u001b[1;33m)\u001b[0m\u001b[1;33m\u001b[0m\u001b[1;33m\u001b[0m\u001b[0m\n\u001b[1;32m----> 4\u001b[1;33m \u001b[0mvectorizer\u001b[0m\u001b[1;33m.\u001b[0m\u001b[0mfit_transform\u001b[0m\u001b[1;33m(\u001b[0m\u001b[0mtqdm\u001b[0m\u001b[1;33m(\u001b[0m\u001b[0mdata\u001b[0m\u001b[1;33m[\u001b[0m\u001b[1;34m\"item_description\"\u001b[0m\u001b[1;33m]\u001b[0m\u001b[1;33m)\u001b[0m\u001b[1;33m)\u001b[0m\u001b[1;33m\u001b[0m\u001b[1;33m\u001b[0m\u001b[0m\n\u001b[0m",
      "\u001b[1;31mNameError\u001b[0m: name 'tqdm' is not defined"
     ]
    }
   ],
   "source": [
    "from sklearn.feature_extraction.text import TfidfVectorizer\n",
    "\n",
    "vectorizer = TfidfVectorizer(max_df=0.5, max_features=10000, lowercase=True, min_df=2)\n",
    "vectorizer.fit_transform(tqdm(data[\"item_description\"]))"
   ]
  },
  {
   "cell_type": "code",
   "execution_count": null,
   "metadata": {},
   "outputs": [],
   "source": [
    "res = vectorizer.transform(tqdm(data[\"item_description\"][:50000]))\n",
    "res.shape"
   ]
  },
  {
   "cell_type": "markdown",
   "metadata": {},
   "source": [
    "## Test preprocessing"
   ]
  },
  {
   "cell_type": "code",
   "execution_count": 14,
   "metadata": {},
   "outputs": [
    {
     "name": "stdout",
     "output_type": "stream",
     "text": [
      "test X (400000, 6)\n",
      "test y (400000, 1)\n"
     ]
    }
   ],
   "source": [
    "TEST_SIZE = 400000\n",
    "test_data = pd.read_csv('../data/test_stg2.tsv', sep=\"\\t\", nrows=TEST_SIZE)\n",
    "test_data.set_index('test_id', inplace=True)\n",
    "\n",
    "test_y = pd.read_csv('../data/sample_submission_stg2.csv', nrows=TEST_SIZE)\n",
    "test_y.set_index('test_id', inplace=True)\n",
    "\n",
    "print('test X', test_data.shape)\n",
    "print('test y', test_y.shape)"
   ]
  },
  {
   "cell_type": "code",
   "execution_count": 15,
   "metadata": {},
   "outputs": [
    {
     "data": {
      "text/html": [
       "<div>\n",
       "<style scoped>\n",
       "    .dataframe tbody tr th:only-of-type {\n",
       "        vertical-align: middle;\n",
       "    }\n",
       "\n",
       "    .dataframe tbody tr th {\n",
       "        vertical-align: top;\n",
       "    }\n",
       "\n",
       "    .dataframe thead th {\n",
       "        text-align: right;\n",
       "    }\n",
       "</style>\n",
       "<table border=\"1\" class=\"dataframe\">\n",
       "  <thead>\n",
       "    <tr style=\"text-align: right;\">\n",
       "      <th></th>\n",
       "      <th>name</th>\n",
       "      <th>item_condition_id</th>\n",
       "      <th>category_name</th>\n",
       "      <th>brand_name</th>\n",
       "      <th>shipping</th>\n",
       "      <th>item_description</th>\n",
       "    </tr>\n",
       "    <tr>\n",
       "      <th>test_id</th>\n",
       "      <th></th>\n",
       "      <th></th>\n",
       "      <th></th>\n",
       "      <th></th>\n",
       "      <th></th>\n",
       "      <th></th>\n",
       "    </tr>\n",
       "  </thead>\n",
       "  <tbody>\n",
       "    <tr>\n",
       "      <th>0</th>\n",
       "      <td>Breast cancer \"I fight like a girl\" ring</td>\n",
       "      <td>1</td>\n",
       "      <td>Women/Jewelry/Rings</td>\n",
       "      <td>NaN</td>\n",
       "      <td>1</td>\n",
       "      <td>Size 7</td>\n",
       "    </tr>\n",
       "    <tr>\n",
       "      <th>1</th>\n",
       "      <td>25 pcs NEW 7.5\"x12\" Kraft Bubble Mailers</td>\n",
       "      <td>1</td>\n",
       "      <td>Other/Office supplies/Shipping Supplies</td>\n",
       "      <td>NaN</td>\n",
       "      <td>1</td>\n",
       "      <td>25 pcs NEW 7.5\"x12\" Kraft Bubble Mailers Lined...</td>\n",
       "    </tr>\n",
       "    <tr>\n",
       "      <th>2</th>\n",
       "      <td>Coach bag</td>\n",
       "      <td>1</td>\n",
       "      <td>Vintage &amp; Collectibles/Bags and Purses/Handbag</td>\n",
       "      <td>Coach</td>\n",
       "      <td>1</td>\n",
       "      <td>Brand new coach bag. Bought for [rm] at a Coac...</td>\n",
       "    </tr>\n",
       "    <tr>\n",
       "      <th>3</th>\n",
       "      <td>Floral Kimono</td>\n",
       "      <td>2</td>\n",
       "      <td>Women/Sweaters/Cardigan</td>\n",
       "      <td>NaN</td>\n",
       "      <td>0</td>\n",
       "      <td>-floral kimono -never worn -lightweight and pe...</td>\n",
       "    </tr>\n",
       "    <tr>\n",
       "      <th>4</th>\n",
       "      <td>Life after Death</td>\n",
       "      <td>3</td>\n",
       "      <td>Other/Books/Religion &amp; Spirituality</td>\n",
       "      <td>NaN</td>\n",
       "      <td>1</td>\n",
       "      <td>Rediscovering life after the loss of a loved o...</td>\n",
       "    </tr>\n",
       "  </tbody>\n",
       "</table>\n",
       "</div>"
      ],
      "text/plain": [
       "                                             name  item_condition_id  \\\n",
       "test_id                                                                \n",
       "0        Breast cancer \"I fight like a girl\" ring                  1   \n",
       "1        25 pcs NEW 7.5\"x12\" Kraft Bubble Mailers                  1   \n",
       "2                                       Coach bag                  1   \n",
       "3                                   Floral Kimono                  2   \n",
       "4                                Life after Death                  3   \n",
       "\n",
       "                                          category_name brand_name  shipping  \\\n",
       "test_id                                                                        \n",
       "0                                   Women/Jewelry/Rings        NaN         1   \n",
       "1               Other/Office supplies/Shipping Supplies        NaN         1   \n",
       "2        Vintage & Collectibles/Bags and Purses/Handbag      Coach         1   \n",
       "3                               Women/Sweaters/Cardigan        NaN         0   \n",
       "4                   Other/Books/Religion & Spirituality        NaN         1   \n",
       "\n",
       "                                          item_description  \n",
       "test_id                                                     \n",
       "0                                                   Size 7  \n",
       "1        25 pcs NEW 7.5\"x12\" Kraft Bubble Mailers Lined...  \n",
       "2        Brand new coach bag. Bought for [rm] at a Coac...  \n",
       "3        -floral kimono -never worn -lightweight and pe...  \n",
       "4        Rediscovering life after the loss of a loved o...  "
      ]
     },
     "execution_count": 15,
     "metadata": {},
     "output_type": "execute_result"
    }
   ],
   "source": [
    "test_data.head()"
   ]
  },
  {
   "cell_type": "code",
   "execution_count": 16,
   "metadata": {},
   "outputs": [
    {
     "data": {
      "text/html": [
       "<div>\n",
       "<style scoped>\n",
       "    .dataframe tbody tr th:only-of-type {\n",
       "        vertical-align: middle;\n",
       "    }\n",
       "\n",
       "    .dataframe tbody tr th {\n",
       "        vertical-align: top;\n",
       "    }\n",
       "\n",
       "    .dataframe thead th {\n",
       "        text-align: right;\n",
       "    }\n",
       "</style>\n",
       "<table border=\"1\" class=\"dataframe\">\n",
       "  <thead>\n",
       "    <tr style=\"text-align: right;\">\n",
       "      <th></th>\n",
       "      <th>price</th>\n",
       "    </tr>\n",
       "    <tr>\n",
       "      <th>test_id</th>\n",
       "      <th></th>\n",
       "    </tr>\n",
       "  </thead>\n",
       "  <tbody>\n",
       "    <tr>\n",
       "      <th>0</th>\n",
       "      <td>26.738</td>\n",
       "    </tr>\n",
       "    <tr>\n",
       "      <th>1</th>\n",
       "      <td>26.738</td>\n",
       "    </tr>\n",
       "    <tr>\n",
       "      <th>2</th>\n",
       "      <td>26.738</td>\n",
       "    </tr>\n",
       "    <tr>\n",
       "      <th>3</th>\n",
       "      <td>26.738</td>\n",
       "    </tr>\n",
       "    <tr>\n",
       "      <th>4</th>\n",
       "      <td>26.738</td>\n",
       "    </tr>\n",
       "  </tbody>\n",
       "</table>\n",
       "</div>"
      ],
      "text/plain": [
       "          price\n",
       "test_id        \n",
       "0        26.738\n",
       "1        26.738\n",
       "2        26.738\n",
       "3        26.738\n",
       "4        26.738"
      ]
     },
     "execution_count": 16,
     "metadata": {},
     "output_type": "execute_result"
    }
   ],
   "source": [
    "test_y.head()"
   ]
  },
  {
   "cell_type": "code",
   "execution_count": 17,
   "metadata": {},
   "outputs": [
    {
     "data": {
      "text/plain": [
       "True"
      ]
     },
     "execution_count": 17,
     "metadata": {},
     "output_type": "execute_result"
    }
   ],
   "source": [
    "test_data.index.equals(test_y.index)"
   ]
  }
 ],
 "metadata": {
  "kernelspec": {
   "display_name": "Python 3",
   "language": "python",
   "name": "python3"
  },
  "language_info": {
   "codemirror_mode": {
    "name": "ipython",
    "version": 3
   },
   "file_extension": ".py",
   "mimetype": "text/x-python",
   "name": "python",
   "nbconvert_exporter": "python",
   "pygments_lexer": "ipython3",
   "version": "3.7.3"
  }
 },
 "nbformat": 4,
 "nbformat_minor": 2
}
