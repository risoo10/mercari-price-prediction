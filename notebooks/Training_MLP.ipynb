{
  "nbformat": 4,
  "nbformat_minor": 0,
  "metadata": {
    "colab": {
      "name": "Training MLP.ipynb",
      "version": "0.3.2",
      "provenance": [],
      "collapsed_sections": [
        "gGEj20M4Jqwk"
      ],
      "toc_visible": true
    },
    "language_info": {
      "codemirror_mode": {
        "name": "ipython",
        "version": 3
      },
      "file_extension": ".py",
      "mimetype": "text/x-python",
      "name": "python",
      "nbconvert_exporter": "python",
      "pygments_lexer": "ipython3",
      "version": "3.7.3"
    },
    "kernelspec": {
      "name": "python3",
      "display_name": "Python 3"
    },
    "accelerator": "GPU"
  },
  "cells": [
    {
      "cell_type": "code",
      "metadata": {
        "id": "nJTcqGIsy0nx",
        "colab_type": "code",
        "colab": {
          "base_uri": "https://localhost:8080/",
          "height": 34
        },
        "outputId": "e86fcfff-9a9b-4aaa-de37-674dd903a5e9"
      },
      "source": [
        "from google.colab import drive\n",
        "drive.mount('/content/drive', force_remount=True)"
      ],
      "execution_count": 1,
      "outputs": [
        {
          "output_type": "stream",
          "text": [
            "Mounted at /content/drive\n"
          ],
          "name": "stdout"
        }
      ]
    },
    {
      "cell_type": "code",
      "metadata": {
        "id": "fYGcpnBKZ3b2",
        "colab_type": "code",
        "colab": {
          "base_uri": "https://localhost:8080/",
          "height": 221
        },
        "outputId": "9fd4c37d-a6b0-4f3f-b13f-700b48803d2d"
      },
      "source": [
        "!pip install -U tables"
      ],
      "execution_count": 2,
      "outputs": [
        {
          "output_type": "stream",
          "text": [
            "Collecting tables\n",
            "\u001b[?25l  Downloading https://files.pythonhosted.org/packages/ab/79/4e1301a87f3b7f27aa6c9cb1aeba4875ff3edb62a6fe3872dc8f04983db4/tables-3.5.1-cp36-cp36m-manylinux1_x86_64.whl (4.3MB)\n",
            "\u001b[K     |████████████████████████████████| 4.3MB 5.0MB/s \n",
            "\u001b[?25hRequirement already satisfied, skipping upgrade: six>=1.9.0 in /usr/local/lib/python3.6/dist-packages (from tables) (1.12.0)\n",
            "Requirement already satisfied, skipping upgrade: numpy>=1.9.3 in /usr/local/lib/python3.6/dist-packages (from tables) (1.16.3)\n",
            "Requirement already satisfied, skipping upgrade: numexpr>=2.6.2 in /usr/local/lib/python3.6/dist-packages (from tables) (2.6.9)\n",
            "Requirement already satisfied, skipping upgrade: mock>=2.0 in /usr/local/lib/python3.6/dist-packages (from tables) (3.0.5)\n",
            "Installing collected packages: tables\n",
            "  Found existing installation: tables 3.4.4\n",
            "    Uninstalling tables-3.4.4:\n",
            "      Successfully uninstalled tables-3.4.4\n",
            "Successfully installed tables-3.5.1\n"
          ],
          "name": "stdout"
        }
      ]
    },
    {
      "cell_type": "code",
      "metadata": {
        "id": "8Ww5Kkibyrag",
        "colab_type": "code",
        "colab": {}
      },
      "source": [
        "import pandas as pd\n",
        "import numpy as np\n",
        "import h5py as h5\n",
        "import tables\n",
        "import os\n",
        "import matplotlib.pyplot as plt\n",
        "import pickle"
      ],
      "execution_count": 0,
      "outputs": []
    },
    {
      "cell_type": "code",
      "metadata": {
        "id": "UHzIGjNJzN89",
        "colab_type": "code",
        "colab": {
          "base_uri": "https://localhost:8080/",
          "height": 272
        },
        "outputId": "556d7ce1-e796-4739-ba09-f580c242bfb1"
      },
      "source": [
        "main_dir = '/content/drive/My Drive/OZNAL - regression model'\n",
        "os.listdir(main_dir)"
      ],
      "execution_count": 4,
      "outputs": [
        {
          "output_type": "execute_result",
          "data": {
            "text/plain": [
              "['doc2vec',\n",
              " 'Predspracovanie.ipynb',\n",
              " 'data',\n",
              " 'validation_final.h5',\n",
              " 'y_validation.h5',\n",
              " 'train_final.h5',\n",
              " 'models',\n",
              " 'x_test.h5',\n",
              " 'y_test.h5',\n",
              " 'y_train.h5',\n",
              " 'logs',\n",
              " 'ctest.h5',\n",
              " 'ctrain.h5',\n",
              " 'ceval.h5',\n",
              " 'Regression.ipynb']"
            ]
          },
          "metadata": {
            "tags": []
          },
          "execution_count": 4
        }
      ]
    },
    {
      "cell_type": "code",
      "metadata": {
        "id": "twuLzKdDyraq",
        "colab_type": "code",
        "colab": {}
      },
      "source": [
        "# train_file.close()\n",
        "# test_file.close()\n",
        "# validation_file.close()"
      ],
      "execution_count": 0,
      "outputs": []
    },
    {
      "cell_type": "code",
      "metadata": {
        "id": "EEOaHpOdyra2",
        "colab_type": "code",
        "colab": {
          "base_uri": "https://localhost:8080/",
          "height": 357
        },
        "outputId": "7eb6cde6-5a7a-4320-e257-b43c4dfe5505"
      },
      "source": [
        "train_file = tables.open_file(f'{main_dir}/ctrain.h5', mode=\"r\")\n",
        "validation_file = tables.open_file(f'{main_dir}/ceval.h5', mode=\"r\")\n",
        "test_file = tables.open_file(f'{main_dir}/ctest.h5', mode=\"r\")\n",
        "\n",
        "# print(test_file)\n",
        "print(train_file, validation_file, test_file)\n",
        "INPUT_SIZE = train_file.get_node('/x').shape[1]\n",
        "print(INPUT_SIZE)"
      ],
      "execution_count": 5,
      "outputs": [
        {
          "output_type": "stream",
          "text": [
            "/content/drive/My Drive/OZNAL - regression model/ctrain.h5 (File) ''\n",
            "Last modif.: 'Sat May 11 10:46:12 2019'\n",
            "Object Tree: \n",
            "/ (RootGroup) ''\n",
            "/x (CArray(640000, 2980), shuffle, blosc(5)) ''\n",
            "/y (CArray(640000, 1), shuffle, blosc(5)) ''\n",
            " /content/drive/My Drive/OZNAL - regression model/ceval.h5 (File) ''\n",
            "Last modif.: 'Sat May 11 10:46:26 2019'\n",
            "Object Tree: \n",
            "/ (RootGroup) ''\n",
            "/x (CArray(160000, 2980), shuffle, blosc(5)) ''\n",
            "/y (CArray(160000, 1), shuffle, blosc(5)) ''\n",
            " /content/drive/My Drive/OZNAL - regression model/ctest.h5 (File) ''\n",
            "Last modif.: 'Sat May 11 10:45:26 2019'\n",
            "Object Tree: \n",
            "/ (RootGroup) ''\n",
            "/x (CArray(400000, 2980), shuffle, blosc(5)) ''\n",
            "/y (CArray(400000, 1), shuffle, blosc(5)) ''\n",
            "\n",
            "2980\n"
          ],
          "name": "stdout"
        }
      ]
    },
    {
      "cell_type": "code",
      "metadata": {
        "id": "VANCOlHlyrbr",
        "colab_type": "code",
        "colab": {}
      },
      "source": [
        "def get_boundaries(length, chunksize):\n",
        "    boundaries = []\n",
        "    for i in range(int(np.ceil(length / chunksize))):\n",
        "        boundaries.append([chunksize * i, chunksize * (i+1)])\n",
        "        \n",
        "    return np.array(boundaries)"
      ],
      "execution_count": 0,
      "outputs": []
    },
    {
      "cell_type": "code",
      "metadata": {
        "id": "pbf5us07yrbz",
        "colab_type": "code",
        "colab": {}
      },
      "source": [
        "def generator(store, batch_size):\n",
        "  x_data = train_file.get_node('/x')\n",
        "  y_data = train_file.get_node('/y')\n",
        "  \n",
        "  samples_per_epoch = x_data.shape[0]\n",
        "  number_of_batches = samples_per_epoch/batch_size\n",
        "  counter=0\n",
        "  chunksize = 100\n",
        "  boundaries = get_boundaries(samples_per_epoch, chunksize)\n",
        "  \n",
        "  \n",
        "  while 1:\n",
        "    start = batch_size * counter\n",
        "    stop = batch_size * (counter+1)\n",
        "    \n",
        "#     print('[boundaries]', start // chunksize, stop // chunksize)\n",
        "    x = np.stack([x_data[boundaries[i, 0]: boundaries[i, 1]] for i in range(start // chunksize, stop // chunksize)])\n",
        "    y = np.stack([y_data[boundaries[i, 0]: boundaries[i, 1]] for i in range(start // chunksize, stop // chunksize)])\n",
        "    \n",
        "    X_batch = np.concatenate(x[:]).astype('float32')\n",
        "    y_batch = np.concatenate(y[:]).astype('float32')\n",
        "    counter += 1\n",
        "    yield X_batch,y_batch\n",
        "\n",
        "    #restart counter to yeild data in the next epoch as well\n",
        "    if counter >= number_of_batches:\n",
        "        np.random.shuffle(boundaries)\n",
        "        counter = 0"
      ],
      "execution_count": 0,
      "outputs": []
    },
    {
      "cell_type": "markdown",
      "metadata": {
        "id": "StCvmTEVE00C",
        "colab_type": "text"
      },
      "source": [
        "### Generator"
      ]
    },
    {
      "cell_type": "code",
      "metadata": {
        "id": "hLlPMx2okMAz",
        "colab_type": "code",
        "colab": {}
      },
      "source": [
        "train_gen = generator(validation_file, batch_size=2000)"
      ],
      "execution_count": 0,
      "outputs": []
    },
    {
      "cell_type": "code",
      "metadata": {
        "id": "bt9HNT0KCoyx",
        "colab_type": "code",
        "colab": {}
      },
      "source": [
        "for i in range(320):\n",
        "  x, y = next(train_gen)\n",
        "  print(i, x.shape, y.shape)"
      ],
      "execution_count": 0,
      "outputs": []
    },
    {
      "cell_type": "code",
      "metadata": {
        "id": "ZVtQO1VcEBmb",
        "colab_type": "code",
        "colab": {
          "base_uri": "https://localhost:8080/",
          "height": 34
        },
        "outputId": "0a9ca33f-b1cd-4903-e823-67b7847ddf5e"
      },
      "source": [
        "x, y = next(train_gen)\n",
        "x.shape, x.dtype, np.unravel_index(x.argmin(), x.shape), np.max(x), np.sum(np.isnan(x))"
      ],
      "execution_count": 18,
      "outputs": [
        {
          "output_type": "execute_result",
          "data": {
            "text/plain": [
              "((2000, 2980), dtype('float32'), (997, 2898), 4.859775, 0)"
            ]
          },
          "metadata": {
            "tags": []
          },
          "execution_count": 18
        }
      ]
    },
    {
      "cell_type": "markdown",
      "metadata": {
        "id": "F1-CupT0yrb8",
        "colab_type": "text"
      },
      "source": [
        "## Training MLP"
      ]
    },
    {
      "cell_type": "code",
      "metadata": {
        "id": "BfDuyU1Vyrb_",
        "colab_type": "code",
        "colab": {}
      },
      "source": [
        "import keras\n",
        "import tensorflow as tf\n",
        "from tensorflow.keras.models import Sequential, load_model\n",
        "from tensorflow.keras.layers import Activation, Dense, BatchNormalization, Dropout\n",
        "from tensorflow.keras.callbacks import ModelCheckpoint, TensorBoard\n",
        "from tensorflow.keras.regularizers import l2\n",
        "from tensorflow.keras import backend as K\n"
      ],
      "execution_count": 0,
      "outputs": []
    },
    {
      "cell_type": "code",
      "metadata": {
        "id": "vUbbpePMyrcL",
        "colab_type": "code",
        "colab": {}
      },
      "source": [
        "# from keras import backend as K\n",
        "# K.tensorflow_backend._get_available_gpus()"
      ],
      "execution_count": 0,
      "outputs": []
    },
    {
      "cell_type": "code",
      "metadata": {
        "id": "e655TlMnyrcQ",
        "colab_type": "code",
        "colab": {}
      },
      "source": [
        "# sess = tf.Session(config=tf.ConfigProto(log_device_placement=True))"
      ],
      "execution_count": 0,
      "outputs": []
    },
    {
      "cell_type": "code",
      "metadata": {
        "id": "SNK1AbJvyrcb",
        "colab_type": "code",
        "colab": {}
      },
      "source": [
        "def rmsle(y_true, y_pred):\n",
        "    return K.sqrt(K.mean(K.square(K.log(1 + y_pred) - K.log(1 + y_true)))) "
      ],
      "execution_count": 0,
      "outputs": []
    },
    {
      "cell_type": "markdown",
      "metadata": {
        "id": "D6bwOkGhP62P",
        "colab_type": "text"
      },
      "source": [
        "## Deep architecture with Dropout"
      ]
    },
    {
      "cell_type": "code",
      "metadata": {
        "id": "qy9-LMhIvt8v",
        "colab_type": "code",
        "colab": {
          "base_uri": "https://localhost:8080/",
          "height": 547
        },
        "outputId": "1eb58651-c570-4592-eb8d-239c8c806655"
      },
      "source": [
        "MODEL = \"MLP-256H-128H-64H-DO\"\n",
        "HIDDEN_SIZE = (256, 128, 64)\n",
        "l2_reg = l2(0.0001)\n",
        "\n",
        "model = Sequential()\n",
        "model.add(Dense(HIDDEN_SIZE[0], input_dim=INPUT_SIZE, kernel_initializer='normal', kernel_regularizer=l2_reg, bias_regularizer=l2_reg))\n",
        "# model.add(BatchNormalization())\n",
        "model.add(Activation('relu')) \n",
        "model.add(Dropout(0.2))\n",
        "if len(HIDDEN_SIZE) >= 2:\n",
        "  model.add(Dense(HIDDEN_SIZE[1], input_dim=INPUT_SIZE, kernel_initializer='normal', kernel_regularizer=l2_reg, bias_regularizer=l2_reg))\n",
        "#   model.add(BatchNormalization())\n",
        "  model.add(Activation('relu'))\n",
        "  model.add(Dropout(0.2))\n",
        "if len(HIDDEN_SIZE) >= 3:\n",
        "  model.add(Dense(HIDDEN_SIZE[2], input_dim=INPUT_SIZE, kernel_initializer='normal', kernel_regularizer=l2_reg, bias_regularizer=l2_reg))\n",
        "#   model.add(BatchNormalization())\n",
        "  model.add(Activation('relu'))\n",
        "  model.add(Dropout(0.2))\n",
        "model.add(Dense(1, activation='linear', kernel_regularizer=l2_reg, bias_regularizer=l2_reg))\n",
        "model.summary()\n",
        "\n",
        "model.compile(loss=rmsle, optimizer='adam', metrics=['mse','mae'])"
      ],
      "execution_count": 57,
      "outputs": [
        {
          "output_type": "stream",
          "text": [
            "WARNING:tensorflow:From /usr/local/lib/python3.6/dist-packages/tensorflow/python/keras/layers/core.py:143: calling dropout (from tensorflow.python.ops.nn_ops) with keep_prob is deprecated and will be removed in a future version.\n",
            "Instructions for updating:\n",
            "Please use `rate` instead of `keep_prob`. Rate should be set to `rate = 1 - keep_prob`.\n",
            "_________________________________________________________________\n",
            "Layer (type)                 Output Shape              Param #   \n",
            "=================================================================\n",
            "dense_18 (Dense)             (None, 256)               763136    \n",
            "_________________________________________________________________\n",
            "activation_9 (Activation)    (None, 256)               0         \n",
            "_________________________________________________________________\n",
            "dropout (Dropout)            (None, 256)               0         \n",
            "_________________________________________________________________\n",
            "dense_19 (Dense)             (None, 128)               32896     \n",
            "_________________________________________________________________\n",
            "activation_10 (Activation)   (None, 128)               0         \n",
            "_________________________________________________________________\n",
            "dropout_1 (Dropout)          (None, 128)               0         \n",
            "_________________________________________________________________\n",
            "dense_20 (Dense)             (None, 64)                8256      \n",
            "_________________________________________________________________\n",
            "activation_11 (Activation)   (None, 64)                0         \n",
            "_________________________________________________________________\n",
            "dropout_2 (Dropout)          (None, 64)                0         \n",
            "_________________________________________________________________\n",
            "dense_21 (Dense)             (None, 1)                 65        \n",
            "=================================================================\n",
            "Total params: 804,353\n",
            "Trainable params: 804,353\n",
            "Non-trainable params: 0\n",
            "_________________________________________________________________\n"
          ],
          "name": "stdout"
        }
      ]
    },
    {
      "cell_type": "markdown",
      "metadata": {
        "id": "blHh3w5jQAkw",
        "colab_type": "text"
      },
      "source": [
        "### Shallow model"
      ]
    },
    {
      "cell_type": "code",
      "metadata": {
        "id": "ySyCJzGByrck",
        "colab_type": "code",
        "colab": {
          "base_uri": "https://localhost:8080/",
          "height": 204
        },
        "outputId": "63fe7124-c2f2-4818-c04f-26ab6767ce85"
      },
      "source": [
        "MODEL = \"MLP-105H\"\n",
        "HIDDEN_SIZE = (105,)\n",
        "l2_reg = l2(0.0001)\n",
        "\n",
        "model = Sequential()\n",
        "model.add(Dense(HIDDEN_SIZE[0], input_dim=INPUT_SIZE, kernel_initializer='normal', kernel_regularizer=l2_reg, bias_regularizer=l2_reg, activation='relu'))\n",
        "if len(HIDDEN_SIZE) == 2:\n",
        "  model.add(Dense(HIDDEN_SIZE[1], kernel_initializer='normal', kernel_regularizer=l2_reg, bias_regularizer=l2_reg, activation='relu'))\n",
        "model.add(Dense(1, activation='linear', kernel_regularizer=l2_reg, bias_regularizer=l2_reg))\n",
        "model.summary()\n",
        "\n",
        "model.compile(loss=rmsle, optimizer='adam', metrics=['mse','mae'])"
      ],
      "execution_count": 32,
      "outputs": [
        {
          "output_type": "stream",
          "text": [
            "_________________________________________________________________\n",
            "Layer (type)                 Output Shape              Param #   \n",
            "=================================================================\n",
            "dense_3 (Dense)              (None, 105)               313005    \n",
            "_________________________________________________________________\n",
            "dense_4 (Dense)              (None, 1)                 106       \n",
            "=================================================================\n",
            "Total params: 313,111\n",
            "Trainable params: 313,111\n",
            "Non-trainable params: 0\n",
            "_________________________________________________________________\n"
          ],
          "name": "stdout"
        }
      ]
    },
    {
      "cell_type": "code",
      "metadata": {
        "id": "IG2nUhk5lYMF",
        "colab_type": "code",
        "colab": {
          "base_uri": "https://localhost:8080/",
          "height": 181
        },
        "outputId": "7de02046-0063-4771-d5b6-3f40f03ecaa7"
      },
      "source": [
        "validation_data = (validation_file.get_node('/x')[:], validation_file.get_node('/y')[:])\n",
        "print(validation_data.shape)"
      ],
      "execution_count": 11,
      "outputs": [
        {
          "output_type": "error",
          "ename": "AttributeError",
          "evalue": "ignored",
          "traceback": [
            "\u001b[0;31m---------------------------------------------------------------------------\u001b[0m",
            "\u001b[0;31mAttributeError\u001b[0m                            Traceback (most recent call last)",
            "\u001b[0;32m<ipython-input-11-34dd5a70fa01>\u001b[0m in \u001b[0;36m<module>\u001b[0;34m()\u001b[0m\n\u001b[1;32m      1\u001b[0m \u001b[0mvalidation_data\u001b[0m \u001b[0;34m=\u001b[0m \u001b[0;34m(\u001b[0m\u001b[0mvalidation_file\u001b[0m\u001b[0;34m.\u001b[0m\u001b[0mget_node\u001b[0m\u001b[0;34m(\u001b[0m\u001b[0;34m'/x'\u001b[0m\u001b[0;34m)\u001b[0m\u001b[0;34m[\u001b[0m\u001b[0;34m:\u001b[0m\u001b[0;34m]\u001b[0m\u001b[0;34m,\u001b[0m \u001b[0mvalidation_file\u001b[0m\u001b[0;34m.\u001b[0m\u001b[0mget_node\u001b[0m\u001b[0;34m(\u001b[0m\u001b[0;34m'/y'\u001b[0m\u001b[0;34m)\u001b[0m\u001b[0;34m[\u001b[0m\u001b[0;34m:\u001b[0m\u001b[0;34m]\u001b[0m\u001b[0;34m)\u001b[0m\u001b[0;34m\u001b[0m\u001b[0;34m\u001b[0m\u001b[0m\n\u001b[0;32m----> 2\u001b[0;31m \u001b[0mprint\u001b[0m\u001b[0;34m(\u001b[0m\u001b[0mvalidation_data\u001b[0m\u001b[0;34m.\u001b[0m\u001b[0mshape\u001b[0m\u001b[0;34m)\u001b[0m\u001b[0;34m\u001b[0m\u001b[0;34m\u001b[0m\u001b[0m\n\u001b[0m",
            "\u001b[0;31mAttributeError\u001b[0m: 'tuple' object has no attribute 'shape'"
          ]
        }
      ]
    },
    {
      "cell_type": "code",
      "metadata": {
        "id": "r3mRVs4Eyrcs",
        "colab_type": "code",
        "colab": {
          "base_uri": "https://localhost:8080/",
          "height": 2604
        },
        "outputId": "2a9c8753-ed5d-42e6-f4c2-6948ffe85bd8"
      },
      "source": [
        "EPOCHS = 30\n",
        "BATCH_SIZE = 2000\n",
        "\n",
        "model_checkpoint = ModelCheckpoint(f'{main_dir}/models/checkpoint/{MODEL}.hdf5', monitor='val_loss', verbose=1, save_best_only=True)\n",
        "# tensorboard_clbck = TensorBoard(log_dir='f'{main_dir}/tensorboard', histogram_freq=0, write_graph=True, write_images=True)\n",
        "\n",
        "train_gen = generator(train_file, batch_size=BATCH_SIZE)\n",
        "valid_gen = generator(validation_file, batch_size=BATCH_SIZE)\n",
        "\n",
        "# model.fit(x_train, y_train, batch_size=1000, epochs=100, validation_data=(x_val, y_val), callbacks=[model_checkpoint])\n",
        "\n",
        "TRAIN_STEPS = train_file.get_node('/x').shape[0] // BATCH_SIZE\n",
        "VALIDATION_STEPS = validation_file.get_node('/x').shape[0] // BATCH_SIZE\n",
        "print(f'[Model] {MODEL} Steps:', TRAIN_STEPS, VALIDATION_STEPS)\n",
        "\n",
        "history = model.fit_generator(\n",
        "    generator=train_gen,\n",
        "    epochs=EPOCHS,\n",
        "    verbose=1,\n",
        "    steps_per_epoch=TRAIN_STEPS,\n",
        "    validation_data=validation_data,\n",
        "    validation_steps=VALIDATION_STEPS,\n",
        "    callbacks=[model_checkpoint]\n",
        ")"
      ],
      "execution_count": 58,
      "outputs": [
        {
          "output_type": "stream",
          "text": [
            "[Model] MLP-256H-128H-64H-DO Steps: 320 80\n",
            "Epoch 1/30\n",
            "160000/160000 [==============================] - 4s 23us/sample - loss: 0.5992 - mean_squared_error: 1234.5049 - mean_absolute_error: 12.8739\n",
            "\n",
            "Epoch 00001: val_loss improved from inf to 0.59924, saving model to /content/drive/My Drive/OZNAL - regression model/models/checkpoint/MLP-256H-128H-64H-DO.hdf5\n",
            "320/320 [==============================] - 33s 102ms/step - loss: 0.7875 - mean_squared_error: 1409.1021 - mean_absolute_error: 15.0187 - val_loss: 0.5992 - val_mean_squared_error: 1234.5049 - val_mean_absolute_error: 12.8739\n",
            "Epoch 2/30\n",
            "160000/160000 [==============================] - 4s 22us/sample - loss: 0.5712 - mean_squared_error: 1154.5005 - mean_absolute_error: 12.3456\n",
            "\n",
            "Epoch 00002: val_loss improved from 0.59924 to 0.57120, saving model to /content/drive/My Drive/OZNAL - regression model/models/checkpoint/MLP-256H-128H-64H-DO.hdf5\n",
            "320/320 [==============================] - 35s 109ms/step - loss: 0.5968 - mean_squared_error: 1196.7275 - mean_absolute_error: 12.8204 - val_loss: 0.5712 - val_mean_squared_error: 1154.5005 - val_mean_absolute_error: 12.3456\n",
            "Epoch 3/30\n",
            "160000/160000 [==============================] - 4s 22us/sample - loss: 0.5611 - mean_squared_error: 1111.6295 - mean_absolute_error: 12.1698\n",
            "\n",
            "Epoch 00003: val_loss improved from 0.57120 to 0.56115, saving model to /content/drive/My Drive/OZNAL - regression model/models/checkpoint/MLP-256H-128H-64H-DO.hdf5\n",
            "320/320 [==============================] - 34s 108ms/step - loss: 0.5789 - mean_squared_error: 1145.1672 - mean_absolute_error: 12.4754 - val_loss: 0.5611 - val_mean_squared_error: 1111.6295 - val_mean_absolute_error: 12.1698\n",
            "Epoch 4/30\n",
            "160000/160000 [==============================] - 4s 22us/sample - loss: 0.5540 - mean_squared_error: 1091.3903 - mean_absolute_error: 11.9880\n",
            "\n",
            "Epoch 00004: val_loss improved from 0.56115 to 0.55400, saving model to /content/drive/My Drive/OZNAL - regression model/models/checkpoint/MLP-256H-128H-64H-DO.hdf5\n",
            "320/320 [==============================] - 35s 109ms/step - loss: 0.5705 - mean_squared_error: 1120.7321 - mean_absolute_error: 12.3202 - val_loss: 0.5540 - val_mean_squared_error: 1091.3903 - val_mean_absolute_error: 11.9880\n",
            "Epoch 5/30\n",
            "160000/160000 [==============================] - 4s 22us/sample - loss: 0.5512 - mean_squared_error: 1078.3805 - mean_absolute_error: 11.9494\n",
            "\n",
            "Epoch 00005: val_loss improved from 0.55400 to 0.55119, saving model to /content/drive/My Drive/OZNAL - regression model/models/checkpoint/MLP-256H-128H-64H-DO.hdf5\n",
            "320/320 [==============================] - 35s 109ms/step - loss: 0.5638 - mean_squared_error: 1100.3998 - mean_absolute_error: 12.1865 - val_loss: 0.5512 - val_mean_squared_error: 1078.3805 - val_mean_absolute_error: 11.9494\n",
            "Epoch 6/30\n",
            "160000/160000 [==============================] - 4s 23us/sample - loss: 0.5475 - mean_squared_error: 1077.7830 - mean_absolute_error: 11.8442\n",
            "\n",
            "Epoch 00006: val_loss improved from 0.55119 to 0.54754, saving model to /content/drive/My Drive/OZNAL - regression model/models/checkpoint/MLP-256H-128H-64H-DO.hdf5\n",
            "320/320 [==============================] - 35s 108ms/step - loss: 0.5606 - mean_squared_error: 1090.6497 - mean_absolute_error: 12.1267 - val_loss: 0.5475 - val_mean_squared_error: 1077.7830 - val_mean_absolute_error: 11.8442\n",
            "Epoch 7/30\n",
            "160000/160000 [==============================] - 3s 22us/sample - loss: 0.5462 - mean_squared_error: 1070.3571 - mean_absolute_error: 11.8256\n",
            "\n",
            "Epoch 00007: val_loss improved from 0.54754 to 0.54623, saving model to /content/drive/My Drive/OZNAL - regression model/models/checkpoint/MLP-256H-128H-64H-DO.hdf5\n",
            "320/320 [==============================] - 34s 108ms/step - loss: 0.5583 - mean_squared_error: 1082.7426 - mean_absolute_error: 12.0780 - val_loss: 0.5462 - val_mean_squared_error: 1070.3571 - val_mean_absolute_error: 11.8256\n",
            "Epoch 8/30\n",
            "160000/160000 [==============================] - 4s 22us/sample - loss: 0.5466 - mean_squared_error: 1058.8022 - mean_absolute_error: 11.8554\n",
            "\n",
            "Epoch 00008: val_loss did not improve from 0.54623\n",
            "320/320 [==============================] - 34s 106ms/step - loss: 0.5558 - mean_squared_error: 1073.0935 - mean_absolute_error: 12.0243 - val_loss: 0.5466 - val_mean_squared_error: 1058.8022 - val_mean_absolute_error: 11.8554\n",
            "Epoch 9/30\n",
            "160000/160000 [==============================] - 3s 22us/sample - loss: 0.5437 - mean_squared_error: 1065.9752 - mean_absolute_error: 11.7698\n",
            "\n",
            "Epoch 00009: val_loss improved from 0.54623 to 0.54366, saving model to /content/drive/My Drive/OZNAL - regression model/models/checkpoint/MLP-256H-128H-64H-DO.hdf5\n",
            "320/320 [==============================] - 35s 108ms/step - loss: 0.5537 - mean_squared_error: 1068.6265 - mean_absolute_error: 11.9891 - val_loss: 0.5437 - val_mean_squared_error: 1065.9752 - val_mean_absolute_error: 11.7698\n",
            "Epoch 10/30\n",
            "160000/160000 [==============================] - 4s 22us/sample - loss: 0.5431 - mean_squared_error: 1058.2678 - mean_absolute_error: 11.7402\n",
            "\n",
            "Epoch 00010: val_loss improved from 0.54366 to 0.54312, saving model to /content/drive/My Drive/OZNAL - regression model/models/checkpoint/MLP-256H-128H-64H-DO.hdf5\n",
            "320/320 [==============================] - 34s 106ms/step - loss: 0.5521 - mean_squared_error: 1060.9257 - mean_absolute_error: 11.9491 - val_loss: 0.5431 - val_mean_squared_error: 1058.2678 - val_mean_absolute_error: 11.7402\n",
            "Epoch 11/30\n",
            "160000/160000 [==============================] - 3s 22us/sample - loss: 0.5420 - mean_squared_error: 1060.4575 - mean_absolute_error: 11.7308\n",
            "\n",
            "Epoch 00011: val_loss improved from 0.54312 to 0.54204, saving model to /content/drive/My Drive/OZNAL - regression model/models/checkpoint/MLP-256H-128H-64H-DO.hdf5\n",
            "320/320 [==============================] - 35s 109ms/step - loss: 0.5510 - mean_squared_error: 1057.4165 - mean_absolute_error: 11.9307 - val_loss: 0.5420 - val_mean_squared_error: 1060.4575 - val_mean_absolute_error: 11.7308\n",
            "Epoch 12/30\n",
            "160000/160000 [==============================] - 4s 22us/sample - loss: 0.5417 - mean_squared_error: 1057.7072 - mean_absolute_error: 11.6770\n",
            "\n",
            "Epoch 00012: val_loss improved from 0.54204 to 0.54165, saving model to /content/drive/My Drive/OZNAL - regression model/models/checkpoint/MLP-256H-128H-64H-DO.hdf5\n",
            "320/320 [==============================] - 34s 106ms/step - loss: 0.5500 - mean_squared_error: 1055.4048 - mean_absolute_error: 11.9080 - val_loss: 0.5417 - val_mean_squared_error: 1057.7072 - val_mean_absolute_error: 11.6770\n",
            "Epoch 13/30\n",
            "160000/160000 [==============================] - 4s 23us/sample - loss: 0.5441 - mean_squared_error: 1022.7505 - mean_absolute_error: 11.7810\n",
            "\n",
            "Epoch 00013: val_loss did not improve from 0.54165\n",
            "320/320 [==============================] - 34s 106ms/step - loss: 0.5487 - mean_squared_error: 1050.1978 - mean_absolute_error: 11.8736 - val_loss: 0.5441 - val_mean_squared_error: 1022.7505 - val_mean_absolute_error: 11.7810\n",
            "Epoch 14/30\n",
            "160000/160000 [==============================] - 4s 22us/sample - loss: 0.5408 - mean_squared_error: 1033.7534 - mean_absolute_error: 11.6623\n",
            "\n",
            "Epoch 00014: val_loss improved from 0.54165 to 0.54082, saving model to /content/drive/My Drive/OZNAL - regression model/models/checkpoint/MLP-256H-128H-64H-DO.hdf5\n",
            "320/320 [==============================] - 35s 111ms/step - loss: 0.5479 - mean_squared_error: 1048.1642 - mean_absolute_error: 11.8582 - val_loss: 0.5408 - val_mean_squared_error: 1033.7534 - val_mean_absolute_error: 11.6623\n",
            "Epoch 15/30\n",
            "160000/160000 [==============================] - 3s 22us/sample - loss: 0.5416 - mean_squared_error: 1040.4712 - mean_absolute_error: 11.7034\n",
            "\n",
            "Epoch 00015: val_loss did not improve from 0.54082\n",
            "320/320 [==============================] - 34s 105ms/step - loss: 0.5471 - mean_squared_error: 1043.5129 - mean_absolute_error: 11.8361 - val_loss: 0.5416 - val_mean_squared_error: 1040.4712 - val_mean_absolute_error: 11.7034\n",
            "Epoch 16/30\n",
            "160000/160000 [==============================] - 4s 22us/sample - loss: 0.5396 - mean_squared_error: 1039.6772 - mean_absolute_error: 11.6363\n",
            "\n",
            "Epoch 00016: val_loss improved from 0.54082 to 0.53964, saving model to /content/drive/My Drive/OZNAL - regression model/models/checkpoint/MLP-256H-128H-64H-DO.hdf5\n",
            "320/320 [==============================] - 35s 109ms/step - loss: 0.5463 - mean_squared_error: 1040.0475 - mean_absolute_error: 11.8147 - val_loss: 0.5396 - val_mean_squared_error: 1039.6772 - val_mean_absolute_error: 11.6363\n",
            "Epoch 17/30\n",
            "160000/160000 [==============================] - 3s 22us/sample - loss: 0.5403 - mean_squared_error: 1033.0529 - mean_absolute_error: 11.6321\n",
            "\n",
            "Epoch 00017: val_loss did not improve from 0.53964\n",
            "320/320 [==============================] - 34s 106ms/step - loss: 0.5450 - mean_squared_error: 1036.6283 - mean_absolute_error: 11.7757 - val_loss: 0.5403 - val_mean_squared_error: 1033.0529 - val_mean_absolute_error: 11.6321\n",
            "Epoch 18/30\n",
            "160000/160000 [==============================] - 3s 22us/sample - loss: 0.5398 - mean_squared_error: 1026.4271 - mean_absolute_error: 11.6164\n",
            "\n",
            "Epoch 00018: val_loss did not improve from 0.53964\n",
            "320/320 [==============================] - 34s 107ms/step - loss: 0.5446 - mean_squared_error: 1035.1948 - mean_absolute_error: 11.7730 - val_loss: 0.5398 - val_mean_squared_error: 1026.4271 - val_mean_absolute_error: 11.6164\n",
            "Epoch 19/30\n",
            "160000/160000 [==============================] - 3s 22us/sample - loss: 0.5401 - mean_squared_error: 1043.0118 - mean_absolute_error: 11.6043\n",
            "\n",
            "Epoch 00019: val_loss did not improve from 0.53964\n",
            "320/320 [==============================] - 34s 105ms/step - loss: 0.5437 - mean_squared_error: 1030.4987 - mean_absolute_error: 11.7454 - val_loss: 0.5401 - val_mean_squared_error: 1043.0118 - val_mean_absolute_error: 11.6043\n",
            "Epoch 20/30\n",
            "160000/160000 [==============================] - 4s 23us/sample - loss: 0.5396 - mean_squared_error: 1046.6533 - mean_absolute_error: 11.5994\n",
            "\n",
            "Epoch 00020: val_loss improved from 0.53964 to 0.53958, saving model to /content/drive/My Drive/OZNAL - regression model/models/checkpoint/MLP-256H-128H-64H-DO.hdf5\n",
            "320/320 [==============================] - 34s 107ms/step - loss: 0.5433 - mean_squared_error: 1029.2396 - mean_absolute_error: 11.7337 - val_loss: 0.5396 - val_mean_squared_error: 1046.6533 - val_mean_absolute_error: 11.5994\n",
            "Epoch 21/30\n",
            "160000/160000 [==============================] - 4s 22us/sample - loss: 0.5393 - mean_squared_error: 1023.4295 - mean_absolute_error: 11.6095\n",
            "\n",
            "Epoch 00021: val_loss improved from 0.53958 to 0.53929, saving model to /content/drive/My Drive/OZNAL - regression model/models/checkpoint/MLP-256H-128H-64H-DO.hdf5\n",
            "320/320 [==============================] - 35s 109ms/step - loss: 0.5426 - mean_squared_error: 1027.2073 - mean_absolute_error: 11.7174 - val_loss: 0.5393 - val_mean_squared_error: 1023.4295 - val_mean_absolute_error: 11.6095\n",
            "Epoch 22/30\n",
            "160000/160000 [==============================] - 3s 22us/sample - loss: 0.5401 - mean_squared_error: 1013.5179 - mean_absolute_error: 11.6009\n",
            "\n",
            "Epoch 00022: val_loss did not improve from 0.53929\n",
            "320/320 [==============================] - 34s 105ms/step - loss: 0.5424 - mean_squared_error: 1024.5286 - mean_absolute_error: 11.7066 - val_loss: 0.5401 - val_mean_squared_error: 1013.5179 - val_mean_absolute_error: 11.6009\n",
            "Epoch 23/30\n",
            "160000/160000 [==============================] - 4s 22us/sample - loss: 0.5400 - mean_squared_error: 1020.4210 - mean_absolute_error: 11.5958\n",
            "\n",
            "Epoch 00023: val_loss did not improve from 0.53929\n",
            "320/320 [==============================] - 35s 109ms/step - loss: 0.5420 - mean_squared_error: 1020.9558 - mean_absolute_error: 11.6940 - val_loss: 0.5400 - val_mean_squared_error: 1020.4210 - val_mean_absolute_error: 11.5958\n",
            "Epoch 24/30\n",
            "160000/160000 [==============================] - 4s 22us/sample - loss: 0.5396 - mean_squared_error: 1020.3754 - mean_absolute_error: 11.5808\n",
            "\n",
            "Epoch 00024: val_loss did not improve from 0.53929\n",
            "320/320 [==============================] - 34s 105ms/step - loss: 0.5414 - mean_squared_error: 1020.4429 - mean_absolute_error: 11.6767 - val_loss: 0.5396 - val_mean_squared_error: 1020.3754 - val_mean_absolute_error: 11.5808\n",
            "Epoch 25/30\n",
            "160000/160000 [==============================] - 4s 22us/sample - loss: 0.5409 - mean_squared_error: 1006.7630 - mean_absolute_error: 11.5972\n",
            "\n",
            "Epoch 00025: val_loss did not improve from 0.53929\n",
            "320/320 [==============================] - 34s 107ms/step - loss: 0.5412 - mean_squared_error: 1017.7584 - mean_absolute_error: 11.6714 - val_loss: 0.5409 - val_mean_squared_error: 1006.7630 - val_mean_absolute_error: 11.5972\n",
            "Epoch 26/30\n",
            "160000/160000 [==============================] - 4s 22us/sample - loss: 0.5401 - mean_squared_error: 1043.3369 - mean_absolute_error: 11.5925\n",
            "\n",
            "Epoch 00026: val_loss did not improve from 0.53929\n",
            "320/320 [==============================] - 34s 106ms/step - loss: 0.5406 - mean_squared_error: 1016.1428 - mean_absolute_error: 11.6492 - val_loss: 0.5401 - val_mean_squared_error: 1043.3369 - val_mean_absolute_error: 11.5925\n",
            "Epoch 27/30\n",
            "160000/160000 [==============================] - 4s 22us/sample - loss: 0.5393 - mean_squared_error: 1022.7938 - mean_absolute_error: 11.5607\n",
            "\n",
            "Epoch 00027: val_loss improved from 0.53929 to 0.53926, saving model to /content/drive/My Drive/OZNAL - regression model/models/checkpoint/MLP-256H-128H-64H-DO.hdf5\n",
            "320/320 [==============================] - 34s 107ms/step - loss: 0.5404 - mean_squared_error: 1015.6032 - mean_absolute_error: 11.6456 - val_loss: 0.5393 - val_mean_squared_error: 1022.7938 - val_mean_absolute_error: 11.5607\n",
            "Epoch 28/30\n",
            "160000/160000 [==============================] - 4s 22us/sample - loss: 0.5396 - mean_squared_error: 1017.9444 - mean_absolute_error: 11.5388\n",
            "\n",
            "Epoch 00028: val_loss did not improve from 0.53926\n",
            "320/320 [==============================] - 34s 107ms/step - loss: 0.5397 - mean_squared_error: 1012.5890 - mean_absolute_error: 11.6179 - val_loss: 0.5396 - val_mean_squared_error: 1017.9444 - val_mean_absolute_error: 11.5388\n",
            "Epoch 29/30\n",
            "160000/160000 [==============================] - 4s 22us/sample - loss: 0.5399 - mean_squared_error: 1016.9192 - mean_absolute_error: 11.5394\n",
            "\n",
            "Epoch 00029: val_loss did not improve from 0.53926\n",
            "320/320 [==============================] - 34s 105ms/step - loss: 0.5394 - mean_squared_error: 1013.9198 - mean_absolute_error: 11.6184 - val_loss: 0.5399 - val_mean_squared_error: 1016.9192 - val_mean_absolute_error: 11.5394\n",
            "Epoch 30/30\n",
            "160000/160000 [==============================] - 4s 22us/sample - loss: 0.5397 - mean_squared_error: 1009.6461 - mean_absolute_error: 11.5604\n",
            "\n",
            "Epoch 00030: val_loss did not improve from 0.53926\n",
            "320/320 [==============================] - 34s 107ms/step - loss: 0.5390 - mean_squared_error: 1008.1360 - mean_absolute_error: 11.6019 - val_loss: 0.5397 - val_mean_squared_error: 1009.6461 - val_mean_absolute_error: 11.5604\n"
          ],
          "name": "stdout"
        }
      ]
    },
    {
      "cell_type": "code",
      "metadata": {
        "id": "MjCGmnZ12iOP",
        "colab_type": "code",
        "colab": {}
      },
      "source": [
        "# Save model\n",
        "model.save(f'{main_dir}/models/{MODEL}.hdf5')"
      ],
      "execution_count": 0,
      "outputs": []
    },
    {
      "cell_type": "markdown",
      "metadata": {
        "id": "gGEj20M4Jqwk",
        "colab_type": "text"
      },
      "source": [
        "### Save history"
      ]
    },
    {
      "cell_type": "code",
      "metadata": {
        "id": "q4vAUomRJ4PI",
        "colab_type": "code",
        "colab": {
          "base_uri": "https://localhost:8080/",
          "height": 34
        },
        "outputId": "5c863237-4632-48bc-b497-eaf7b9c18996"
      },
      "source": [
        "OPEN_MODEL = MODEL\n",
        "print(OPEN_MODEL)"
      ],
      "execution_count": 62,
      "outputs": [
        {
          "output_type": "stream",
          "text": [
            "MLP-256H-128H-64H-DO\n"
          ],
          "name": "stdout"
        }
      ]
    },
    {
      "cell_type": "code",
      "metadata": {
        "id": "NMDrMfcQJyZd",
        "colab_type": "code",
        "colab": {}
      },
      "source": [
        "with open(f'{main_dir}/logs/{OPEN_MODEL}.history.pkl', 'wb') as output:  # Overwrites any existing file.\n",
        "        pickle.dump(history.history, output, pickle.HIGHEST_PROTOCOL)"
      ],
      "execution_count": 0,
      "outputs": []
    },
    {
      "cell_type": "markdown",
      "metadata": {
        "id": "yvYEEFE5p1xW",
        "colab_type": "text"
      },
      "source": [
        "### Load history"
      ]
    },
    {
      "cell_type": "code",
      "metadata": {
        "id": "aZ1svwtip3nC",
        "colab_type": "code",
        "colab": {}
      },
      "source": [
        "with open(f'{main_dir}/logs/{OPEN_MODEL}.history.pkl', 'rb') as input:\n",
        "    input_data4 = pickle.load(input)"
      ],
      "execution_count": 0,
      "outputs": []
    },
    {
      "cell_type": "code",
      "metadata": {
        "id": "eHxRLGs2qDgP",
        "colab_type": "code",
        "colab": {}
      },
      "source": [
        "input_data1 = input_data"
      ],
      "execution_count": 0,
      "outputs": []
    },
    {
      "cell_type": "code",
      "metadata": {
        "id": "rvy_njT4w-h_",
        "colab_type": "code",
        "colab": {}
      },
      "source": [
        "models = ['FFNNS', 'FFNNI', 'FFNND', 'FFNNDD']\n",
        "input_data = [input_data1, input_data2, input_data3, input_data4]"
      ],
      "execution_count": 0,
      "outputs": []
    },
    {
      "cell_type": "markdown",
      "metadata": {
        "id": "sGFblmq1p-NB",
        "colab_type": "text"
      },
      "source": [
        "## Evaluate training"
      ]
    },
    {
      "cell_type": "code",
      "metadata": {
        "id": "wv-9vBkfqBqn",
        "colab_type": "code",
        "colab": {
          "base_uri": "https://localhost:8080/",
          "height": 537
        },
        "outputId": "05820245-299b-4895-a4c9-2e8a3b475a75"
      },
      "source": [
        "fig, axs = plt.subplots(1, 2, figsize=(15, 7))\n",
        "labels = []\n",
        "for i in range(len(input_data)):\n",
        "    axs[0].plot(input_data[i][\"loss\"])\n",
        "    axs[0].plot(input_data[i][\"val_loss\"], '.--')\n",
        "    axs[0].set_title(\"RMSLE\")\n",
        "#     axs[1].plot(input_data[i][\"mean_squared_error\"])\n",
        "#     axs[1].plot(input_data[i][\"val_mean_squared_error\"], '.--')\n",
        "#     axs[1].set_title(\"MSE\")\n",
        "    axs[1].plot(input_data[i][\"mean_absolute_error\"])\n",
        "    axs[1].plot(input_data[i][\"val_mean_absolute_error\"], '.--')\n",
        "    axs[1].set_title(\"MAE\")\n",
        "    \n",
        "    labels.append(f'{models[i]} - TRAIN')\n",
        "    labels.append(f'{models[i]} - VALID')\n",
        "    \n",
        "fig.suptitle('Training Evaluation')\n",
        "plt.figlegend(labels, loc = 'lower center', ncol=5, labelspacing=0. )"
      ],
      "execution_count": 89,
      "outputs": [
        {
          "output_type": "execute_result",
          "data": {
            "text/plain": [
              "<matplotlib.legend.Legend at 0x7f3002545f98>"
            ]
          },
          "metadata": {
            "tags": []
          },
          "execution_count": 89
        },
        {
          "output_type": "display_data",
          "data": {
            "image/png": "[encoded data removed]",
            "text/plain": [
              "<Figure size 1080x504 with 2 Axes>"
            ]
          },
          "metadata": {
            "tags": []
          }
        }
      ]
    },
    {
      "cell_type": "markdown",
      "metadata": {
        "id": "62dT-dNdyrc4",
        "colab_type": "text"
      },
      "source": [
        "## Load MODEL"
      ]
    },
    {
      "cell_type": "code",
      "metadata": {
        "id": "-ZtOZG4At8IW",
        "colab_type": "code",
        "colab": {}
      },
      "source": [
        "MODEL = 'MLP-105H'"
      ],
      "execution_count": 0,
      "outputs": []
    },
    {
      "cell_type": "code",
      "metadata": {
        "id": "3Y5plRziyrc7",
        "colab_type": "code",
        "colab": {
          "base_uri": "https://localhost:8080/",
          "height": 204
        },
        "outputId": "85de29a2-772b-457a-885e-35607043354d"
      },
      "source": [
        "model = load_model(f'{main_dir}/models/checkpoint/{MODEL}.hdf5', custom_objects={'rmsle': rmsle})\n",
        "model.summary()"
      ],
      "execution_count": 126,
      "outputs": [
        {
          "output_type": "stream",
          "text": [
            "_________________________________________________________________\n",
            "Layer (type)                 Output Shape              Param #   \n",
            "=================================================================\n",
            "dense_3 (Dense)              (None, 105)               313005    \n",
            "_________________________________________________________________\n",
            "dense_4 (Dense)              (None, 1)                 106       \n",
            "=================================================================\n",
            "Total params: 313,111\n",
            "Trainable params: 313,111\n",
            "Non-trainable params: 0\n",
            "_________________________________________________________________\n"
          ],
          "name": "stdout"
        }
      ]
    },
    {
      "cell_type": "code",
      "metadata": {
        "id": "VeNQqfr8rTZ5",
        "colab_type": "code",
        "colab": {}
      },
      "source": [
        "test = generator(test_file, batch_size=1000)\n",
        "TEST_SIZE = test_file.get_node('/x').shape[0]"
      ],
      "execution_count": 0,
      "outputs": []
    },
    {
      "cell_type": "code",
      "metadata": {
        "id": "SHHSxm6LsRht",
        "colab_type": "code",
        "colab": {}
      },
      "source": [
        "evaluations = []"
      ],
      "execution_count": 0,
      "outputs": []
    },
    {
      "cell_type": "code",
      "metadata": {
        "id": "A6mmXsPirYzh",
        "colab_type": "code",
        "colab": {
          "base_uri": "https://localhost:8080/",
          "height": 6834
        },
        "outputId": "65421e15-0da0-49ee-e7f3-9f7293b8f449"
      },
      "source": [
        "print('All', TEST_SIZE)\n",
        "for i in range(TEST_SIZE // 1000):\n",
        "  x, y = next(test)\n",
        "  eval = model.evaluate(x, y)\n",
        "  evaluations.append(eval)\n",
        "#   print(i, x.shape, y.shape)"
      ],
      "execution_count": 129,
      "outputs": [
        {
          "output_type": "stream",
          "text": [
            "All 400000\n",
            "1000/1000 [==============================] - 0s 225us/sample - loss: 0.5551 - mean_squared_error: 1766.7716 - mean_absolute_error: 12.0266\n",
            "1000/1000 [==============================] - 0s 62us/sample - loss: 0.5544 - mean_squared_error: 1598.6510 - mean_absolute_error: 12.5020\n",
            "1000/1000 [==============================] - 0s 64us/sample - loss: 0.5505 - mean_squared_error: 589.1716 - mean_absolute_error: 11.1493\n",
            "1000/1000 [==============================] - 0s 63us/sample - loss: 0.5761 - mean_squared_error: 684.8680 - mean_absolute_error: 12.2848\n",
            "1000/1000 [==============================] - 0s 62us/sample - loss: 0.5776 - mean_squared_error: 721.0535 - mean_absolute_error: 12.1062\n",
            "1000/1000 [==============================] - 0s 63us/sample - loss: 0.5686 - mean_squared_error: 808.3833 - mean_absolute_error: 12.8166\n",
            "1000/1000 [==============================] - 0s 63us/sample - loss: 0.5684 - mean_squared_error: 664.9210 - mean_absolute_error: 11.8116\n",
            "1000/1000 [==============================] - 0s 79us/sample - loss: 0.5892 - mean_squared_error: 731.5875 - mean_absolute_error: 12.8227\n",
            "1000/1000 [==============================] - 0s 61us/sample - loss: 0.5681 - mean_squared_error: 719.4489 - mean_absolute_error: 11.8383\n",
            "1000/1000 [==============================] - 0s 64us/sample - loss: 0.6011 - mean_squared_error: 2226.9509 - mean_absolute_error: 14.6131\n",
            "1000/1000 [==============================] - 0s 63us/sample - loss: 0.5746 - mean_squared_error: 1794.2606 - mean_absolute_error: 14.1556\n",
            "1000/1000 [==============================] - 0s 64us/sample - loss: 0.5903 - mean_squared_error: 889.5019 - mean_absolute_error: 12.6799\n",
            "1000/1000 [==============================] - 0s 64us/sample - loss: 0.5592 - mean_squared_error: 479.5422 - mean_absolute_error: 10.4629\n",
            "1000/1000 [==============================] - 0s 65us/sample - loss: 0.5512 - mean_squared_error: 1187.7609 - mean_absolute_error: 12.3322\n",
            "1000/1000 [==============================] - 0s 65us/sample - loss: 0.5765 - mean_squared_error: 1470.2858 - mean_absolute_error: 13.3473\n",
            "1000/1000 [==============================] - 0s 63us/sample - loss: 0.5530 - mean_squared_error: 632.3077 - mean_absolute_error: 11.2648\n",
            "1000/1000 [==============================] - 0s 63us/sample - loss: 0.5843 - mean_squared_error: 708.2181 - mean_absolute_error: 12.0322\n",
            "1000/1000 [==============================] - 0s 63us/sample - loss: 0.5673 - mean_squared_error: 885.7719 - mean_absolute_error: 12.5611\n",
            "1000/1000 [==============================] - 0s 64us/sample - loss: 0.5791 - mean_squared_error: 524.0262 - mean_absolute_error: 11.5118\n",
            "1000/1000 [==============================] - 0s 62us/sample - loss: 0.5753 - mean_squared_error: 1306.9153 - mean_absolute_error: 12.4681\n",
            "1000/1000 [==============================] - 0s 63us/sample - loss: 0.6066 - mean_squared_error: 3049.1699 - mean_absolute_error: 14.5638\n",
            "1000/1000 [==============================] - 0s 62us/sample - loss: 0.6014 - mean_squared_error: 1073.9023 - mean_absolute_error: 13.7007\n",
            "1000/1000 [==============================] - 0s 65us/sample - loss: 0.5809 - mean_squared_error: 868.6848 - mean_absolute_error: 12.6919\n",
            "1000/1000 [==============================] - 0s 62us/sample - loss: 0.5677 - mean_squared_error: 746.6812 - mean_absolute_error: 11.6787\n",
            "1000/1000 [==============================] - 0s 69us/sample - loss: 0.5631 - mean_squared_error: 2333.5159 - mean_absolute_error: 12.6374\n",
            "1000/1000 [==============================] - 0s 64us/sample - loss: 0.5684 - mean_squared_error: 867.0372 - mean_absolute_error: 11.8392\n",
            "1000/1000 [==============================] - 0s 63us/sample - loss: 0.5589 - mean_squared_error: 839.6340 - mean_absolute_error: 12.4586\n",
            "1000/1000 [==============================] - 0s 68us/sample - loss: 0.5663 - mean_squared_error: 572.7382 - mean_absolute_error: 11.1878\n",
            "1000/1000 [==============================] - 0s 65us/sample - loss: 0.5690 - mean_squared_error: 1119.9691 - mean_absolute_error: 12.6158\n",
            "1000/1000 [==============================] - 0s 63us/sample - loss: 0.5823 - mean_squared_error: 989.5862 - mean_absolute_error: 12.0006\n",
            "1000/1000 [==============================] - 0s 62us/sample - loss: 0.5845 - mean_squared_error: 1404.9747 - mean_absolute_error: 13.5468\n",
            "1000/1000 [==============================] - 0s 66us/sample - loss: 0.5753 - mean_squared_error: 1386.6761 - mean_absolute_error: 12.5723\n",
            "1000/1000 [==============================] - 0s 62us/sample - loss: 0.5924 - mean_squared_error: 855.4862 - mean_absolute_error: 12.7430\n",
            "1000/1000 [==============================] - 0s 64us/sample - loss: 0.5874 - mean_squared_error: 824.7399 - mean_absolute_error: 12.7871\n",
            "1000/1000 [==============================] - 0s 63us/sample - loss: 0.5780 - mean_squared_error: 1248.1191 - mean_absolute_error: 13.0015\n",
            "1000/1000 [==============================] - 0s 65us/sample - loss: 0.5915 - mean_squared_error: 797.2645 - mean_absolute_error: 12.4547\n",
            "1000/1000 [==============================] - 0s 62us/sample - loss: 0.5593 - mean_squared_error: 1055.5228 - mean_absolute_error: 12.1258\n",
            "1000/1000 [==============================] - 0s 75us/sample - loss: 0.5702 - mean_squared_error: 875.1322 - mean_absolute_error: 12.4899\n",
            "1000/1000 [==============================] - 0s 63us/sample - loss: 0.5854 - mean_squared_error: 2036.8798 - mean_absolute_error: 13.3819\n",
            "1000/1000 [==============================] - 0s 63us/sample - loss: 0.5626 - mean_squared_error: 2323.0659 - mean_absolute_error: 13.0844\n",
            "1000/1000 [==============================] - 0s 61us/sample - loss: 0.5730 - mean_squared_error: 830.3834 - mean_absolute_error: 12.1987\n",
            "1000/1000 [==============================] - 0s 61us/sample - loss: 0.5712 - mean_squared_error: 910.2512 - mean_absolute_error: 12.0701\n",
            "1000/1000 [==============================] - 0s 64us/sample - loss: 0.5857 - mean_squared_error: 1727.0553 - mean_absolute_error: 14.3860\n",
            "1000/1000 [==============================] - 0s 62us/sample - loss: 0.5723 - mean_squared_error: 812.3035 - mean_absolute_error: 12.5174\n",
            "1000/1000 [==============================] - 0s 66us/sample - loss: 0.5693 - mean_squared_error: 826.4620 - mean_absolute_error: 12.2672\n",
            "1000/1000 [==============================] - 0s 62us/sample - loss: 0.5595 - mean_squared_error: 1094.1968 - mean_absolute_error: 12.5172\n",
            "1000/1000 [==============================] - 0s 77us/sample - loss: 0.5822 - mean_squared_error: 2170.2041 - mean_absolute_error: 13.7996\n",
            "1000/1000 [==============================] - 0s 62us/sample - loss: 0.6020 - mean_squared_error: 756.6829 - mean_absolute_error: 12.8345\n",
            "1000/1000 [==============================] - 0s 59us/sample - loss: 0.5797 - mean_squared_error: 1457.2911 - mean_absolute_error: 13.3312\n",
            "1000/1000 [==============================] - 0s 64us/sample - loss: 0.5672 - mean_squared_error: 1482.6522 - mean_absolute_error: 11.8539\n",
            "1000/1000 [==============================] - 0s 63us/sample - loss: 0.5733 - mean_squared_error: 1117.4363 - mean_absolute_error: 12.6848\n",
            "1000/1000 [==============================] - 0s 63us/sample - loss: 0.5907 - mean_squared_error: 1353.7131 - mean_absolute_error: 12.9001\n",
            "1000/1000 [==============================] - 0s 63us/sample - loss: 0.5842 - mean_squared_error: 962.7738 - mean_absolute_error: 12.8000\n",
            "1000/1000 [==============================] - 0s 64us/sample - loss: 0.5697 - mean_squared_error: 904.1163 - mean_absolute_error: 11.7950\n",
            "1000/1000 [==============================] - 0s 64us/sample - loss: 0.5693 - mean_squared_error: 2848.7634 - mean_absolute_error: 12.6712\n",
            "1000/1000 [==============================] - 0s 79us/sample - loss: 0.6019 - mean_squared_error: 1650.2152 - mean_absolute_error: 13.8170\n",
            "1000/1000 [==============================] - 0s 63us/sample - loss: 0.5403 - mean_squared_error: 781.5292 - mean_absolute_error: 11.0984\n",
            "1000/1000 [==============================] - 0s 62us/sample - loss: 0.5369 - mean_squared_error: 889.2726 - mean_absolute_error: 11.7664\n",
            "1000/1000 [==============================] - 0s 62us/sample - loss: 0.5527 - mean_squared_error: 1270.2316 - mean_absolute_error: 11.5511\n",
            "1000/1000 [==============================] - 0s 63us/sample - loss: 0.5880 - mean_squared_error: 1477.4137 - mean_absolute_error: 13.7812\n",
            "1000/1000 [==============================] - 0s 63us/sample - loss: 0.5801 - mean_squared_error: 727.6780 - mean_absolute_error: 12.1079\n",
            "1000/1000 [==============================] - 0s 60us/sample - loss: 0.5873 - mean_squared_error: 902.7022 - mean_absolute_error: 12.7094\n",
            "1000/1000 [==============================] - 0s 66us/sample - loss: 0.5596 - mean_squared_error: 1040.5326 - mean_absolute_error: 12.2564\n",
            "1000/1000 [==============================] - 0s 65us/sample - loss: 0.5835 - mean_squared_error: 2551.9827 - mean_absolute_error: 14.4864\n",
            "1000/1000 [==============================] - 0s 72us/sample - loss: 0.5602 - mean_squared_error: 776.8599 - mean_absolute_error: 11.8480\n",
            "1000/1000 [==============================] - 0s 62us/sample - loss: 0.5485 - mean_squared_error: 719.1057 - mean_absolute_error: 11.4750\n",
            "1000/1000 [==============================] - 0s 63us/sample - loss: 0.5846 - mean_squared_error: 1160.3408 - mean_absolute_error: 13.3176\n",
            "1000/1000 [==============================] - 0s 65us/sample - loss: 0.5447 - mean_squared_error: 596.2015 - mean_absolute_error: 11.1261\n",
            "1000/1000 [==============================] - 0s 62us/sample - loss: 0.5811 - mean_squared_error: 1006.6442 - mean_absolute_error: 12.0575\n",
            "1000/1000 [==============================] - 0s 61us/sample - loss: 0.5686 - mean_squared_error: 718.5569 - mean_absolute_error: 12.1295\n",
            "1000/1000 [==============================] - 0s 63us/sample - loss: 0.5500 - mean_squared_error: 908.4372 - mean_absolute_error: 12.1064\n",
            "1000/1000 [==============================] - 0s 61us/sample - loss: 0.5665 - mean_squared_error: 702.2320 - mean_absolute_error: 11.4570\n",
            "1000/1000 [==============================] - 0s 65us/sample - loss: 0.5812 - mean_squared_error: 843.3643 - mean_absolute_error: 12.4855\n",
            "1000/1000 [==============================] - 0s 71us/sample - loss: 0.5472 - mean_squared_error: 499.9674 - mean_absolute_error: 10.6581\n",
            "1000/1000 [==============================] - 0s 64us/sample - loss: 0.5836 - mean_squared_error: 1583.4984 - mean_absolute_error: 13.3350\n",
            "1000/1000 [==============================] - 0s 62us/sample - loss: 0.5558 - mean_squared_error: 1309.9347 - mean_absolute_error: 12.4166\n",
            "1000/1000 [==============================] - 0s 64us/sample - loss: 0.6223 - mean_squared_error: 2179.7739 - mean_absolute_error: 15.8267\n",
            "1000/1000 [==============================] - 0s 64us/sample - loss: 0.5683 - mean_squared_error: 2340.9734 - mean_absolute_error: 12.5138\n",
            "1000/1000 [==============================] - 0s 65us/sample - loss: 0.5847 - mean_squared_error: 830.5418 - mean_absolute_error: 12.0014\n",
            "1000/1000 [==============================] - 0s 63us/sample - loss: 0.5858 - mean_squared_error: 481.3787 - mean_absolute_error: 11.4187\n",
            "1000/1000 [==============================] - 0s 65us/sample - loss: 0.5675 - mean_squared_error: 905.8105 - mean_absolute_error: 12.5594\n",
            "1000/1000 [==============================] - 0s 61us/sample - loss: 0.5684 - mean_squared_error: 830.9965 - mean_absolute_error: 11.8273\n",
            "1000/1000 [==============================] - 0s 66us/sample - loss: 0.6087 - mean_squared_error: 1315.0684 - mean_absolute_error: 13.7760\n",
            "1000/1000 [==============================] - 0s 63us/sample - loss: 0.5736 - mean_squared_error: 868.7917 - mean_absolute_error: 12.3497\n",
            "1000/1000 [==============================] - 0s 63us/sample - loss: 0.5750 - mean_squared_error: 1409.1088 - mean_absolute_error: 13.2543\n",
            "1000/1000 [==============================] - 0s 62us/sample - loss: 0.5783 - mean_squared_error: 976.4922 - mean_absolute_error: 12.3020\n",
            "1000/1000 [==============================] - 0s 63us/sample - loss: 0.5754 - mean_squared_error: 3489.9651 - mean_absolute_error: 13.9388\n",
            "1000/1000 [==============================] - 0s 65us/sample - loss: 0.5631 - mean_squared_error: 1112.0277 - mean_absolute_error: 12.3653\n",
            "1000/1000 [==============================] - 0s 61us/sample - loss: 0.5788 - mean_squared_error: 556.2897 - mean_absolute_error: 11.3795\n",
            "1000/1000 [==============================] - 0s 61us/sample - loss: 0.5914 - mean_squared_error: 2727.0828 - mean_absolute_error: 14.7285\n",
            "1000/1000 [==============================] - 0s 63us/sample - loss: 0.5765 - mean_squared_error: 1580.3101 - mean_absolute_error: 13.3684\n",
            "1000/1000 [==============================] - 0s 63us/sample - loss: 0.5863 - mean_squared_error: 1243.7458 - mean_absolute_error: 12.9230\n",
            "1000/1000 [==============================] - 0s 77us/sample - loss: 0.5683 - mean_squared_error: 1513.4065 - mean_absolute_error: 12.4220\n",
            "1000/1000 [==============================] - 0s 62us/sample - loss: 0.6186 - mean_squared_error: 4449.7339 - mean_absolute_error: 15.8026\n",
            "1000/1000 [==============================] - 0s 64us/sample - loss: 0.5889 - mean_squared_error: 770.8794 - mean_absolute_error: 12.4211\n",
            "1000/1000 [==============================] - 0s 61us/sample - loss: 0.5750 - mean_squared_error: 727.4546 - mean_absolute_error: 12.3762\n",
            "1000/1000 [==============================] - 0s 64us/sample - loss: 0.5855 - mean_squared_error: 1519.4210 - mean_absolute_error: 13.1552\n",
            "1000/1000 [==============================] - 0s 66us/sample - loss: 0.5941 - mean_squared_error: 1403.9491 - mean_absolute_error: 13.5124\n",
            "1000/1000 [==============================] - 0s 76us/sample - loss: 0.5712 - mean_squared_error: 843.2480 - mean_absolute_error: 12.6273\n",
            "1000/1000 [==============================] - 0s 63us/sample - loss: 0.5741 - mean_squared_error: 1740.9269 - mean_absolute_error: 12.6073\n",
            "1000/1000 [==============================] - 0s 62us/sample - loss: 0.5519 - mean_squared_error: 756.3687 - mean_absolute_error: 11.2691\n",
            "1000/1000 [==============================] - 0s 76us/sample - loss: 0.5991 - mean_squared_error: 769.7059 - mean_absolute_error: 12.2029\n",
            "1000/1000 [==============================] - 0s 65us/sample - loss: 0.5749 - mean_squared_error: 1607.9033 - mean_absolute_error: 12.8142\n",
            "1000/1000 [==============================] - 0s 62us/sample - loss: 0.5535 - mean_squared_error: 691.2729 - mean_absolute_error: 11.5728\n",
            "1000/1000 [==============================] - 0s 66us/sample - loss: 0.5772 - mean_squared_error: 1235.3379 - mean_absolute_error: 12.8567\n",
            "1000/1000 [==============================] - 0s 63us/sample - loss: 0.5730 - mean_squared_error: 622.9979 - mean_absolute_error: 11.6107\n",
            "1000/1000 [==============================] - 0s 67us/sample - loss: 0.5572 - mean_squared_error: 730.2056 - mean_absolute_error: 11.7821\n",
            "1000/1000 [==============================] - 0s 63us/sample - loss: 0.5760 - mean_squared_error: 934.4794 - mean_absolute_error: 12.3256\n",
            "1000/1000 [==============================] - 0s 64us/sample - loss: 0.6004 - mean_squared_error: 1555.1517 - mean_absolute_error: 13.9720\n",
            "1000/1000 [==============================] - 0s 66us/sample - loss: 0.5818 - mean_squared_error: 836.2495 - mean_absolute_error: 12.0229\n",
            "1000/1000 [==============================] - 0s 77us/sample - loss: 0.5524 - mean_squared_error: 752.8130 - mean_absolute_error: 11.0373\n",
            "1000/1000 [==============================] - 0s 63us/sample - loss: 0.5582 - mean_squared_error: 632.7493 - mean_absolute_error: 11.0309\n",
            "1000/1000 [==============================] - 0s 64us/sample - loss: 0.5750 - mean_squared_error: 1005.3010 - mean_absolute_error: 12.5941\n",
            "1000/1000 [==============================] - 0s 62us/sample - loss: 0.5987 - mean_squared_error: 962.8187 - mean_absolute_error: 12.7901\n",
            "1000/1000 [==============================] - 0s 63us/sample - loss: 0.5531 - mean_squared_error: 442.2205 - mean_absolute_error: 10.9361\n",
            "1000/1000 [==============================] - 0s 64us/sample - loss: 0.5929 - mean_squared_error: 985.2535 - mean_absolute_error: 13.0152\n",
            "1000/1000 [==============================] - 0s 63us/sample - loss: 0.5770 - mean_squared_error: 4416.7041 - mean_absolute_error: 13.7296\n",
            "1000/1000 [==============================] - 0s 64us/sample - loss: 0.5579 - mean_squared_error: 532.5892 - mean_absolute_error: 10.4698\n",
            "1000/1000 [==============================] - 0s 65us/sample - loss: 0.5789 - mean_squared_error: 663.6174 - mean_absolute_error: 11.5587\n",
            "1000/1000 [==============================] - 0s 75us/sample - loss: 0.5842 - mean_squared_error: 765.9090 - mean_absolute_error: 12.5293\n",
            "1000/1000 [==============================] - 0s 62us/sample - loss: 0.6037 - mean_squared_error: 1043.1991 - mean_absolute_error: 12.7646\n",
            "1000/1000 [==============================] - 0s 63us/sample - loss: 0.5660 - mean_squared_error: 810.3946 - mean_absolute_error: 12.4388\n",
            "1000/1000 [==============================] - 0s 60us/sample - loss: 0.5870 - mean_squared_error: 831.0198 - mean_absolute_error: 12.6213\n",
            "1000/1000 [==============================] - 0s 60us/sample - loss: 0.5975 - mean_squared_error: 714.1008 - mean_absolute_error: 12.2832\n",
            "1000/1000 [==============================] - 0s 61us/sample - loss: 0.5694 - mean_squared_error: 740.3308 - mean_absolute_error: 11.7038\n",
            "1000/1000 [==============================] - 0s 62us/sample - loss: 0.6053 - mean_squared_error: 2026.3024 - mean_absolute_error: 15.2527\n",
            "1000/1000 [==============================] - 0s 63us/sample - loss: 0.5380 - mean_squared_error: 734.5262 - mean_absolute_error: 11.0236\n",
            "1000/1000 [==============================] - 0s 62us/sample - loss: 0.5631 - mean_squared_error: 1131.4236 - mean_absolute_error: 11.9961\n",
            "1000/1000 [==============================] - 0s 75us/sample - loss: 0.5801 - mean_squared_error: 2380.2517 - mean_absolute_error: 13.2755\n",
            "1000/1000 [==============================] - 0s 65us/sample - loss: 0.5920 - mean_squared_error: 2623.5090 - mean_absolute_error: 14.7212\n",
            "1000/1000 [==============================] - 0s 65us/sample - loss: 0.5610 - mean_squared_error: 915.1453 - mean_absolute_error: 12.4372\n",
            "1000/1000 [==============================] - 0s 63us/sample - loss: 0.5694 - mean_squared_error: 2134.3647 - mean_absolute_error: 12.7410\n",
            "1000/1000 [==============================] - 0s 62us/sample - loss: 0.5932 - mean_squared_error: 729.9299 - mean_absolute_error: 12.4462\n",
            "1000/1000 [==============================] - 0s 63us/sample - loss: 0.6046 - mean_squared_error: 1865.4186 - mean_absolute_error: 14.0871\n",
            "1000/1000 [==============================] - 0s 62us/sample - loss: 0.5839 - mean_squared_error: 1262.7491 - mean_absolute_error: 12.8904\n",
            "1000/1000 [==============================] - 0s 61us/sample - loss: 0.5685 - mean_squared_error: 580.6574 - mean_absolute_error: 11.7501\n",
            "1000/1000 [==============================] - 0s 62us/sample - loss: 0.5599 - mean_squared_error: 651.4220 - mean_absolute_error: 11.2887\n",
            "1000/1000 [==============================] - 0s 68us/sample - loss: 0.5796 - mean_squared_error: 652.9343 - mean_absolute_error: 11.6319\n",
            "1000/1000 [==============================] - 0s 63us/sample - loss: 0.5782 - mean_squared_error: 589.0046 - mean_absolute_error: 11.9076\n",
            "1000/1000 [==============================] - 0s 62us/sample - loss: 0.5154 - mean_squared_error: 538.6478 - mean_absolute_error: 10.2730\n",
            "1000/1000 [==============================] - 0s 69us/sample - loss: 0.5565 - mean_squared_error: 972.4150 - mean_absolute_error: 12.3567\n",
            "1000/1000 [==============================] - 0s 66us/sample - loss: 0.5860 - mean_squared_error: 764.1458 - mean_absolute_error: 12.8918\n",
            "1000/1000 [==============================] - 0s 62us/sample - loss: 0.5670 - mean_squared_error: 1020.9406 - mean_absolute_error: 12.3420\n",
            "1000/1000 [==============================] - 0s 61us/sample - loss: 0.5544 - mean_squared_error: 782.7562 - mean_absolute_error: 11.5633\n",
            "1000/1000 [==============================] - 0s 62us/sample - loss: 0.5633 - mean_squared_error: 1142.9233 - mean_absolute_error: 12.3426\n",
            "1000/1000 [==============================] - 0s 63us/sample - loss: 0.5843 - mean_squared_error: 883.6031 - mean_absolute_error: 12.2282\n",
            "1000/1000 [==============================] - 0s 62us/sample - loss: 0.5912 - mean_squared_error: 1286.8190 - mean_absolute_error: 13.5560\n",
            "1000/1000 [==============================] - 0s 62us/sample - loss: 0.5492 - mean_squared_error: 474.9152 - mean_absolute_error: 10.6624\n",
            "1000/1000 [==============================] - 0s 64us/sample - loss: 0.5796 - mean_squared_error: 1332.9702 - mean_absolute_error: 12.9640\n",
            "1000/1000 [==============================] - 0s 64us/sample - loss: 0.5674 - mean_squared_error: 768.8024 - mean_absolute_error: 11.9103\n",
            "1000/1000 [==============================] - 0s 65us/sample - loss: 0.5614 - mean_squared_error: 1579.8979 - mean_absolute_error: 12.6210\n",
            "1000/1000 [==============================] - 0s 63us/sample - loss: 0.5772 - mean_squared_error: 1075.7570 - mean_absolute_error: 13.4407\n",
            "1000/1000 [==============================] - 0s 65us/sample - loss: 0.5698 - mean_squared_error: 920.8627 - mean_absolute_error: 12.2158\n",
            "1000/1000 [==============================] - 0s 63us/sample - loss: 0.5797 - mean_squared_error: 1044.1024 - mean_absolute_error: 12.9749\n",
            "1000/1000 [==============================] - 0s 64us/sample - loss: 0.5779 - mean_squared_error: 1697.9696 - mean_absolute_error: 13.1891\n",
            "1000/1000 [==============================] - 0s 63us/sample - loss: 0.5986 - mean_squared_error: 915.5954 - mean_absolute_error: 12.5876\n",
            "1000/1000 [==============================] - 0s 70us/sample - loss: 0.5697 - mean_squared_error: 878.4716 - mean_absolute_error: 12.8279\n",
            "1000/1000 [==============================] - 0s 62us/sample - loss: 0.6156 - mean_squared_error: 1267.7749 - mean_absolute_error: 14.8254\n",
            "1000/1000 [==============================] - 0s 64us/sample - loss: 0.5548 - mean_squared_error: 1350.9691 - mean_absolute_error: 12.2616\n",
            "1000/1000 [==============================] - 0s 64us/sample - loss: 0.5906 - mean_squared_error: 899.7222 - mean_absolute_error: 12.7315\n",
            "1000/1000 [==============================] - 0s 62us/sample - loss: 0.5652 - mean_squared_error: 761.6544 - mean_absolute_error: 11.9029\n",
            "1000/1000 [==============================] - 0s 62us/sample - loss: 0.5698 - mean_squared_error: 552.6963 - mean_absolute_error: 11.6143\n",
            "1000/1000 [==============================] - 0s 62us/sample - loss: 0.6144 - mean_squared_error: 2575.6746 - mean_absolute_error: 16.0194\n",
            "1000/1000 [==============================] - 0s 63us/sample - loss: 0.5818 - mean_squared_error: 753.6241 - mean_absolute_error: 12.0328\n",
            "1000/1000 [==============================] - 0s 62us/sample - loss: 0.5678 - mean_squared_error: 1325.1841 - mean_absolute_error: 12.7327\n",
            "1000/1000 [==============================] - 0s 75us/sample - loss: 0.5638 - mean_squared_error: 626.3270 - mean_absolute_error: 11.6083\n",
            "1000/1000 [==============================] - 0s 66us/sample - loss: 0.5351 - mean_squared_error: 600.8030 - mean_absolute_error: 10.6662\n",
            "1000/1000 [==============================] - 0s 64us/sample - loss: 0.5668 - mean_squared_error: 1078.0730 - mean_absolute_error: 12.2623\n",
            "1000/1000 [==============================] - 0s 63us/sample - loss: 0.6136 - mean_squared_error: 2361.5928 - mean_absolute_error: 14.3286\n",
            "1000/1000 [==============================] - 0s 63us/sample - loss: 0.5783 - mean_squared_error: 989.6498 - mean_absolute_error: 12.7748\n",
            "1000/1000 [==============================] - 0s 66us/sample - loss: 0.5750 - mean_squared_error: 846.1650 - mean_absolute_error: 12.3507\n",
            "1000/1000 [==============================] - 0s 63us/sample - loss: 0.5481 - mean_squared_error: 748.9988 - mean_absolute_error: 10.8258\n",
            "1000/1000 [==============================] - 0s 64us/sample - loss: 0.5558 - mean_squared_error: 737.3117 - mean_absolute_error: 11.6723\n",
            "1000/1000 [==============================] - 0s 65us/sample - loss: 0.5673 - mean_squared_error: 621.2989 - mean_absolute_error: 11.5947\n",
            "1000/1000 [==============================] - 0s 78us/sample - loss: 0.5802 - mean_squared_error: 1552.1400 - mean_absolute_error: 12.8169\n",
            "1000/1000 [==============================] - 0s 62us/sample - loss: 0.5517 - mean_squared_error: 653.9277 - mean_absolute_error: 11.5318\n",
            "1000/1000 [==============================] - 0s 62us/sample - loss: 0.5567 - mean_squared_error: 905.8073 - mean_absolute_error: 11.8070\n",
            "1000/1000 [==============================] - 0s 63us/sample - loss: 0.5934 - mean_squared_error: 1516.0707 - mean_absolute_error: 13.1539\n",
            "1000/1000 [==============================] - 0s 66us/sample - loss: 0.5799 - mean_squared_error: 1061.3567 - mean_absolute_error: 12.4895\n",
            "1000/1000 [==============================] - 0s 61us/sample - loss: 0.5613 - mean_squared_error: 522.9882 - mean_absolute_error: 11.3856\n",
            "1000/1000 [==============================] - 0s 65us/sample - loss: 0.5579 - mean_squared_error: 860.4293 - mean_absolute_error: 11.9595\n",
            "1000/1000 [==============================] - 0s 61us/sample - loss: 0.6081 - mean_squared_error: 2114.3435 - mean_absolute_error: 14.3559\n",
            "1000/1000 [==============================] - 0s 61us/sample - loss: 0.5690 - mean_squared_error: 1212.9688 - mean_absolute_error: 12.5828\n",
            "1000/1000 [==============================] - 0s 75us/sample - loss: 0.5818 - mean_squared_error: 774.1517 - mean_absolute_error: 12.0488\n",
            "1000/1000 [==============================] - 0s 61us/sample - loss: 0.5754 - mean_squared_error: 2034.4452 - mean_absolute_error: 13.1806\n",
            "1000/1000 [==============================] - 0s 64us/sample - loss: 0.5847 - mean_squared_error: 825.2146 - mean_absolute_error: 12.8176\n",
            "1000/1000 [==============================] - 0s 61us/sample - loss: 0.5420 - mean_squared_error: 670.1714 - mean_absolute_error: 11.4428\n",
            "1000/1000 [==============================] - 0s 64us/sample - loss: 0.5787 - mean_squared_error: 1911.0725 - mean_absolute_error: 14.0146\n",
            "1000/1000 [==============================] - 0s 63us/sample - loss: 0.5782 - mean_squared_error: 1000.8713 - mean_absolute_error: 12.6283\n",
            "1000/1000 [==============================] - 0s 61us/sample - loss: 0.5534 - mean_squared_error: 689.2355 - mean_absolute_error: 11.9309\n",
            "1000/1000 [==============================] - 0s 67us/sample - loss: 0.5726 - mean_squared_error: 935.7446 - mean_absolute_error: 12.4500\n",
            "1000/1000 [==============================] - 0s 62us/sample - loss: 0.5641 - mean_squared_error: 1190.7539 - mean_absolute_error: 12.3752\n",
            "1000/1000 [==============================] - 0s 69us/sample - loss: 0.5979 - mean_squared_error: 1535.1830 - mean_absolute_error: 14.4236\n",
            "1000/1000 [==============================] - 0s 63us/sample - loss: 0.5859 - mean_squared_error: 943.5268 - mean_absolute_error: 12.0663\n",
            "1000/1000 [==============================] - 0s 64us/sample - loss: 0.5753 - mean_squared_error: 799.1100 - mean_absolute_error: 12.2514\n",
            "1000/1000 [==============================] - 0s 64us/sample - loss: 0.5527 - mean_squared_error: 593.0050 - mean_absolute_error: 11.0605\n",
            "1000/1000 [==============================] - 0s 61us/sample - loss: 0.5752 - mean_squared_error: 1264.3230 - mean_absolute_error: 13.0545\n",
            "1000/1000 [==============================] - 0s 63us/sample - loss: 0.5726 - mean_squared_error: 751.1642 - mean_absolute_error: 12.1616\n",
            "1000/1000 [==============================] - 0s 63us/sample - loss: 0.5707 - mean_squared_error: 943.1565 - mean_absolute_error: 12.0074\n",
            "1000/1000 [==============================] - 0s 64us/sample - loss: 0.5534 - mean_squared_error: 642.4275 - mean_absolute_error: 11.2316\n",
            "1000/1000 [==============================] - 0s 62us/sample - loss: 0.5726 - mean_squared_error: 1138.3586 - mean_absolute_error: 12.2779\n",
            "1000/1000 [==============================] - 0s 63us/sample - loss: 0.5838 - mean_squared_error: 2005.4987 - mean_absolute_error: 14.1951\n",
            "1000/1000 [==============================] - 0s 62us/sample - loss: 0.5770 - mean_squared_error: 5360.1597 - mean_absolute_error: 14.7077\n",
            "1000/1000 [==============================] - 0s 62us/sample - loss: 0.5782 - mean_squared_error: 1430.4369 - mean_absolute_error: 13.7311\n",
            "1000/1000 [==============================] - 0s 61us/sample - loss: 0.6031 - mean_squared_error: 974.6595 - mean_absolute_error: 12.7495\n",
            "1000/1000 [==============================] - 0s 63us/sample - loss: 0.5683 - mean_squared_error: 2748.8105 - mean_absolute_error: 13.2545\n",
            "1000/1000 [==============================] - 0s 63us/sample - loss: 0.5626 - mean_squared_error: 494.3801 - mean_absolute_error: 11.1051\n",
            "1000/1000 [==============================] - 0s 63us/sample - loss: 0.5714 - mean_squared_error: 1649.2209 - mean_absolute_error: 12.7931\n",
            "1000/1000 [==============================] - 0s 63us/sample - loss: 0.5698 - mean_squared_error: 719.1759 - mean_absolute_error: 11.6159\n",
            "1000/1000 [==============================] - 0s 63us/sample - loss: 0.5675 - mean_squared_error: 1916.7915 - mean_absolute_error: 12.9231\n",
            "1000/1000 [==============================] - 0s 63us/sample - loss: 0.5651 - mean_squared_error: 868.2632 - mean_absolute_error: 11.7920\n",
            "1000/1000 [==============================] - 0s 71us/sample - loss: 0.5676 - mean_squared_error: 688.0124 - mean_absolute_error: 11.9864\n",
            "1000/1000 [==============================] - 0s 63us/sample - loss: 0.5792 - mean_squared_error: 1234.2167 - mean_absolute_error: 12.9796\n",
            "1000/1000 [==============================] - 0s 63us/sample - loss: 0.5694 - mean_squared_error: 591.7335 - mean_absolute_error: 11.6379\n",
            "1000/1000 [==============================] - 0s 63us/sample - loss: 0.5756 - mean_squared_error: 1071.8298 - mean_absolute_error: 12.1411\n",
            "1000/1000 [==============================] - 0s 63us/sample - loss: 0.5892 - mean_squared_error: 1235.6589 - mean_absolute_error: 12.9011\n",
            "1000/1000 [==============================] - 0s 61us/sample - loss: 0.5836 - mean_squared_error: 1236.5480 - mean_absolute_error: 13.1029\n",
            "1000/1000 [==============================] - 0s 63us/sample - loss: 0.5682 - mean_squared_error: 809.4800 - mean_absolute_error: 11.8406\n",
            "1000/1000 [==============================] - 0s 64us/sample - loss: 0.5902 - mean_squared_error: 1645.6840 - mean_absolute_error: 13.9893\n",
            "1000/1000 [==============================] - 0s 63us/sample - loss: 0.5522 - mean_squared_error: 715.1253 - mean_absolute_error: 11.1997\n",
            "1000/1000 [==============================] - 0s 74us/sample - loss: 0.5770 - mean_squared_error: 1731.2719 - mean_absolute_error: 12.8094\n",
            "1000/1000 [==============================] - 0s 64us/sample - loss: 0.5703 - mean_squared_error: 2120.4192 - mean_absolute_error: 11.9931\n",
            "1000/1000 [==============================] - 0s 64us/sample - loss: 0.5898 - mean_squared_error: 823.1815 - mean_absolute_error: 12.5557\n",
            "1000/1000 [==============================] - 0s 64us/sample - loss: 0.5838 - mean_squared_error: 998.8546 - mean_absolute_error: 12.8719\n",
            "1000/1000 [==============================] - 0s 61us/sample - loss: 0.5650 - mean_squared_error: 1823.6144 - mean_absolute_error: 13.3951\n",
            "1000/1000 [==============================] - 0s 61us/sample - loss: 0.5728 - mean_squared_error: 659.0462 - mean_absolute_error: 11.7995\n",
            "1000/1000 [==============================] - 0s 62us/sample - loss: 0.5730 - mean_squared_error: 1342.5315 - mean_absolute_error: 12.5191\n",
            "1000/1000 [==============================] - 0s 62us/sample - loss: 0.5498 - mean_squared_error: 560.8389 - mean_absolute_error: 10.9306\n",
            "1000/1000 [==============================] - 0s 63us/sample - loss: 0.5686 - mean_squared_error: 690.1386 - mean_absolute_error: 11.6414\n",
            "1000/1000 [==============================] - 0s 76us/sample - loss: 0.5930 - mean_squared_error: 802.7789 - mean_absolute_error: 12.1588\n",
            "1000/1000 [==============================] - 0s 64us/sample - loss: 0.5708 - mean_squared_error: 825.5404 - mean_absolute_error: 12.6672\n",
            "1000/1000 [==============================] - 0s 67us/sample - loss: 0.5738 - mean_squared_error: 799.1132 - mean_absolute_error: 11.9028\n",
            "1000/1000 [==============================] - 0s 62us/sample - loss: 0.5721 - mean_squared_error: 3037.1355 - mean_absolute_error: 13.0300\n",
            "1000/1000 [==============================] - 0s 62us/sample - loss: 0.5868 - mean_squared_error: 713.8353 - mean_absolute_error: 11.9749\n",
            "1000/1000 [==============================] - 0s 62us/sample - loss: 0.5754 - mean_squared_error: 633.1855 - mean_absolute_error: 11.8172\n",
            "1000/1000 [==============================] - 0s 62us/sample - loss: 0.5839 - mean_squared_error: 796.0452 - mean_absolute_error: 12.1484\n",
            "1000/1000 [==============================] - 0s 66us/sample - loss: 0.5783 - mean_squared_error: 4436.1260 - mean_absolute_error: 14.9231\n",
            "1000/1000 [==============================] - 0s 64us/sample - loss: 0.6116 - mean_squared_error: 2352.4524 - mean_absolute_error: 14.9052\n",
            "1000/1000 [==============================] - 0s 75us/sample - loss: 0.5896 - mean_squared_error: 1306.9210 - mean_absolute_error: 13.0704\n",
            "1000/1000 [==============================] - 0s 60us/sample - loss: 0.5698 - mean_squared_error: 901.5355 - mean_absolute_error: 12.0540\n",
            "1000/1000 [==============================] - 0s 62us/sample - loss: 0.5784 - mean_squared_error: 934.1659 - mean_absolute_error: 13.1618\n",
            "1000/1000 [==============================] - 0s 63us/sample - loss: 0.5855 - mean_squared_error: 1738.8004 - mean_absolute_error: 13.2865\n",
            "1000/1000 [==============================] - 0s 64us/sample - loss: 0.5908 - mean_squared_error: 2845.0608 - mean_absolute_error: 15.2964\n",
            "1000/1000 [==============================] - 0s 61us/sample - loss: 0.5716 - mean_squared_error: 819.9290 - mean_absolute_error: 11.9534\n",
            "1000/1000 [==============================] - 0s 63us/sample - loss: 0.5843 - mean_squared_error: 1222.8527 - mean_absolute_error: 13.2296\n",
            "1000/1000 [==============================] - 0s 62us/sample - loss: 0.5757 - mean_squared_error: 716.9546 - mean_absolute_error: 12.1255\n",
            "1000/1000 [==============================] - 0s 64us/sample - loss: 0.5928 - mean_squared_error: 1191.4668 - mean_absolute_error: 13.1694\n",
            "1000/1000 [==============================] - 0s 66us/sample - loss: 0.6191 - mean_squared_error: 1493.9369 - mean_absolute_error: 14.8803\n",
            "1000/1000 [==============================] - 0s 62us/sample - loss: 0.5833 - mean_squared_error: 1479.5110 - mean_absolute_error: 12.7408\n",
            "1000/1000 [==============================] - 0s 63us/sample - loss: 0.5800 - mean_squared_error: 838.5792 - mean_absolute_error: 12.1857\n",
            "1000/1000 [==============================] - 0s 62us/sample - loss: 0.5714 - mean_squared_error: 859.1143 - mean_absolute_error: 12.5031\n",
            "1000/1000 [==============================] - 0s 63us/sample - loss: 0.5693 - mean_squared_error: 981.3550 - mean_absolute_error: 11.9726\n",
            "1000/1000 [==============================] - 0s 61us/sample - loss: 0.5765 - mean_squared_error: 857.7239 - mean_absolute_error: 12.6514\n",
            "1000/1000 [==============================] - 0s 65us/sample - loss: 0.5621 - mean_squared_error: 698.7857 - mean_absolute_error: 11.7569\n",
            "1000/1000 [==============================] - 0s 64us/sample - loss: 0.5753 - mean_squared_error: 1147.6266 - mean_absolute_error: 12.1210\n",
            "1000/1000 [==============================] - 0s 62us/sample - loss: 0.5903 - mean_squared_error: 1151.5417 - mean_absolute_error: 13.4852\n",
            "1000/1000 [==============================] - 0s 63us/sample - loss: 0.5887 - mean_squared_error: 1124.1343 - mean_absolute_error: 13.2846\n",
            "1000/1000 [==============================] - 0s 64us/sample - loss: 0.5704 - mean_squared_error: 844.5935 - mean_absolute_error: 12.4439\n",
            "1000/1000 [==============================] - 0s 66us/sample - loss: 0.5690 - mean_squared_error: 1050.0259 - mean_absolute_error: 12.4249\n",
            "1000/1000 [==============================] - 0s 62us/sample - loss: 0.5422 - mean_squared_error: 731.3831 - mean_absolute_error: 11.3645\n",
            "1000/1000 [==============================] - 0s 72us/sample - loss: 0.5666 - mean_squared_error: 1237.0310 - mean_absolute_error: 12.8378\n",
            "1000/1000 [==============================] - 0s 68us/sample - loss: 0.5366 - mean_squared_error: 751.3013 - mean_absolute_error: 11.7456\n",
            "1000/1000 [==============================] - 0s 68us/sample - loss: 0.5818 - mean_squared_error: 789.6522 - mean_absolute_error: 12.0488\n",
            "1000/1000 [==============================] - 0s 71us/sample - loss: 0.5563 - mean_squared_error: 2604.1885 - mean_absolute_error: 12.6919\n",
            "1000/1000 [==============================] - 0s 71us/sample - loss: 0.6178 - mean_squared_error: 1628.0714 - mean_absolute_error: 15.3180\n",
            "1000/1000 [==============================] - 0s 86us/sample - loss: 0.5724 - mean_squared_error: 905.7775 - mean_absolute_error: 12.0955\n",
            "1000/1000 [==============================] - 0s 68us/sample - loss: 0.5650 - mean_squared_error: 1302.2194 - mean_absolute_error: 12.3014\n",
            "1000/1000 [==============================] - 0s 69us/sample - loss: 0.5699 - mean_squared_error: 647.1731 - mean_absolute_error: 11.8891\n",
            "1000/1000 [==============================] - 0s 69us/sample - loss: 0.5705 - mean_squared_error: 1128.8600 - mean_absolute_error: 12.9390\n",
            "1000/1000 [==============================] - 0s 70us/sample - loss: 0.5673 - mean_squared_error: 1213.7977 - mean_absolute_error: 12.6450\n",
            "1000/1000 [==============================] - 0s 71us/sample - loss: 0.5880 - mean_squared_error: 1075.6132 - mean_absolute_error: 12.5270\n",
            "1000/1000 [==============================] - 0s 69us/sample - loss: 0.5864 - mean_squared_error: 2169.1565 - mean_absolute_error: 14.1349\n",
            "1000/1000 [==============================] - 0s 70us/sample - loss: 0.5704 - mean_squared_error: 1542.7567 - mean_absolute_error: 12.7595\n",
            "1000/1000 [==============================] - 0s 69us/sample - loss: 0.5983 - mean_squared_error: 892.4980 - mean_absolute_error: 12.6884\n",
            "1000/1000 [==============================] - 0s 70us/sample - loss: 0.5794 - mean_squared_error: 1498.2692 - mean_absolute_error: 13.3702\n",
            "1000/1000 [==============================] - 0s 71us/sample - loss: 0.5882 - mean_squared_error: 3009.1340 - mean_absolute_error: 13.0700\n",
            "1000/1000 [==============================] - 0s 70us/sample - loss: 0.5784 - mean_squared_error: 1543.4098 - mean_absolute_error: 13.7135\n",
            "1000/1000 [==============================] - 0s 70us/sample - loss: 0.5534 - mean_squared_error: 1204.4476 - mean_absolute_error: 12.3907\n",
            "1000/1000 [==============================] - 0s 70us/sample - loss: 0.5713 - mean_squared_error: 1935.8588 - mean_absolute_error: 13.1972\n",
            "1000/1000 [==============================] - 0s 87us/sample - loss: 0.5698 - mean_squared_error: 2866.1558 - mean_absolute_error: 12.6654\n",
            "1000/1000 [==============================] - 0s 72us/sample - loss: 0.5643 - mean_squared_error: 3211.6753 - mean_absolute_error: 13.5172\n",
            "1000/1000 [==============================] - 0s 68us/sample - loss: 0.5609 - mean_squared_error: 697.6786 - mean_absolute_error: 12.0388\n",
            "1000/1000 [==============================] - 0s 87us/sample - loss: 0.5790 - mean_squared_error: 812.5514 - mean_absolute_error: 12.7232\n",
            "1000/1000 [==============================] - 0s 67us/sample - loss: 0.5752 - mean_squared_error: 1588.6167 - mean_absolute_error: 13.1260\n",
            "1000/1000 [==============================] - 0s 70us/sample - loss: 0.5894 - mean_squared_error: 592.0074 - mean_absolute_error: 11.6432\n",
            "1000/1000 [==============================] - 0s 71us/sample - loss: 0.5950 - mean_squared_error: 2841.5813 - mean_absolute_error: 13.8590\n",
            "1000/1000 [==============================] - 0s 69us/sample - loss: 0.5945 - mean_squared_error: 1878.1661 - mean_absolute_error: 13.6085\n",
            "1000/1000 [==============================] - 0s 68us/sample - loss: 0.5920 - mean_squared_error: 1824.8793 - mean_absolute_error: 13.8142\n",
            "1000/1000 [==============================] - 0s 71us/sample - loss: 0.5686 - mean_squared_error: 733.9774 - mean_absolute_error: 11.8890\n",
            "1000/1000 [==============================] - 0s 71us/sample - loss: 0.5773 - mean_squared_error: 935.6157 - mean_absolute_error: 12.6807\n",
            "1000/1000 [==============================] - 0s 83us/sample - loss: 0.5900 - mean_squared_error: 732.5646 - mean_absolute_error: 11.9719\n",
            "1000/1000 [==============================] - 0s 71us/sample - loss: 0.5824 - mean_squared_error: 804.5967 - mean_absolute_error: 12.4144\n",
            "1000/1000 [==============================] - 0s 71us/sample - loss: 0.5874 - mean_squared_error: 654.8441 - mean_absolute_error: 12.6112\n",
            "1000/1000 [==============================] - 0s 70us/sample - loss: 0.5741 - mean_squared_error: 966.7975 - mean_absolute_error: 12.5667\n",
            "1000/1000 [==============================] - 0s 72us/sample - loss: 0.5894 - mean_squared_error: 696.1016 - mean_absolute_error: 12.3602\n",
            "1000/1000 [==============================] - 0s 69us/sample - loss: 0.5765 - mean_squared_error: 958.8289 - mean_absolute_error: 12.1158\n",
            "1000/1000 [==============================] - 0s 71us/sample - loss: 0.5757 - mean_squared_error: 2017.3342 - mean_absolute_error: 13.0711\n",
            "1000/1000 [==============================] - 0s 70us/sample - loss: 0.5694 - mean_squared_error: 864.6226 - mean_absolute_error: 11.4274\n",
            "1000/1000 [==============================] - 0s 71us/sample - loss: 0.6106 - mean_squared_error: 1329.8729 - mean_absolute_error: 13.7766\n",
            "1000/1000 [==============================] - 0s 72us/sample - loss: 0.5992 - mean_squared_error: 1047.9302 - mean_absolute_error: 12.7002\n",
            "1000/1000 [==============================] - 0s 69us/sample - loss: 0.5366 - mean_squared_error: 877.9845 - mean_absolute_error: 11.4498\n",
            "1000/1000 [==============================] - 0s 69us/sample - loss: 0.5854 - mean_squared_error: 3188.6060 - mean_absolute_error: 14.2145\n",
            "1000/1000 [==============================] - 0s 69us/sample - loss: 0.5935 - mean_squared_error: 787.1598 - mean_absolute_error: 12.5225\n",
            "1000/1000 [==============================] - 0s 70us/sample - loss: 0.5563 - mean_squared_error: 1385.3563 - mean_absolute_error: 12.5426\n",
            "1000/1000 [==============================] - 0s 69us/sample - loss: 0.5593 - mean_squared_error: 802.1284 - mean_absolute_error: 11.8705\n",
            "1000/1000 [==============================] - 0s 71us/sample - loss: 0.5840 - mean_squared_error: 845.9822 - mean_absolute_error: 12.4708\n",
            "1000/1000 [==============================] - 0s 68us/sample - loss: 0.5657 - mean_squared_error: 1150.8176 - mean_absolute_error: 12.5493\n",
            "1000/1000 [==============================] - 0s 85us/sample - loss: 0.5945 - mean_squared_error: 1182.0024 - mean_absolute_error: 13.4521\n",
            "1000/1000 [==============================] - 0s 72us/sample - loss: 0.5566 - mean_squared_error: 699.0214 - mean_absolute_error: 11.5733\n",
            "1000/1000 [==============================] - 0s 69us/sample - loss: 0.5802 - mean_squared_error: 1193.5905 - mean_absolute_error: 13.0044\n",
            "1000/1000 [==============================] - 0s 71us/sample - loss: 0.5558 - mean_squared_error: 862.0719 - mean_absolute_error: 12.1819\n",
            "1000/1000 [==============================] - 0s 70us/sample - loss: 0.5743 - mean_squared_error: 859.5547 - mean_absolute_error: 11.9588\n",
            "1000/1000 [==============================] - 0s 69us/sample - loss: 0.5892 - mean_squared_error: 904.6390 - mean_absolute_error: 12.4471\n",
            "1000/1000 [==============================] - 0s 71us/sample - loss: 0.5597 - mean_squared_error: 566.6856 - mean_absolute_error: 11.4332\n",
            "1000/1000 [==============================] - 0s 70us/sample - loss: 0.5950 - mean_squared_error: 972.6400 - mean_absolute_error: 12.6114\n",
            "1000/1000 [==============================] - 0s 72us/sample - loss: 0.5584 - mean_squared_error: 1164.9248 - mean_absolute_error: 12.5015\n",
            "1000/1000 [==============================] - 0s 70us/sample - loss: 0.5875 - mean_squared_error: 850.1809 - mean_absolute_error: 12.2044\n",
            "1000/1000 [==============================] - 0s 71us/sample - loss: 0.5787 - mean_squared_error: 1174.8762 - mean_absolute_error: 13.7126\n",
            "1000/1000 [==============================] - 0s 71us/sample - loss: 0.5889 - mean_squared_error: 792.0283 - mean_absolute_error: 12.7077\n",
            "1000/1000 [==============================] - 0s 68us/sample - loss: 0.5700 - mean_squared_error: 823.1496 - mean_absolute_error: 11.9844\n",
            "1000/1000 [==============================] - 0s 71us/sample - loss: 0.5438 - mean_squared_error: 454.1341 - mean_absolute_error: 10.6801\n",
            "1000/1000 [==============================] - 0s 68us/sample - loss: 0.5436 - mean_squared_error: 596.8082 - mean_absolute_error: 11.1485\n",
            "1000/1000 [==============================] - 0s 70us/sample - loss: 0.5972 - mean_squared_error: 914.2497 - mean_absolute_error: 12.8624\n",
            "1000/1000 [==============================] - 0s 69us/sample - loss: 0.5572 - mean_squared_error: 629.7285 - mean_absolute_error: 11.5819\n",
            "1000/1000 [==============================] - 0s 86us/sample - loss: 0.5684 - mean_squared_error: 855.8555 - mean_absolute_error: 11.7407\n",
            "1000/1000 [==============================] - 0s 68us/sample - loss: 0.5683 - mean_squared_error: 663.1141 - mean_absolute_error: 11.4610\n",
            "1000/1000 [==============================] - 0s 70us/sample - loss: 0.5706 - mean_squared_error: 828.6331 - mean_absolute_error: 12.3961\n",
            "1000/1000 [==============================] - 0s 69us/sample - loss: 0.5668 - mean_squared_error: 1542.0598 - mean_absolute_error: 12.6717\n",
            "1000/1000 [==============================] - 0s 70us/sample - loss: 0.5621 - mean_squared_error: 932.3702 - mean_absolute_error: 12.3494\n",
            "1000/1000 [==============================] - 0s 71us/sample - loss: 0.5821 - mean_squared_error: 921.3995 - mean_absolute_error: 12.3465\n",
            "1000/1000 [==============================] - 0s 70us/sample - loss: 0.5759 - mean_squared_error: 1653.6482 - mean_absolute_error: 13.5011\n",
            "1000/1000 [==============================] - 0s 67us/sample - loss: 0.6002 - mean_squared_error: 2280.4983 - mean_absolute_error: 13.3097\n",
            "1000/1000 [==============================] - 0s 74us/sample - loss: 0.5708 - mean_squared_error: 566.2077 - mean_absolute_error: 11.7267\n",
            "1000/1000 [==============================] - 0s 68us/sample - loss: 0.6099 - mean_squared_error: 2001.1532 - mean_absolute_error: 14.6399\n",
            "1000/1000 [==============================] - 0s 70us/sample - loss: 0.5949 - mean_squared_error: 1103.3612 - mean_absolute_error: 13.6936\n",
            "1000/1000 [==============================] - 0s 71us/sample - loss: 0.5961 - mean_squared_error: 1534.2786 - mean_absolute_error: 13.5657\n",
            "1000/1000 [==============================] - 0s 69us/sample - loss: 0.6028 - mean_squared_error: 1250.7727 - mean_absolute_error: 13.5983\n",
            "1000/1000 [==============================] - 0s 70us/sample - loss: 0.5734 - mean_squared_error: 1379.2727 - mean_absolute_error: 12.5458\n",
            "1000/1000 [==============================] - 0s 69us/sample - loss: 0.5932 - mean_squared_error: 1085.9167 - mean_absolute_error: 13.3552\n",
            "1000/1000 [==============================] - 0s 68us/sample - loss: 0.5388 - mean_squared_error: 601.3893 - mean_absolute_error: 10.7158\n",
            "1000/1000 [==============================] - 0s 71us/sample - loss: 0.5665 - mean_squared_error: 738.0537 - mean_absolute_error: 11.7724\n",
            "1000/1000 [==============================] - 0s 81us/sample - loss: 0.5647 - mean_squared_error: 992.1123 - mean_absolute_error: 11.9668\n",
            "1000/1000 [==============================] - 0s 62us/sample - loss: 0.5805 - mean_squared_error: 3970.6279 - mean_absolute_error: 14.7017\n",
            "1000/1000 [==============================] - 0s 61us/sample - loss: 0.5813 - mean_squared_error: 951.2896 - mean_absolute_error: 11.7058\n",
            "1000/1000 [==============================] - 0s 64us/sample - loss: 0.5851 - mean_squared_error: 993.5836 - mean_absolute_error: 11.9634\n",
            "1000/1000 [==============================] - 0s 62us/sample - loss: 0.5815 - mean_squared_error: 2440.4343 - mean_absolute_error: 13.8593\n",
            "1000/1000 [==============================] - 0s 66us/sample - loss: 0.5794 - mean_squared_error: 1601.3624 - mean_absolute_error: 13.1445\n",
            "1000/1000 [==============================] - 0s 62us/sample - loss: 0.5901 - mean_squared_error: 964.2256 - mean_absolute_error: 12.7011\n",
            "1000/1000 [==============================] - 0s 61us/sample - loss: 0.5827 - mean_squared_error: 668.3411 - mean_absolute_error: 11.6275\n",
            "1000/1000 [==============================] - 0s 63us/sample - loss: 0.5769 - mean_squared_error: 3225.9900 - mean_absolute_error: 13.6957\n",
            "1000/1000 [==============================] - 0s 77us/sample - loss: 0.5611 - mean_squared_error: 443.0315 - mean_absolute_error: 10.3370\n",
            "1000/1000 [==============================] - 0s 63us/sample - loss: 0.5789 - mean_squared_error: 641.0189 - mean_absolute_error: 11.3635\n",
            "1000/1000 [==============================] - 0s 65us/sample - loss: 0.6022 - mean_squared_error: 1581.3157 - mean_absolute_error: 12.9736\n",
            "1000/1000 [==============================] - 0s 63us/sample - loss: 0.5642 - mean_squared_error: 810.6744 - mean_absolute_error: 11.5450\n",
            "1000/1000 [==============================] - 0s 64us/sample - loss: 0.5871 - mean_squared_error: 1010.6480 - mean_absolute_error: 12.5287\n",
            "1000/1000 [==============================] - 0s 63us/sample - loss: 0.5523 - mean_squared_error: 1287.4030 - mean_absolute_error: 12.7384\n",
            "1000/1000 [==============================] - 0s 62us/sample - loss: 0.5470 - mean_squared_error: 506.1447 - mean_absolute_error: 10.7630\n",
            "1000/1000 [==============================] - 0s 62us/sample - loss: 0.5390 - mean_squared_error: 703.1342 - mean_absolute_error: 11.4624\n",
            "1000/1000 [==============================] - 0s 63us/sample - loss: 0.5772 - mean_squared_error: 1525.4725 - mean_absolute_error: 12.6577\n",
            "1000/1000 [==============================] - 0s 78us/sample - loss: 0.5992 - mean_squared_error: 1353.7211 - mean_absolute_error: 13.3104\n",
            "1000/1000 [==============================] - 0s 63us/sample - loss: 0.6129 - mean_squared_error: 1119.3264 - mean_absolute_error: 13.9877\n",
            "1000/1000 [==============================] - 0s 64us/sample - loss: 0.5549 - mean_squared_error: 766.5594 - mean_absolute_error: 11.2168\n",
            "1000/1000 [==============================] - 0s 62us/sample - loss: 0.6032 - mean_squared_error: 2444.0464 - mean_absolute_error: 14.7936\n",
            "1000/1000 [==============================] - 0s 63us/sample - loss: 0.5567 - mean_squared_error: 1090.3392 - mean_absolute_error: 12.0579\n",
            "1000/1000 [==============================] - 0s 79us/sample - loss: 0.5783 - mean_squared_error: 1635.9976 - mean_absolute_error: 13.1280\n",
            "1000/1000 [==============================] - 0s 63us/sample - loss: 0.5686 - mean_squared_error: 771.4398 - mean_absolute_error: 12.2708\n",
            "1000/1000 [==============================] - 0s 64us/sample - loss: 0.5564 - mean_squared_error: 654.8117 - mean_absolute_error: 12.1515\n",
            "1000/1000 [==============================] - 0s 64us/sample - loss: 0.5656 - mean_squared_error: 1517.1089 - mean_absolute_error: 12.3777\n",
            "1000/1000 [==============================] - 0s 76us/sample - loss: 0.5880 - mean_squared_error: 943.2159 - mean_absolute_error: 12.7588\n",
            "1000/1000 [==============================] - 0s 61us/sample - loss: 0.5680 - mean_squared_error: 711.3850 - mean_absolute_error: 11.8789\n",
            "1000/1000 [==============================] - 0s 64us/sample - loss: 0.5679 - mean_squared_error: 1045.1365 - mean_absolute_error: 12.4431\n",
            "1000/1000 [==============================] - 0s 65us/sample - loss: 0.5930 - mean_squared_error: 1064.1246 - mean_absolute_error: 12.6153\n",
            "1000/1000 [==============================] - 0s 64us/sample - loss: 0.5784 - mean_squared_error: 772.1219 - mean_absolute_error: 12.8560\n",
            "1000/1000 [==============================] - 0s 68us/sample - loss: 0.5860 - mean_squared_error: 1214.0956 - mean_absolute_error: 12.8642\n",
            "1000/1000 [==============================] - 0s 64us/sample - loss: 0.5623 - mean_squared_error: 629.9686 - mean_absolute_error: 11.4906\n",
            "1000/1000 [==============================] - 0s 62us/sample - loss: 0.5548 - mean_squared_error: 1094.3718 - mean_absolute_error: 12.3301\n",
            "1000/1000 [==============================] - 0s 63us/sample - loss: 0.5707 - mean_squared_error: 954.5753 - mean_absolute_error: 12.5725\n",
            "1000/1000 [==============================] - 0s 75us/sample - loss: 0.5642 - mean_squared_error: 1893.9152 - mean_absolute_error: 13.0136\n",
            "1000/1000 [==============================] - 0s 62us/sample - loss: 0.5914 - mean_squared_error: 1811.4435 - mean_absolute_error: 12.6831\n",
            "1000/1000 [==============================] - 0s 64us/sample - loss: 0.5703 - mean_squared_error: 871.1792 - mean_absolute_error: 11.6922\n",
            "1000/1000 [==============================] - 0s 63us/sample - loss: 0.5847 - mean_squared_error: 696.8676 - mean_absolute_error: 11.1712\n",
            "1000/1000 [==============================] - 0s 61us/sample - loss: 0.5552 - mean_squared_error: 947.6501 - mean_absolute_error: 11.8250\n",
            "1000/1000 [==============================] - 0s 64us/sample - loss: 0.6059 - mean_squared_error: 4355.5146 - mean_absolute_error: 15.1284\n",
            "1000/1000 [==============================] - 0s 63us/sample - loss: 0.6072 - mean_squared_error: 1247.0083 - mean_absolute_error: 14.3499\n",
            "1000/1000 [==============================] - 0s 70us/sample - loss: 0.5729 - mean_squared_error: 616.0738 - mean_absolute_error: 11.8206\n",
            "1000/1000 [==============================] - 0s 62us/sample - loss: 0.5538 - mean_squared_error: 2108.5422 - mean_absolute_error: 12.2926\n",
            "1000/1000 [==============================] - 0s 69us/sample - loss: 0.5677 - mean_squared_error: 1372.7391 - mean_absolute_error: 12.8891\n",
            "1000/1000 [==============================] - 0s 63us/sample - loss: 0.5724 - mean_squared_error: 921.0156 - mean_absolute_error: 12.7411\n",
            "1000/1000 [==============================] - 0s 66us/sample - loss: 0.6026 - mean_squared_error: 1803.5288 - mean_absolute_error: 13.9730\n",
            "1000/1000 [==============================] - 0s 64us/sample - loss: 0.5874 - mean_squared_error: 995.0230 - mean_absolute_error: 12.9534\n",
            "1000/1000 [==============================] - 0s 62us/sample - loss: 0.6159 - mean_squared_error: 1244.6031 - mean_absolute_error: 13.7835\n",
            "1000/1000 [==============================] - 0s 65us/sample - loss: 0.6009 - mean_squared_error: 2141.5437 - mean_absolute_error: 15.2861\n",
            "1000/1000 [==============================] - 0s 63us/sample - loss: 0.5770 - mean_squared_error: 956.4188 - mean_absolute_error: 12.8354\n",
            "1000/1000 [==============================] - 0s 64us/sample - loss: 0.5860 - mean_squared_error: 584.6324 - mean_absolute_error: 11.8791\n",
            "1000/1000 [==============================] - 0s 60us/sample - loss: 0.5595 - mean_squared_error: 554.8879 - mean_absolute_error: 11.3083\n",
            "1000/1000 [==============================] - 0s 63us/sample - loss: 0.5721 - mean_squared_error: 950.2414 - mean_absolute_error: 12.0530\n",
            "1000/1000 [==============================] - 0s 63us/sample - loss: 0.5671 - mean_squared_error: 975.7823 - mean_absolute_error: 12.5588\n",
            "1000/1000 [==============================] - 0s 63us/sample - loss: 0.5732 - mean_squared_error: 1124.7439 - mean_absolute_error: 13.3238\n",
            "1000/1000 [==============================] - 0s 62us/sample - loss: 0.5418 - mean_squared_error: 444.6250 - mean_absolute_error: 10.5794\n",
            "1000/1000 [==============================] - 0s 62us/sample - loss: 0.5614 - mean_squared_error: 1024.5568 - mean_absolute_error: 13.0035\n"
          ],
          "name": "stdout"
        }
      ]
    },
    {
      "cell_type": "code",
      "metadata": {
        "id": "cgeM1FJXsv7L",
        "colab_type": "code",
        "colab": {
          "base_uri": "https://localhost:8080/",
          "height": 51
        },
        "outputId": "4c45b128-f0ba-4808-81ad-f2a520d7cd79"
      },
      "source": [
        "evals = np.array(evaluations)\n",
        "print('RMSLE:', np.around(np.mean(evals[:,0]), 4))\n",
        "print('MAE:', np.around(np.mean(evals[:,2]), 4))"
      ],
      "execution_count": 130,
      "outputs": [
        {
          "output_type": "stream",
          "text": [
            "RMSLE: 0.5754\n",
            "MAE: 12.5607\n"
          ],
          "name": "stdout"
        }
      ]
    }
  ]
}