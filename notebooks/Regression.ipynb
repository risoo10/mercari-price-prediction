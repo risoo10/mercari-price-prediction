{
 "cells": [
  {
   "cell_type": "code",
   "execution_count": 1,
   "metadata": {},
   "outputs": [],
   "source": [
    "import pandas as pd\n",
    "import numpy as np\n",
    "import h5py as h5"
   ]
  },
  {
   "cell_type": "code",
   "execution_count": 4,
   "metadata": {},
   "outputs": [],
   "source": [
    "x_train_store.close()\n",
    "x_val_store.close()\n",
    "y_train_store.close()\n",
    "y_val_store.close()"
   ]
  },
  {
   "cell_type": "code",
   "execution_count": 5,
   "metadata": {},
   "outputs": [],
   "source": [
    "# x_train = pd.read_hdf('train_final.h5', key=\"df\", mode=\"r\")\n",
    "# x_val = pd.read_hdf('validation_final.h5', key=\"df\", mode=\"r\")\n",
    "# y_train = pd.read_hdf('y_train.h5', key=\"df\", mode=\"r\")\n",
    "# y_val = pd.read_hdf('y_validation.h5', key=\"df\", mode=\"r\")\n",
    "\n",
    "# train_file = h5.File('train_final.h5', 'r')\n",
    "\n",
    "x_train_store = pd.HDFStore('train_final.h5')\n",
    "x_val_store = pd.HDFStore('validation_final.h5')\n",
    "y_train_store = pd.HDFStore('y_train.h5')\n",
    "y_val_store = pd.HDFStore('y_validation.h5')\n",
    "\n",
    "INPUT_SIZE = x_train_store.get_storer('df').shape[1]"
   ]
  },
  {
   "cell_type": "code",
   "execution_count": 6,
   "metadata": {},
   "outputs": [
    {
     "name": "stdout",
     "output_type": "stream",
     "text": [
      "train [640000, 2980] [640000, 1]\n",
      "validation [160000, 2980] [160000, 1]\n",
      "columns: 2980\n"
     ]
    }
   ],
   "source": [
    "print(\"train\", x_train_store.get_storer('df').shape, y_train_store.get_storer('df').shape)\n",
    "print(\"validation\", x_val_store.get_storer('df').shape, y_val_store.get_storer('df').shape)\n",
    "print(\"columns:\", INPUT_SIZE)"
   ]
  },
  {
   "cell_type": "code",
   "execution_count": 7,
   "metadata": {},
   "outputs": [],
   "source": [
    "def generator(X_store, y_store, batch_size):\n",
    "  samples_per_epoch = X_store.get_storer('df').shape[0]\n",
    "  number_of_batches = samples_per_epoch/batch_size\n",
    "  counter=0\n",
    "  \n",
    "  while 1:\n",
    "    start = batch_size * counter\n",
    "    stop = batch_size * (counter+1)\n",
    "    X_batch = X_store.select('df', start=start, stop=stop).astype('float32')\n",
    "    y_batch = y_store.select('df', start=start, stop=stop).astype('float32')\n",
    "    counter += 1\n",
    "    yield X_batch,y_batch\n",
    "\n",
    "    #restart counter to yeild data in the next epoch as well\n",
    "    if counter >= number_of_batches:\n",
    "        counter = 0"
   ]
  },
  {
   "cell_type": "markdown",
   "metadata": {},
   "source": [
    "## Training MLP"
   ]
  },
  {
   "cell_type": "code",
   "execution_count": 24,
   "metadata": {},
   "outputs": [],
   "source": [
    "import keras\n",
    "import tensorflow as tf\n",
    "from keras.models import Sequential\n",
    "from keras.layers import Dense\n",
    "from keras.callbacks import ModelCheckpoint, TensorBoard\n",
    "from keras.regularizers import l2\n",
    "from keras import backend as K\n"
   ]
  },
  {
   "cell_type": "code",
   "execution_count": null,
   "metadata": {},
   "outputs": [],
   "source": [
    "# from keras import backend as K\n",
    "# K.tensorflow_backend._get_available_gpus()"
   ]
  },
  {
   "cell_type": "code",
   "execution_count": null,
   "metadata": {},
   "outputs": [],
   "source": [
    "# sess = tf.Session(config=tf.ConfigProto(log_device_placement=True))"
   ]
  },
  {
   "cell_type": "code",
   "execution_count": 25,
   "metadata": {},
   "outputs": [],
   "source": [
    "def rmsle(y_true, y_pred):\n",
    "    return K.sqrt(K.mean(K.square(K.log(1 + y_pred) - K.log(1 + y_true)))) "
   ]
  },
  {
   "cell_type": "code",
   "execution_count": 30,
   "metadata": {},
   "outputs": [
    {
     "name": "stdout",
     "output_type": "stream",
     "text": [
      "_________________________________________________________________\n",
      "Layer (type)                 Output Shape              Param #   \n",
      "=================================================================\n",
      "dense_14 (Dense)             (None, 196)               584276    \n",
      "_________________________________________________________________\n",
      "dense_15 (Dense)             (None, 64)                12608     \n",
      "_________________________________________________________________\n",
      "dense_16 (Dense)             (None, 1)                 65        \n",
      "=================================================================\n",
      "Total params: 596,949\n",
      "Trainable params: 596,949\n",
      "Non-trainable params: 0\n",
      "_________________________________________________________________\n"
     ]
    }
   ],
   "source": [
    "MODEL = \"MLP-196H-64H\"\n",
    "HIDDEN_SIZE = (196, 64)\n",
    "l2_reg = l2(0.0001)\n",
    "\n",
    "model = Sequential()\n",
    "model.add(Dense(HIDDEN_SIZE[0], input_dim=INPUT_SIZE, kernel_initializer='normal', kernel_regularizer=l2_reg, bias_regularizer=l2_reg, activation='relu'))\n",
    "model.add(Dense(HIDDEN_SIZE[1], kernel_initializer='normal', kernel_regularizer=l2_reg, bias_regularizer=l2_reg, activation='relu'))\n",
    "model.add(Dense(1, activation='linear', kernel_regularizer=l2_reg, bias_regularizer=l2_reg))\n",
    "model.summary()\n",
    "\n",
    "model.compile(loss=rmsle, optimizer='adam', metrics=['mse','mae'])"
   ]
  },
  {
   "cell_type": "code",
   "execution_count": 31,
   "metadata": {},
   "outputs": [
    {
     "name": "stdout",
     "output_type": "stream",
     "text": [
      "Epoch 1/15\n",
      "640/640 [==============================] - 135s 211ms/step - loss: 0.7183 - mean_squared_error: 1401.7418 - mean_absolute_error: 14.4637 - val_loss: 0.6027 - val_mean_squared_error: 1273.7186 - val_mean_absolute_error: 13.0877\n",
      "\n",
      "Epoch 00001: val_loss improved from inf to 0.60267, saving model to ./models/checkpoint/MLP-196H-64H.hdf5\n",
      "Epoch 2/15\n",
      "640/640 [==============================] - 139s 217ms/step - loss: 0.5893 - mean_squared_error: 1239.0261 - mean_absolute_error: 12.8006 - val_loss: 0.5803 - val_mean_squared_error: 1220.4673 - val_mean_absolute_error: 12.6026\n",
      "\n",
      "Epoch 00002: val_loss improved from 0.60267 to 0.58026, saving model to ./models/checkpoint/MLP-196H-64H.hdf5\n",
      "Epoch 3/15\n",
      "640/640 [==============================] - 143s 224ms/step - loss: 0.5739 - mean_squared_error: 1195.7607 - mean_absolute_error: 12.4735 - val_loss: 0.5703 - val_mean_squared_error: 1190.7200 - val_mean_absolute_error: 12.3903\n",
      "\n",
      "Epoch 00003: val_loss improved from 0.58026 to 0.57031, saving model to ./models/checkpoint/MLP-196H-64H.hdf5\n",
      "Epoch 4/15\n",
      "640/640 [==============================] - 137s 214ms/step - loss: 0.5655 - mean_squared_error: 1171.3245 - mean_absolute_error: 12.3024 - val_loss: 0.5642 - val_mean_squared_error: 1170.1245 - val_mean_absolute_error: 12.2723\n",
      "\n",
      "Epoch 00004: val_loss improved from 0.57031 to 0.56425, saving model to ./models/checkpoint/MLP-196H-64H.hdf5\n",
      "Epoch 5/15\n",
      "640/640 [==============================] - 150s 235ms/step - loss: 0.5598 - mean_squared_error: 1153.9304 - mean_absolute_error: 12.1867 - val_loss: 0.5601 - val_mean_squared_error: 1154.9489 - val_mean_absolute_error: 12.1883\n",
      "\n",
      "Epoch 00005: val_loss improved from 0.56425 to 0.56006, saving model to ./models/checkpoint/MLP-196H-64H.hdf5\n",
      "Epoch 6/15\n",
      "640/640 [==============================] - 147s 229ms/step - loss: 0.5556 - mean_squared_error: 1140.6924 - mean_absolute_error: 12.0999 - val_loss: 0.5571 - val_mean_squared_error: 1142.5036 - val_mean_absolute_error: 12.1226\n",
      "\n",
      "Epoch 00006: val_loss improved from 0.56006 to 0.55706, saving model to ./models/checkpoint/MLP-196H-64H.hdf5\n",
      "Epoch 7/15\n",
      "640/640 [==============================] - 143s 223ms/step - loss: 0.5524 - mean_squared_error: 1129.6875 - mean_absolute_error: 12.0294 - val_loss: 0.5548 - val_mean_squared_error: 1133.5024 - val_mean_absolute_error: 12.0675\n",
      "\n",
      "Epoch 00007: val_loss improved from 0.55706 to 0.55478, saving model to ./models/checkpoint/MLP-196H-64H.hdf5\n",
      "Epoch 8/15\n",
      "640/640 [==============================] - 142s 222ms/step - loss: 0.5499 - mean_squared_error: 1120.3755 - mean_absolute_error: 11.9713 - val_loss: 0.5533 - val_mean_squared_error: 1124.5433 - val_mean_absolute_error: 12.0245\n",
      "\n",
      "Epoch 00008: val_loss improved from 0.55478 to 0.55325, saving model to ./models/checkpoint/MLP-196H-64H.hdf5\n",
      "Epoch 9/15\n",
      "640/640 [==============================] - 145s 227ms/step - loss: 0.5481 - mean_squared_error: 1112.4873 - mean_absolute_error: 11.9236 - val_loss: 0.5522 - val_mean_squared_error: 1118.2682 - val_mean_absolute_error: 11.9918\n",
      "\n",
      "Epoch 00009: val_loss improved from 0.55325 to 0.55218, saving model to ./models/checkpoint/MLP-196H-64H.hdf5\n",
      "Epoch 10/15\n",
      "640/640 [==============================] - 144s 226ms/step - loss: 0.5466 - mean_squared_error: 1106.1344 - mean_absolute_error: 11.8850 - val_loss: 0.5515 - val_mean_squared_error: 1112.8951 - val_mean_absolute_error: 11.9633\n",
      "\n",
      "Epoch 00010: val_loss improved from 0.55218 to 0.55145, saving model to ./models/checkpoint/MLP-196H-64H.hdf5\n",
      "Epoch 11/15\n",
      "640/640 [==============================] - 151s 236ms/step - loss: 0.5454 - mean_squared_error: 1100.6636 - mean_absolute_error: 11.8514 - val_loss: 0.5508 - val_mean_squared_error: 1109.0725 - val_mean_absolute_error: 11.9405\n",
      "\n",
      "Epoch 00011: val_loss improved from 0.55145 to 0.55082, saving model to ./models/checkpoint/MLP-196H-64H.hdf5\n",
      "Epoch 12/15\n",
      "640/640 [==============================] - 146s 228ms/step - loss: 0.5445 - mean_squared_error: 1096.1089 - mean_absolute_error: 11.8234 - val_loss: 0.5504 - val_mean_squared_error: 1104.2120 - val_mean_absolute_error: 11.9234\n",
      "\n",
      "Epoch 00012: val_loss improved from 0.55082 to 0.55037, saving model to ./models/checkpoint/MLP-196H-64H.hdf5\n",
      "Epoch 13/15\n",
      "640/640 [==============================] - 148s 230ms/step - loss: 0.5437 - mean_squared_error: 1092.1767 - mean_absolute_error: 11.7986 - val_loss: 0.5501 - val_mean_squared_error: 1099.6345 - val_mean_absolute_error: 11.9074\n",
      "\n",
      "Epoch 00013: val_loss improved from 0.55037 to 0.55012, saving model to ./models/checkpoint/MLP-196H-64H.hdf5\n",
      "Epoch 14/15\n",
      "640/640 [==============================] - 158s 246ms/step - loss: 0.5431 - mean_squared_error: 1088.7242 - mean_absolute_error: 11.7763 - val_loss: 0.5499 - val_mean_squared_error: 1097.8819 - val_mean_absolute_error: 11.8906\n",
      "\n",
      "Epoch 00014: val_loss improved from 0.55012 to 0.54987, saving model to ./models/checkpoint/MLP-196H-64H.hdf5\n",
      "Epoch 15/15\n",
      "640/640 [==============================] - 152s 237ms/step - loss: 0.5425 - mean_squared_error: 1085.8097 - mean_absolute_error: 11.7565 - val_loss: 0.5498 - val_mean_squared_error: 1095.6824 - val_mean_absolute_error: 11.8798\n",
      "\n",
      "Epoch 00015: val_loss improved from 0.54987 to 0.54983, saving model to ./models/checkpoint/MLP-196H-64H.hdf5\n"
     ]
    }
   ],
   "source": [
    "EPOCHS = 50\n",
    "BATCH_SIZE = 1000\n",
    "\n",
    "model_checkpoint = ModelCheckpoint(f'./models/checkpoint/{MODEL}.hdf5', monitor='val_loss', verbose=1, save_best_only=True)\n",
    "tensorboard_clbck = TensorBoard(log_dir='./tensorboard', histogram_freq=0, write_graph=True, write_images=True)\n",
    "\n",
    "train_gen = generator(x_train_store, y_train_store, batch_size=BATCH_SIZE)\n",
    "valid_gen = generator(x_val_store, y_val_store, batch_size=BATCH_SIZE)\n",
    "\n",
    "# model.fit(x_train, y_train, batch_size=1000, epochs=100, validation_data=(x_val, y_val), callbacks=[model_checkpoint])\n",
    "\n",
    "history = model.fit_generator(\n",
    "    generator=train_gen,\n",
    "    epochs=EPOCHS,\n",
    "    verbose=1,\n",
    "    steps_per_epoch=x_train_store.get_storer('df').shape[0] // BATCH_SIZE,\n",
    "    validation_data=valid_gen,\n",
    "    validation_steps=x_val_store.get_storer('df').shape[0] // BATCH_SIZE,\n",
    "    callbacks=[model_checkpoint, tensorboard_clbck])"
   ]
  },
  {
   "cell_type": "code",
   "execution_count": null,
   "metadata": {},
   "outputs": [],
   "source": []
  },
  {
   "cell_type": "code",
   "execution_count": null,
   "metadata": {},
   "outputs": [],
   "source": []
  },
  {
   "cell_type": "code",
   "execution_count": null,
   "metadata": {},
   "outputs": [],
   "source": []
  }
 ],
 "metadata": {
  "kernelspec": {
   "display_name": "Python 3",
   "language": "python",
   "name": "python3"
  },
  "language_info": {
   "codemirror_mode": {
    "name": "ipython",
    "version": 3
   },
   "file_extension": ".py",
   "mimetype": "text/x-python",
   "name": "python",
   "nbconvert_exporter": "python",
   "pygments_lexer": "ipython3",
   "version": "3.7.3"
  }
 },
 "nbformat": 4,
 "nbformat_minor": 2
}
